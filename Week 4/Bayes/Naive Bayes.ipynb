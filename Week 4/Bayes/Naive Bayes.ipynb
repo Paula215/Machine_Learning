{
 "cells": [
  {
   "cell_type": "markdown",
   "metadata": {},
   "source": [
    "# Naive Bayes"
   ]
  },
  {
   "cell_type": "markdown",
   "metadata": {},
   "source": [
    "### Docente: M.Sc. Richard Fernández "
   ]
  },
  {
   "cell_type": "markdown",
   "metadata": {},
   "source": [
    "### Comprensión del negocio"
   ]
  },
  {
   "cell_type": "markdown",
   "metadata": {},
   "source": [
    "Objetivo del negocio: Incrementar la tasa de conversión de clientes que compran mediante la visualización de publicidad en redes sociales."
   ]
  },
  {
   "cell_type": "markdown",
   "metadata": {},
   "source": [
    "Objetivo de ML: Predecir la probabilidad de que un cliente compre un producto mediante la visualización de la publicidad en redes sociales."
   ]
  },
  {
   "cell_type": "markdown",
   "metadata": {},
   "source": [
    "### Comprensión de los datos"
   ]
  },
  {
   "cell_type": "code",
   "execution_count": 2,
   "metadata": {},
   "outputs": [],
   "source": [
    "import pandas as pd\n",
    "import matplotlib.pyplot as plt\n",
    "import seaborn as sns\n",
    "import numpy as np\n",
    "import scipy.stats as ss\n",
    "\n",
    "from scipy.stats import chi2_contingency\n",
    "\n",
    "from sklearn.model_selection import train_test_split\n",
    "\n",
    "from sklearn.naive_bayes import GaussianNB\n",
    "\n",
    "from sklearn.metrics import confusion_matrix\n",
    "from sklearn.metrics import ConfusionMatrixDisplay\n",
    "from sklearn.metrics import roc_curve, auc, roc_auc_score\n",
    "\n",
    "from sklearn.preprocessing import StandardScaler\n",
    "from sklearn.preprocessing import LabelEncoder"
   ]
  },
  {
   "cell_type": "code",
   "execution_count": 3,
   "metadata": {},
   "outputs": [],
   "source": [
    "data = pd.read_csv('Social_Network_Ads.csv')"
   ]
  },
  {
   "cell_type": "code",
   "execution_count": 4,
   "metadata": {},
   "outputs": [
    {
     "data": {
      "text/html": [
       "<div>\n",
       "<style scoped>\n",
       "    .dataframe tbody tr th:only-of-type {\n",
       "        vertical-align: middle;\n",
       "    }\n",
       "\n",
       "    .dataframe tbody tr th {\n",
       "        vertical-align: top;\n",
       "    }\n",
       "\n",
       "    .dataframe thead th {\n",
       "        text-align: right;\n",
       "    }\n",
       "</style>\n",
       "<table border=\"1\" class=\"dataframe\">\n",
       "  <thead>\n",
       "    <tr style=\"text-align: right;\">\n",
       "      <th></th>\n",
       "      <th>User ID</th>\n",
       "      <th>Gender</th>\n",
       "      <th>Age</th>\n",
       "      <th>EstimatedSalary</th>\n",
       "      <th>Purchased</th>\n",
       "    </tr>\n",
       "  </thead>\n",
       "  <tbody>\n",
       "    <tr>\n",
       "      <th>0</th>\n",
       "      <td>15624510</td>\n",
       "      <td>Male</td>\n",
       "      <td>19</td>\n",
       "      <td>19000</td>\n",
       "      <td>0</td>\n",
       "    </tr>\n",
       "    <tr>\n",
       "      <th>1</th>\n",
       "      <td>15810944</td>\n",
       "      <td>Male</td>\n",
       "      <td>35</td>\n",
       "      <td>20000</td>\n",
       "      <td>0</td>\n",
       "    </tr>\n",
       "    <tr>\n",
       "      <th>2</th>\n",
       "      <td>15668575</td>\n",
       "      <td>Female</td>\n",
       "      <td>26</td>\n",
       "      <td>43000</td>\n",
       "      <td>0</td>\n",
       "    </tr>\n",
       "    <tr>\n",
       "      <th>3</th>\n",
       "      <td>15603246</td>\n",
       "      <td>Female</td>\n",
       "      <td>27</td>\n",
       "      <td>57000</td>\n",
       "      <td>0</td>\n",
       "    </tr>\n",
       "    <tr>\n",
       "      <th>4</th>\n",
       "      <td>15804002</td>\n",
       "      <td>Male</td>\n",
       "      <td>19</td>\n",
       "      <td>76000</td>\n",
       "      <td>0</td>\n",
       "    </tr>\n",
       "  </tbody>\n",
       "</table>\n",
       "</div>"
      ],
      "text/plain": [
       "    User ID  Gender  Age  EstimatedSalary  Purchased\n",
       "0  15624510    Male   19            19000          0\n",
       "1  15810944    Male   35            20000          0\n",
       "2  15668575  Female   26            43000          0\n",
       "3  15603246  Female   27            57000          0\n",
       "4  15804002    Male   19            76000          0"
      ]
     },
     "execution_count": 4,
     "metadata": {},
     "output_type": "execute_result"
    }
   ],
   "source": [
    "data.head(5)"
   ]
  },
  {
   "cell_type": "code",
   "execution_count": 5,
   "metadata": {},
   "outputs": [
    {
     "data": {
      "text/plain": [
       "User ID             int64\n",
       "Gender             object\n",
       "Age                 int64\n",
       "EstimatedSalary     int64\n",
       "Purchased           int64\n",
       "dtype: object"
      ]
     },
     "execution_count": 5,
     "metadata": {},
     "output_type": "execute_result"
    }
   ],
   "source": [
    "data.dtypes"
   ]
  },
  {
   "cell_type": "code",
   "execution_count": 6,
   "metadata": {},
   "outputs": [],
   "source": [
    "#data['Purchased'] = data.Purchased.astype(object)"
   ]
  },
  {
   "cell_type": "code",
   "execution_count": 7,
   "metadata": {},
   "outputs": [
    {
     "data": {
      "text/plain": [
       "User ID             int64\n",
       "Gender             object\n",
       "Age                 int64\n",
       "EstimatedSalary     int64\n",
       "Purchased           int64\n",
       "dtype: object"
      ]
     },
     "execution_count": 7,
     "metadata": {},
     "output_type": "execute_result"
    }
   ],
   "source": [
    "data.dtypes"
   ]
  },
  {
   "cell_type": "code",
   "execution_count": 8,
   "metadata": {},
   "outputs": [
    {
     "data": {
      "image/png": "[encoded data removed]",
      "text/plain": [
       "<Figure size 640x480 with 1 Axes>"
      ]
     },
     "metadata": {},
     "output_type": "display_data"
    }
   ],
   "source": [
    "sns.countplot(data = data, x = 'Purchased')\n",
    "plt.xlabel('Purchased', fontsize = 15)\n",
    "plt.title('¿Cuántos usuarios han optado por comprar?', fontsize = 15)\n",
    "plt.show()"
   ]
  },
  {
   "cell_type": "code",
   "execution_count": 9,
   "metadata": {
    "scrolled": true
   },
   "outputs": [
    {
     "data": {
      "image/png": "[encoded data removed]",
      "text/plain": [
       "<Figure size 640x480 with 1 Axes>"
      ]
     },
     "metadata": {},
     "output_type": "display_data"
    }
   ],
   "source": [
    "sns.boxplot(x='Purchased',y='Age',data=data)\n",
    "plt.show()"
   ]
  },
  {
   "cell_type": "code",
   "execution_count": 10,
   "metadata": {
    "scrolled": true
   },
   "outputs": [
    {
     "data": {
      "image/png": "[encoded data removed]",
      "text/plain": [
       "<Figure size 640x480 with 1 Axes>"
      ]
     },
     "metadata": {},
     "output_type": "display_data"
    }
   ],
   "source": [
    "sns.boxplot(x='Purchased',y='EstimatedSalary',data=data)\n",
    "plt.show()"
   ]
  },
  {
   "cell_type": "code",
   "execution_count": 11,
   "metadata": {},
   "outputs": [],
   "source": [
    "# Test Levene\n",
    "\n",
    "#Ho: los datos proceden de distribuciones con la misma varianza\n",
    "#Ha: los datos no proceden de distribuciones con la misma varianza\n",
    "\n",
    "#Si pvalor < 5% => Se rechaza Ho, al 95% de confianza, los datos no proceden de distribuciones con la misma varianza\n",
    "#Si pvalor > 5% => No se rechaza Ho, al 95% de confianza, los datos proceden de distribuciones con la misma varianza"
   ]
  },
  {
   "cell_type": "code",
   "execution_count": 12,
   "metadata": {},
   "outputs": [
    {
     "data": {
      "text/plain": [
       "LeveneResult(statistic=0.26588211332236605, pvalue=0.6063938626686647)"
      ]
     },
     "execution_count": 12,
     "metadata": {},
     "output_type": "execute_result"
    }
   ],
   "source": [
    "#Purchased vs Age\n",
    "\n",
    "age_compra = data.loc[data.Purchased == 1, 'Age']\n",
    "age_nocompra = data.loc[data.Purchased == 0, 'Age']\n",
    "\n",
    "levene_test = ss.levene(age_compra, age_nocompra, center='median')\n",
    "levene_test"
   ]
  },
  {
   "cell_type": "code",
   "execution_count": 13,
   "metadata": {},
   "outputs": [
    {
     "data": {
      "text/plain": [
       "LeveneResult(statistic=86.4905079209833, pvalue=9.462053663249117e-19)"
      ]
     },
     "execution_count": 13,
     "metadata": {},
     "output_type": "execute_result"
    }
   ],
   "source": [
    "#Purchased vs EstimatedSalary\n",
    "\n",
    "salario_compra = data.loc[data.Purchased == 1, 'EstimatedSalary']\n",
    "salario_nocompra = data.loc[data.Purchased == 0, 'EstimatedSalary']\n",
    "\n",
    "levene_test = ss.levene(salario_compra, salario_nocompra, center='median')\n",
    "levene_test"
   ]
  },
  {
   "cell_type": "code",
   "execution_count": 14,
   "metadata": {},
   "outputs": [
    {
     "name": "stdout",
     "output_type": "stream",
     "text": [
      "Collecting pingouin\n",
      "  Downloading pingouin-0.5.5-py3-none-any.whl.metadata (19 kB)\n",
      "Requirement already satisfied: matplotlib in c:\\users\\msi\\anaconda3\\envs\\spacy\\lib\\site-packages (from pingouin) (3.7.2)\n",
      "Requirement already satisfied: numpy in c:\\users\\msi\\anaconda3\\envs\\spacy\\lib\\site-packages (from pingouin) (1.24.3)\n",
      "Requirement already satisfied: pandas>=1.5 in c:\\users\\msi\\anaconda3\\envs\\spacy\\lib\\site-packages (from pingouin) (2.0.3)\n",
      "Collecting pandas-flavor (from pingouin)\n",
      "  Downloading pandas_flavor-0.6.0-py3-none-any.whl.metadata (6.3 kB)\n",
      "Requirement already satisfied: scikit-learn>=1.2 in c:\\users\\msi\\anaconda3\\envs\\spacy\\lib\\site-packages (from pingouin) (1.2.2)\n",
      "Requirement already satisfied: scipy in c:\\users\\msi\\anaconda3\\envs\\spacy\\lib\\site-packages (from pingouin) (1.10.1)\n",
      "Requirement already satisfied: seaborn in c:\\users\\msi\\anaconda3\\envs\\spacy\\lib\\site-packages (from pingouin) (0.13.2)\n",
      "Collecting statsmodels (from pingouin)\n",
      "  Downloading statsmodels-0.14.1-cp38-cp38-win_amd64.whl.metadata (9.8 kB)\n",
      "Collecting tabulate (from pingouin)\n",
      "  Downloading tabulate-0.9.0-py3-none-any.whl.metadata (34 kB)\n",
      "Requirement already satisfied: python-dateutil>=2.8.2 in c:\\users\\msi\\anaconda3\\envs\\spacy\\lib\\site-packages (from pandas>=1.5->pingouin) (2.9.0.post0)\n",
      "Requirement already satisfied: pytz>=2020.1 in c:\\users\\msi\\anaconda3\\envs\\spacy\\lib\\site-packages (from pandas>=1.5->pingouin) (2024.1)\n",
      "Requirement already satisfied: tzdata>=2022.1 in c:\\users\\msi\\anaconda3\\envs\\spacy\\lib\\site-packages (from pandas>=1.5->pingouin) (2023.3)\n",
      "Requirement already satisfied: joblib>=1.1.1 in c:\\users\\msi\\anaconda3\\envs\\spacy\\lib\\site-packages (from scikit-learn>=1.2->pingouin) (1.4.2)\n",
      "Requirement already satisfied: threadpoolctl>=2.0.0 in c:\\users\\msi\\anaconda3\\envs\\spacy\\lib\\site-packages (from scikit-learn>=1.2->pingouin) (2.2.0)\n",
      "Requirement already satisfied: contourpy>=1.0.1 in c:\\users\\msi\\anaconda3\\envs\\spacy\\lib\\site-packages (from matplotlib->pingouin) (1.0.5)\n",
      "Requirement already satisfied: cycler>=0.10 in c:\\users\\msi\\anaconda3\\envs\\spacy\\lib\\site-packages (from matplotlib->pingouin) (0.11.0)\n",
      "Requirement already satisfied: fonttools>=4.22.0 in c:\\users\\msi\\anaconda3\\envs\\spacy\\lib\\site-packages (from matplotlib->pingouin) (4.51.0)\n",
      "Requirement already satisfied: kiwisolver>=1.0.1 in c:\\users\\msi\\anaconda3\\envs\\spacy\\lib\\site-packages (from matplotlib->pingouin) (1.4.4)\n",
      "Requirement already satisfied: packaging>=20.0 in c:\\users\\msi\\anaconda3\\envs\\spacy\\lib\\site-packages (from matplotlib->pingouin) (24.1)\n",
      "Requirement already satisfied: pillow>=6.2.0 in c:\\users\\msi\\anaconda3\\envs\\spacy\\lib\\site-packages (from matplotlib->pingouin) (10.3.0)\n",
      "Requirement already satisfied: pyparsing<3.1,>=2.3.1 in c:\\users\\msi\\anaconda3\\envs\\spacy\\lib\\site-packages (from matplotlib->pingouin) (3.0.9)\n",
      "Requirement already satisfied: importlib-resources>=3.2.0 in c:\\users\\msi\\anaconda3\\envs\\spacy\\lib\\site-packages (from matplotlib->pingouin) (6.1.1)\n",
      "Collecting xarray (from pandas-flavor->pingouin)\n",
      "  Downloading xarray-2023.1.0-py3-none-any.whl.metadata (6.2 kB)\n",
      "Collecting patsy>=0.5.4 (from statsmodels->pingouin)\n",
      "  Using cached patsy-0.5.6-py2.py3-none-any.whl.metadata (3.5 kB)\n",
      "Requirement already satisfied: zipp>=3.1.0 in c:\\users\\msi\\anaconda3\\envs\\spacy\\lib\\site-packages (from importlib-resources>=3.2.0->matplotlib->pingouin) (3.19.2)\n",
      "Requirement already satisfied: six in c:\\users\\msi\\anaconda3\\envs\\spacy\\lib\\site-packages (from patsy>=0.5.4->statsmodels->pingouin) (1.16.0)\n",
      "Downloading pingouin-0.5.5-py3-none-any.whl (204 kB)\n",
      "   ---------------------------------------- 0.0/204.4 kB ? eta -:--:--\n",
      "   -- ------------------------------------- 10.2/204.4 kB ? eta -:--:--\n",
      "   ----- --------------------------------- 30.7/204.4 kB 660.6 kB/s eta 0:00:01\n",
      "   ----------- --------------------------- 61.4/204.4 kB 544.7 kB/s eta 0:00:01\n",
      "   --------------- ----------------------- 81.9/204.4 kB 573.4 kB/s eta 0:00:01\n",
      "   --------------- ----------------------- 81.9/204.4 kB 573.4 kB/s eta 0:00:01\n",
      "   ----------------- --------------------- 92.2/204.4 kB 403.5 kB/s eta 0:00:01\n",
      "   ----------------- --------------------- 92.2/204.4 kB 403.5 kB/s eta 0:00:01\n",
      "   ----------------- --------------------- 92.2/204.4 kB 403.5 kB/s eta 0:00:01\n",
      "   ----------------- --------------------- 92.2/204.4 kB 403.5 kB/s eta 0:00:01\n",
      "   ----------------- --------------------- 92.2/204.4 kB 403.5 kB/s eta 0:00:01\n",
      "   ----------------- --------------------- 92.2/204.4 kB 403.5 kB/s eta 0:00:01\n",
      "   ----------------- --------------------- 92.2/204.4 kB 403.5 kB/s eta 0:00:01\n",
      "   ----------------- --------------------- 92.2/204.4 kB 403.5 kB/s eta 0:00:01\n",
      "   ----------------- --------------------- 92.2/204.4 kB 403.5 kB/s eta 0:00:01\n",
      "   -------------------- ----------------- 112.6/204.4 kB 156.1 kB/s eta 0:00:01\n",
      "   -------------------- ----------------- 112.6/204.4 kB 156.1 kB/s eta 0:00:01\n",
      "   ------------------------------ ------- 163.8/204.4 kB 200.5 kB/s eta 0:00:01\n",
      "   ------------------------------ ------- 163.8/204.4 kB 200.5 kB/s eta 0:00:01\n",
      "   -------------------------------- ----- 174.1/204.4 kB 201.5 kB/s eta 0:00:01\n",
      "   -------------------------------------- 204.4/204.4 kB 214.3 kB/s eta 0:00:00\n",
      "Downloading pandas_flavor-0.6.0-py3-none-any.whl (7.2 kB)\n",
      "Downloading statsmodels-0.14.1-cp38-cp38-win_amd64.whl (10.0 MB)\n",
      "   ---------------------------------------- 0.0/10.0 MB ? eta -:--:--\n",
      "   ---------------------------------------- 0.0/10.0 MB ? eta -:--:--\n",
      "   ---------------------------------------- 0.0/10.0 MB ? eta -:--:--\n",
      "   ---------------------------------------- 0.0/10.0 MB ? eta -:--:--\n",
      "   ---------------------------------------- 0.0/10.0 MB ? eta -:--:--\n",
      "   ---------------------------------------- 0.0/10.0 MB ? eta -:--:--\n",
      "   ---------------------------------------- 0.0/10.0 MB ? eta -:--:--\n",
      "   ---------------------------------------- 0.0/10.0 MB ? eta -:--:--\n",
      "   ---------------------------------------- 0.0/10.0 MB ? eta -:--:--\n",
      "   ---------------------------------------- 0.0/10.0 MB ? eta -:--:--\n",
      "   ---------------------------------------- 0.0/10.0 MB ? eta -:--:--\n",
      "   ---------------------------------------- 0.0/10.0 MB ? eta -:--:--\n",
      "   ---------------------------------------- 0.0/10.0 MB ? eta -:--:--\n",
      "   ---------------------------------------- 0.0/10.0 MB 109.5 kB/s eta 0:01:32\n",
      "   ---------------------------------------- 0.0/10.0 MB 109.5 kB/s eta 0:01:32\n",
      "   ---------------------------------------- 0.0/10.0 MB 109.3 kB/s eta 0:01:32\n",
      "   ---------------------------------------- 0.1/10.0 MB 142.6 kB/s eta 0:01:10\n",
      "   ---------------------------------------- 0.1/10.0 MB 142.6 kB/s eta 0:01:10\n",
      "   ---------------------------------------- 0.1/10.0 MB 140.6 kB/s eta 0:01:11\n",
      "   ---------------------------------------- 0.1/10.0 MB 174.7 kB/s eta 0:00:57\n",
      "   ---------------------------------------- 0.1/10.0 MB 192.8 kB/s eta 0:00:52\n",
      "   ---------------------------------------- 0.1/10.0 MB 194.9 kB/s eta 0:00:51\n",
      "   ---------------------------------------- 0.1/10.0 MB 194.9 kB/s eta 0:00:51\n",
      "   ---------------------------------------- 0.1/10.0 MB 194.9 kB/s eta 0:00:51\n",
      "   ---------------------------------------- 0.1/10.0 MB 194.9 kB/s eta 0:00:51\n",
      "   ---------------------------------------- 0.1/10.0 MB 194.9 kB/s eta 0:00:51\n",
      "   ---------------------------------------- 0.1/10.0 MB 194.9 kB/s eta 0:00:51\n",
      "   ---------------------------------------- 0.1/10.0 MB 194.9 kB/s eta 0:00:51\n",
      "   ---------------------------------------- 0.1/10.0 MB 194.9 kB/s eta 0:00:51\n",
      "   ---------------------------------------- 0.1/10.0 MB 194.9 kB/s eta 0:00:51\n",
      "   ---------------------------------------- 0.1/10.0 MB 194.9 kB/s eta 0:00:51\n",
      "   ---------------------------------------- 0.1/10.0 MB 194.9 kB/s eta 0:00:51\n",
      "   ---------------------------------------- 0.1/10.0 MB 194.9 kB/s eta 0:00:51\n",
      "   ---------------------------------------- 0.1/10.0 MB 194.9 kB/s eta 0:00:51\n",
      "   ---------------------------------------- 0.1/10.0 MB 194.9 kB/s eta 0:00:51\n",
      "   ---------------------------------------- 0.1/10.0 MB 194.9 kB/s eta 0:00:51\n",
      "   ---------------------------------------- 0.1/10.0 MB 194.9 kB/s eta 0:00:51\n",
      "   ---------------------------------------- 0.1/10.0 MB 194.9 kB/s eta 0:00:51\n",
      "   ---------------------------------------- 0.1/10.0 MB 194.9 kB/s eta 0:00:51\n",
      "   ---------------------------------------- 0.1/10.0 MB 194.9 kB/s eta 0:00:51\n",
      "   ---------------------------------------- 0.1/10.0 MB 194.9 kB/s eta 0:00:51\n",
      "   ---------------------------------------- 0.1/10.0 MB 194.9 kB/s eta 0:00:51\n",
      "   ---------------------------------------- 0.1/10.0 MB 194.9 kB/s eta 0:00:51\n",
      "   ---------------------------------------- 0.1/10.0 MB 194.9 kB/s eta 0:00:51\n",
      "    --------------------------------------- 0.1/10.0 MB 79.6 kB/s eta 0:02:05\n",
      "    --------------------------------------- 0.1/10.0 MB 79.6 kB/s eta 0:02:05\n",
      "    --------------------------------------- 0.1/10.0 MB 79.6 kB/s eta 0:02:05\n",
      "    --------------------------------------- 0.1/10.0 MB 79.6 kB/s eta 0:02:05\n",
      "    --------------------------------------- 0.1/10.0 MB 79.6 kB/s eta 0:02:05\n",
      "    --------------------------------------- 0.2/10.0 MB 76.5 kB/s eta 0:02:10\n",
      "    --------------------------------------- 0.2/10.0 MB 86.0 kB/s eta 0:01:55\n",
      "    --------------------------------------- 0.2/10.0 MB 86.0 kB/s eta 0:01:55\n",
      "    --------------------------------------- 0.2/10.0 MB 91.4 kB/s eta 0:01:48\n",
      "    --------------------------------------- 0.2/10.0 MB 93.6 kB/s eta 0:01:45\n",
      "    --------------------------------------- 0.2/10.0 MB 93.6 kB/s eta 0:01:45\n",
      "    --------------------------------------- 0.2/10.0 MB 99.7 kB/s eta 0:01:39\n",
      "    --------------------------------------- 0.2/10.0 MB 99.7 kB/s eta 0:01:39\n",
      "    --------------------------------------- 0.2/10.0 MB 100.8 kB/s eta 0:01:38\n",
      "   - -------------------------------------- 0.3/10.0 MB 105.6 kB/s eta 0:01:33\n",
      "   - -------------------------------------- 0.3/10.0 MB 105.6 kB/s eta 0:01:33\n",
      "   - -------------------------------------- 0.3/10.0 MB 112.1 kB/s eta 0:01:27\n",
      "   - -------------------------------------- 0.3/10.0 MB 112.7 kB/s eta 0:01:27\n",
      "   - -------------------------------------- 0.3/10.0 MB 112.7 kB/s eta 0:01:27\n",
      "   - -------------------------------------- 0.3/10.0 MB 118.0 kB/s eta 0:01:23\n",
      "   - -------------------------------------- 0.3/10.0 MB 118.4 kB/s eta 0:01:22\n",
      "   - -------------------------------------- 0.3/10.0 MB 124.1 kB/s eta 0:01:19\n",
      "   - -------------------------------------- 0.4/10.0 MB 129.6 kB/s eta 0:01:15\n",
      "   - -------------------------------------- 0.4/10.0 MB 129.6 kB/s eta 0:01:15\n",
      "   - -------------------------------------- 0.4/10.0 MB 129.6 kB/s eta 0:01:15\n",
      "   - -------------------------------------- 0.4/10.0 MB 129.6 kB/s eta 0:01:15\n",
      "   - -------------------------------------- 0.4/10.0 MB 129.6 kB/s eta 0:01:15\n",
      "   - -------------------------------------- 0.4/10.0 MB 129.6 kB/s eta 0:01:15\n",
      "   - -------------------------------------- 0.4/10.0 MB 129.6 kB/s eta 0:01:15\n",
      "   - -------------------------------------- 0.4/10.0 MB 129.6 kB/s eta 0:01:15\n",
      "   - -------------------------------------- 0.4/10.0 MB 129.6 kB/s eta 0:01:15\n",
      "   - -------------------------------------- 0.4/10.0 MB 129.6 kB/s eta 0:01:15\n",
      "   - -------------------------------------- 0.4/10.0 MB 129.6 kB/s eta 0:01:15\n",
      "   - -------------------------------------- 0.4/10.0 MB 129.6 kB/s eta 0:01:15\n",
      "   - -------------------------------------- 0.4/10.0 MB 129.6 kB/s eta 0:01:15\n",
      "   - -------------------------------------- 0.4/10.0 MB 129.6 kB/s eta 0:01:15\n",
      "   - -------------------------------------- 0.4/10.0 MB 129.6 kB/s eta 0:01:15\n",
      "   - -------------------------------------- 0.4/10.0 MB 129.6 kB/s eta 0:01:15\n",
      "   - -------------------------------------- 0.4/10.0 MB 129.6 kB/s eta 0:01:15\n",
      "   - -------------------------------------- 0.4/10.0 MB 129.6 kB/s eta 0:01:15\n",
      "   - -------------------------------------- 0.4/10.0 MB 129.6 kB/s eta 0:01:15\n",
      "   - -------------------------------------- 0.4/10.0 MB 129.6 kB/s eta 0:01:15\n",
      "   - -------------------------------------- 0.4/10.0 MB 129.6 kB/s eta 0:01:15\n",
      "   - -------------------------------------- 0.4/10.0 MB 129.6 kB/s eta 0:01:15\n",
      "   - -------------------------------------- 0.4/10.0 MB 129.6 kB/s eta 0:01:15\n",
      "   - -------------------------------------- 0.4/10.0 MB 129.6 kB/s eta 0:01:15\n",
      "   - -------------------------------------- 0.4/10.0 MB 129.6 kB/s eta 0:01:15\n",
      "   - -------------------------------------- 0.4/10.0 MB 129.6 kB/s eta 0:01:15\n",
      "   - -------------------------------------- 0.4/10.0 MB 129.6 kB/s eta 0:01:15\n",
      "   - -------------------------------------- 0.4/10.0 MB 129.6 kB/s eta 0:01:15\n",
      "   - -------------------------------------- 0.4/10.0 MB 129.6 kB/s eta 0:01:15\n",
      "   - -------------------------------------- 0.4/10.0 MB 129.6 kB/s eta 0:01:15\n",
      "   - -------------------------------------- 0.4/10.0 MB 129.6 kB/s eta 0:01:15\n",
      "   - -------------------------------------- 0.4/10.0 MB 129.6 kB/s eta 0:01:15\n",
      "   - -------------------------------------- 0.4/10.0 MB 129.6 kB/s eta 0:01:15\n",
      "   - -------------------------------------- 0.4/10.0 MB 129.6 kB/s eta 0:01:15\n",
      "   - -------------------------------------- 0.4/10.0 MB 129.6 kB/s eta 0:01:15\n",
      "   - -------------------------------------- 0.4/10.0 MB 129.6 kB/s eta 0:01:15\n",
      "   - -------------------------------------- 0.4/10.0 MB 129.6 kB/s eta 0:01:15\n",
      "   - -------------------------------------- 0.4/10.0 MB 129.6 kB/s eta 0:01:15\n",
      "   - -------------------------------------- 0.4/10.0 MB 129.6 kB/s eta 0:01:15\n",
      "   - -------------------------------------- 0.4/10.0 MB 129.6 kB/s eta 0:01:15\n",
      "   - -------------------------------------- 0.4/10.0 MB 129.6 kB/s eta 0:01:15\n",
      "   - -------------------------------------- 0.4/10.0 MB 129.6 kB/s eta 0:01:15\n",
      "   - -------------------------------------- 0.4/10.0 MB 129.6 kB/s eta 0:01:15\n",
      "   - -------------------------------------- 0.4/10.0 MB 129.6 kB/s eta 0:01:15\n",
      "   - -------------------------------------- 0.4/10.0 MB 129.6 kB/s eta 0:01:15\n",
      "   - -------------------------------------- 0.4/10.0 MB 129.6 kB/s eta 0:01:15\n",
      "   - -------------------------------------- 0.4/10.0 MB 129.6 kB/s eta 0:01:15\n",
      "   - -------------------------------------- 0.4/10.0 MB 129.6 kB/s eta 0:01:15\n",
      "   - -------------------------------------- 0.4/10.0 MB 129.6 kB/s eta 0:01:15\n",
      "   - -------------------------------------- 0.4/10.0 MB 129.6 kB/s eta 0:01:15\n",
      "   - -------------------------------------- 0.4/10.0 MB 129.6 kB/s eta 0:01:15\n",
      "   - -------------------------------------- 0.4/10.0 MB 129.6 kB/s eta 0:01:15\n",
      "   - -------------------------------------- 0.4/10.0 MB 129.6 kB/s eta 0:01:15\n",
      "   - -------------------------------------- 0.4/10.0 MB 129.6 kB/s eta 0:01:15\n",
      "   - -------------------------------------- 0.4/10.0 MB 129.6 kB/s eta 0:01:15\n",
      "   - -------------------------------------- 0.4/10.0 MB 129.6 kB/s eta 0:01:15\n",
      "   - -------------------------------------- 0.4/10.0 MB 129.6 kB/s eta 0:01:15\n",
      "   - -------------------------------------- 0.4/10.0 MB 129.6 kB/s eta 0:01:15\n",
      "   - -------------------------------------- 0.4/10.0 MB 129.6 kB/s eta 0:01:15\n",
      "   - -------------------------------------- 0.4/10.0 MB 129.6 kB/s eta 0:01:15\n",
      "   - -------------------------------------- 0.4/10.0 MB 129.6 kB/s eta 0:01:15\n",
      "   - -------------------------------------- 0.4/10.0 MB 129.6 kB/s eta 0:01:15\n",
      "   - -------------------------------------- 0.4/10.0 MB 129.6 kB/s eta 0:01:15\n",
      "   - -------------------------------------- 0.4/10.0 MB 129.6 kB/s eta 0:01:15\n",
      "   - -------------------------------------- 0.4/10.0 MB 129.6 kB/s eta 0:01:15\n",
      "   - -------------------------------------- 0.4/10.0 MB 129.6 kB/s eta 0:01:15\n",
      "   - -------------------------------------- 0.4/10.0 MB 129.6 kB/s eta 0:01:15\n",
      "   - -------------------------------------- 0.4/10.0 MB 129.6 kB/s eta 0:01:15\n",
      "   - -------------------------------------- 0.4/10.0 MB 129.6 kB/s eta 0:01:15\n",
      "   - -------------------------------------- 0.4/10.0 MB 129.6 kB/s eta 0:01:15\n",
      "   - -------------------------------------- 0.4/10.0 MB 129.6 kB/s eta 0:01:15\n",
      "   - -------------------------------------- 0.4/10.0 MB 58.1 kB/s eta 0:02:47\n",
      "   - -------------------------------------- 0.4/10.0 MB 58.1 kB/s eta 0:02:47\n",
      "   - -------------------------------------- 0.4/10.0 MB 58.1 kB/s eta 0:02:47\n",
      "   - -------------------------------------- 0.4/10.0 MB 58.1 kB/s eta 0:02:47\n",
      "   - -------------------------------------- 0.4/10.0 MB 58.1 kB/s eta 0:02:47\n",
      "   - -------------------------------------- 0.4/10.0 MB 58.1 kB/s eta 0:02:47\n",
      "   - -------------------------------------- 0.4/10.0 MB 58.1 kB/s eta 0:02:47\n",
      "   - -------------------------------------- 0.4/10.0 MB 58.1 kB/s eta 0:02:47\n",
      "   - -------------------------------------- 0.4/10.0 MB 58.1 kB/s eta 0:02:47\n",
      "   - -------------------------------------- 0.4/10.0 MB 58.1 kB/s eta 0:02:47\n",
      "   - -------------------------------------- 0.4/10.0 MB 58.1 kB/s eta 0:02:47\n",
      "   - -------------------------------------- 0.4/10.0 MB 58.1 kB/s eta 0:02:47\n",
      "   - -------------------------------------- 0.4/10.0 MB 58.1 kB/s eta 0:02:47\n",
      "   - -------------------------------------- 0.4/10.0 MB 58.1 kB/s eta 0:02:47\n",
      "   - -------------------------------------- 0.4/10.0 MB 58.1 kB/s eta 0:02:47\n",
      "   - -------------------------------------- 0.4/10.0 MB 58.1 kB/s eta 0:02:47\n",
      "   - -------------------------------------- 0.4/10.0 MB 58.1 kB/s eta 0:02:47\n",
      "   - -------------------------------------- 0.4/10.0 MB 58.1 kB/s eta 0:02:47\n",
      "   - -------------------------------------- 0.4/10.0 MB 58.1 kB/s eta 0:02:47\n",
      "   - -------------------------------------- 0.4/10.0 MB 58.1 kB/s eta 0:02:47\n",
      "   - -------------------------------------- 0.4/10.0 MB 58.1 kB/s eta 0:02:47\n",
      "   - -------------------------------------- 0.4/10.0 MB 58.1 kB/s eta 0:02:47\n",
      "   - -------------------------------------- 0.4/10.0 MB 58.1 kB/s eta 0:02:47\n",
      "   - -------------------------------------- 0.4/10.0 MB 58.1 kB/s eta 0:02:47\n",
      "   - -------------------------------------- 0.4/10.0 MB 58.1 kB/s eta 0:02:47\n",
      "   - -------------------------------------- 0.4/10.0 MB 58.1 kB/s eta 0:02:47\n",
      "   - -------------------------------------- 0.4/10.0 MB 58.1 kB/s eta 0:02:47\n",
      "   - -------------------------------------- 0.4/10.0 MB 58.1 kB/s eta 0:02:47\n",
      "   - -------------------------------------- 0.4/10.0 MB 58.1 kB/s eta 0:02:47\n",
      "   - -------------------------------------- 0.4/10.0 MB 58.1 kB/s eta 0:02:47\n",
      "   - -------------------------------------- 0.4/10.0 MB 58.1 kB/s eta 0:02:47\n",
      "   - -------------------------------------- 0.4/10.0 MB 58.1 kB/s eta 0:02:47\n",
      "   - -------------------------------------- 0.4/10.0 MB 58.1 kB/s eta 0:02:47\n",
      "   - -------------------------------------- 0.4/10.0 MB 58.1 kB/s eta 0:02:47\n",
      "   - -------------------------------------- 0.4/10.0 MB 58.1 kB/s eta 0:02:47\n",
      "   - -------------------------------------- 0.4/10.0 MB 58.1 kB/s eta 0:02:47\n",
      "   - -------------------------------------- 0.4/10.0 MB 58.1 kB/s eta 0:02:47\n",
      "   - -------------------------------------- 0.4/10.0 MB 58.1 kB/s eta 0:02:47\n",
      "   - -------------------------------------- 0.4/10.0 MB 58.1 kB/s eta 0:02:47\n",
      "   - -------------------------------------- 0.4/10.0 MB 58.1 kB/s eta 0:02:47\n",
      "   - -------------------------------------- 0.4/10.0 MB 58.1 kB/s eta 0:02:47\n",
      "   - -------------------------------------- 0.4/10.0 MB 58.1 kB/s eta 0:02:47\n",
      "   - -------------------------------------- 0.4/10.0 MB 58.1 kB/s eta 0:02:47\n",
      "   - -------------------------------------- 0.4/10.0 MB 58.1 kB/s eta 0:02:47\n",
      "   - -------------------------------------- 0.4/10.0 MB 58.1 kB/s eta 0:02:47\n",
      "   - -------------------------------------- 0.4/10.0 MB 58.1 kB/s eta 0:02:47\n",
      "   - -------------------------------------- 0.4/10.0 MB 58.1 kB/s eta 0:02:47\n",
      "   - -------------------------------------- 0.4/10.0 MB 58.1 kB/s eta 0:02:47\n",
      "   - -------------------------------------- 0.4/10.0 MB 58.1 kB/s eta 0:02:47\n",
      "   - -------------------------------------- 0.4/10.0 MB 58.1 kB/s eta 0:02:47\n",
      "   - -------------------------------------- 0.4/10.0 MB 58.1 kB/s eta 0:02:47\n",
      "   - -------------------------------------- 0.4/10.0 MB 58.1 kB/s eta 0:02:47\n",
      "   - -------------------------------------- 0.4/10.0 MB 58.1 kB/s eta 0:02:47\n",
      "   - -------------------------------------- 0.4/10.0 MB 58.1 kB/s eta 0:02:47\n",
      "   - -------------------------------------- 0.4/10.0 MB 58.1 kB/s eta 0:02:47\n",
      "   - -------------------------------------- 0.4/10.0 MB 58.1 kB/s eta 0:02:47\n",
      "   - -------------------------------------- 0.4/10.0 MB 42.9 kB/s eta 0:03:45\n",
      "   - -------------------------------------- 0.4/10.0 MB 42.9 kB/s eta 0:03:45\n",
      "   - -------------------------------------- 0.4/10.0 MB 42.9 kB/s eta 0:03:45\n",
      "   - -------------------------------------- 0.4/10.0 MB 42.9 kB/s eta 0:03:45\n",
      "   - -------------------------------------- 0.4/10.0 MB 42.9 kB/s eta 0:03:45\n",
      "   - -------------------------------------- 0.4/10.0 MB 42.9 kB/s eta 0:03:45\n",
      "   - -------------------------------------- 0.4/10.0 MB 42.9 kB/s eta 0:03:45\n",
      "   - -------------------------------------- 0.4/10.0 MB 42.9 kB/s eta 0:03:45\n",
      "   - -------------------------------------- 0.4/10.0 MB 42.9 kB/s eta 0:03:45\n",
      "   - -------------------------------------- 0.4/10.0 MB 42.9 kB/s eta 0:03:45\n",
      "   - -------------------------------------- 0.4/10.0 MB 42.9 kB/s eta 0:03:45\n",
      "   - -------------------------------------- 0.4/10.0 MB 42.9 kB/s eta 0:03:45\n",
      "   - -------------------------------------- 0.4/10.0 MB 42.9 kB/s eta 0:03:45\n",
      "   - -------------------------------------- 0.4/10.0 MB 42.9 kB/s eta 0:03:45\n",
      "   - -------------------------------------- 0.4/10.0 MB 41.1 kB/s eta 0:03:55\n",
      "   - -------------------------------------- 0.4/10.0 MB 41.1 kB/s eta 0:03:55\n",
      "   - -------------------------------------- 0.4/10.0 MB 41.1 kB/s eta 0:03:55\n",
      "   - -------------------------------------- 0.4/10.0 MB 41.1 kB/s eta 0:03:55\n",
      "   - -------------------------------------- 0.4/10.0 MB 41.1 kB/s eta 0:03:55\n",
      "   - -------------------------------------- 0.4/10.0 MB 41.1 kB/s eta 0:03:55\n",
      "   - -------------------------------------- 0.4/10.0 MB 41.1 kB/s eta 0:03:55\n",
      "   - -------------------------------------- 0.4/10.0 MB 41.1 kB/s eta 0:03:55\n",
      "   - -------------------------------------- 0.4/10.0 MB 41.1 kB/s eta 0:03:55\n",
      "   - -------------------------------------- 0.4/10.0 MB 41.1 kB/s eta 0:03:55\n",
      "   - -------------------------------------- 0.4/10.0 MB 41.1 kB/s eta 0:03:55\n",
      "   - -------------------------------------- 0.4/10.0 MB 41.1 kB/s eta 0:03:55\n",
      "   - -------------------------------------- 0.4/10.0 MB 41.1 kB/s eta 0:03:55\n",
      "   - -------------------------------------- 0.4/10.0 MB 41.1 kB/s eta 0:03:55\n",
      "   - -------------------------------------- 0.4/10.0 MB 41.1 kB/s eta 0:03:55\n",
      "   - -------------------------------------- 0.4/10.0 MB 41.1 kB/s eta 0:03:55\n",
      "   - -------------------------------------- 0.4/10.0 MB 41.1 kB/s eta 0:03:55\n",
      "   - -------------------------------------- 0.4/10.0 MB 39.6 kB/s eta 0:04:03\n",
      "   - -------------------------------------- 0.4/10.0 MB 39.6 kB/s eta 0:04:03\n",
      "   - -------------------------------------- 0.4/10.0 MB 39.6 kB/s eta 0:04:03\n",
      "   - -------------------------------------- 0.4/10.0 MB 39.6 kB/s eta 0:04:03\n",
      "   - -------------------------------------- 0.4/10.0 MB 39.6 kB/s eta 0:04:03\n",
      "   - -------------------------------------- 0.4/10.0 MB 40.7 kB/s eta 0:03:56\n",
      "   - -------------------------------------- 0.4/10.0 MB 40.7 kB/s eta 0:03:56\n",
      "   - -------------------------------------- 0.4/10.0 MB 40.7 kB/s eta 0:03:56\n",
      "   - -------------------------------------- 0.4/10.0 MB 40.7 kB/s eta 0:03:56\n",
      "   - -------------------------------------- 0.4/10.0 MB 40.7 kB/s eta 0:03:56\n",
      "   - -------------------------------------- 0.4/10.0 MB 40.7 kB/s eta 0:03:56\n",
      "   - -------------------------------------- 0.5/10.0 MB 40.4 kB/s eta 0:03:58\n",
      "   - -------------------------------------- 0.5/10.0 MB 40.4 kB/s eta 0:03:58\n",
      "   - -------------------------------------- 0.5/10.0 MB 40.4 kB/s eta 0:03:58\n",
      "   - -------------------------------------- 0.5/10.0 MB 40.4 kB/s eta 0:03:58\n",
      "   - -------------------------------------- 0.5/10.0 MB 40.4 kB/s eta 0:03:58\n",
      "   - -------------------------------------- 0.5/10.0 MB 40.4 kB/s eta 0:03:58\n",
      "   - -------------------------------------- 0.5/10.0 MB 40.4 kB/s eta 0:03:58\n",
      "   - -------------------------------------- 0.5/10.0 MB 40.4 kB/s eta 0:03:58\n",
      "   - -------------------------------------- 0.5/10.0 MB 40.4 kB/s eta 0:03:58\n",
      "   - -------------------------------------- 0.5/10.0 MB 40.6 kB/s eta 0:03:56\n",
      "   - -------------------------------------- 0.5/10.0 MB 40.6 kB/s eta 0:03:56\n",
      "   - -------------------------------------- 0.5/10.0 MB 40.6 kB/s eta 0:03:56\n",
      "   - -------------------------------------- 0.5/10.0 MB 40.6 kB/s eta 0:03:56\n",
      "   - -------------------------------------- 0.5/10.0 MB 40.6 kB/s eta 0:03:56\n",
      "   - -------------------------------------- 0.5/10.0 MB 40.6 kB/s eta 0:03:56\n",
      "   - -------------------------------------- 0.5/10.0 MB 40.6 kB/s eta 0:03:56\n",
      "   - -------------------------------------- 0.5/10.0 MB 40.6 kB/s eta 0:03:56\n",
      "   - -------------------------------------- 0.5/10.0 MB 40.6 kB/s eta 0:03:56\n",
      "   - -------------------------------------- 0.5/10.0 MB 40.6 kB/s eta 0:03:56\n",
      "   - -------------------------------------- 0.5/10.0 MB 40.6 kB/s eta 0:03:56\n",
      "   - -------------------------------------- 0.5/10.0 MB 40.6 kB/s eta 0:03:56\n",
      "   - -------------------------------------- 0.5/10.0 MB 40.6 kB/s eta 0:03:56\n",
      "   - -------------------------------------- 0.5/10.0 MB 40.6 kB/s eta 0:03:56\n",
      "   - -------------------------------------- 0.5/10.0 MB 40.6 kB/s eta 0:03:56\n",
      "   - -------------------------------------- 0.5/10.0 MB 40.6 kB/s eta 0:03:56\n",
      "   - -------------------------------------- 0.5/10.0 MB 40.6 kB/s eta 0:03:56\n",
      "   - -------------------------------------- 0.5/10.0 MB 38.8 kB/s eta 0:04:06\n",
      "   - -------------------------------------- 0.5/10.0 MB 38.8 kB/s eta 0:04:06\n",
      "   - -------------------------------------- 0.5/10.0 MB 38.8 kB/s eta 0:04:06\n",
      "   - -------------------------------------- 0.5/10.0 MB 38.8 kB/s eta 0:04:06\n",
      "   - -------------------------------------- 0.5/10.0 MB 38.8 kB/s eta 0:04:06\n",
      "   - -------------------------------------- 0.5/10.0 MB 38.8 kB/s eta 0:04:06\n",
      "   -- ------------------------------------- 0.5/10.0 MB 39.6 kB/s eta 0:04:01\n",
      "   -- ------------------------------------- 0.5/10.0 MB 39.6 kB/s eta 0:04:01\n",
      "   -- ------------------------------------- 0.5/10.0 MB 39.6 kB/s eta 0:04:01\n",
      "   -- ------------------------------------- 0.5/10.0 MB 39.6 kB/s eta 0:04:01\n",
      "   -- ------------------------------------- 0.5/10.0 MB 39.6 kB/s eta 0:04:01\n",
      "   -- ------------------------------------- 0.5/10.0 MB 39.6 kB/s eta 0:04:01\n",
      "   -- ------------------------------------- 0.5/10.0 MB 39.6 kB/s eta 0:04:01\n",
      "   -- ------------------------------------- 0.5/10.0 MB 39.6 kB/s eta 0:04:01\n",
      "   -- ------------------------------------- 0.5/10.0 MB 39.6 kB/s eta 0:04:01\n",
      "   -- ------------------------------------- 0.5/10.0 MB 39.6 kB/s eta 0:04:01\n",
      "   -- ------------------------------------- 0.5/10.0 MB 39.6 kB/s eta 0:04:01\n",
      "   -- ------------------------------------- 0.5/10.0 MB 39.6 kB/s eta 0:04:01\n",
      "   -- ------------------------------------- 0.5/10.0 MB 39.6 kB/s eta 0:04:01\n",
      "   -- ------------------------------------- 0.5/10.0 MB 39.6 kB/s eta 0:04:01\n",
      "   -- ------------------------------------- 0.5/10.0 MB 39.6 kB/s eta 0:04:01\n",
      "   -- ------------------------------------- 0.5/10.0 MB 39.6 kB/s eta 0:04:01\n",
      "   -- ------------------------------------- 0.5/10.0 MB 39.6 kB/s eta 0:04:01\n",
      "   -- ------------------------------------- 0.5/10.0 MB 38.6 kB/s eta 0:04:07\n",
      "   -- ------------------------------------- 0.5/10.0 MB 38.6 kB/s eta 0:04:07\n",
      "   -- ------------------------------------- 0.5/10.0 MB 38.6 kB/s eta 0:04:07\n",
      "   -- ------------------------------------- 0.5/10.0 MB 38.6 kB/s eta 0:04:07\n",
      "   -- ------------------------------------- 0.5/10.0 MB 38.6 kB/s eta 0:04:07\n",
      "   -- ------------------------------------- 0.5/10.0 MB 38.6 kB/s eta 0:04:07\n",
      "   -- ------------------------------------- 0.5/10.0 MB 38.6 kB/s eta 0:04:07\n",
      "   -- ------------------------------------- 0.5/10.0 MB 38.5 kB/s eta 0:04:07\n",
      "   -- ------------------------------------- 0.5/10.0 MB 38.5 kB/s eta 0:04:07\n",
      "   -- ------------------------------------- 0.5/10.0 MB 38.5 kB/s eta 0:04:07\n",
      "   -- ------------------------------------- 0.5/10.0 MB 38.5 kB/s eta 0:04:07\n",
      "   -- ------------------------------------- 0.5/10.0 MB 38.5 kB/s eta 0:04:07\n",
      "   -- ------------------------------------- 0.5/10.0 MB 38.5 kB/s eta 0:04:07\n",
      "   -- ------------------------------------- 0.6/10.0 MB 39.2 kB/s eta 0:04:02\n",
      "   -- ------------------------------------- 0.6/10.0 MB 39.2 kB/s eta 0:04:02\n",
      "   -- ------------------------------------- 0.6/10.0 MB 39.2 kB/s eta 0:04:02\n",
      "   -- ------------------------------------- 0.6/10.0 MB 39.2 kB/s eta 0:04:02\n",
      "   -- ------------------------------------- 0.6/10.0 MB 39.4 kB/s eta 0:04:01\n",
      "   -- ------------------------------------- 0.6/10.0 MB 39.4 kB/s eta 0:04:01\n",
      "   -- ------------------------------------- 0.6/10.0 MB 39.4 kB/s eta 0:04:01\n",
      "   -- ------------------------------------- 0.6/10.0 MB 40.5 kB/s eta 0:03:54\n",
      "   -- ------------------------------------- 0.6/10.0 MB 40.5 kB/s eta 0:03:54\n",
      "   -- ------------------------------------- 0.6/10.0 MB 40.5 kB/s eta 0:03:54\n",
      "   -- ------------------------------------- 0.6/10.0 MB 40.5 kB/s eta 0:03:54\n",
      "   -- ------------------------------------- 0.6/10.0 MB 41.3 kB/s eta 0:03:49\n",
      "   -- ------------------------------------- 0.6/10.0 MB 41.3 kB/s eta 0:03:49\n",
      "   -- ------------------------------------- 0.6/10.0 MB 41.3 kB/s eta 0:03:49\n",
      "   -- ------------------------------------- 0.6/10.0 MB 41.6 kB/s eta 0:03:47\n",
      "   -- ------------------------------------- 0.6/10.0 MB 41.6 kB/s eta 0:03:47\n",
      "   -- ------------------------------------- 0.6/10.0 MB 41.6 kB/s eta 0:03:47\n",
      "   -- ------------------------------------- 0.6/10.0 MB 41.6 kB/s eta 0:03:47\n",
      "   -- ------------------------------------- 0.6/10.0 MB 41.6 kB/s eta 0:03:47\n",
      "   -- ------------------------------------- 0.6/10.0 MB 41.6 kB/s eta 0:03:47\n",
      "   -- ------------------------------------- 0.6/10.0 MB 42.2 kB/s eta 0:03:43\n",
      "   -- ------------------------------------- 0.6/10.0 MB 42.2 kB/s eta 0:03:43\n",
      "   -- ------------------------------------- 0.6/10.0 MB 42.2 kB/s eta 0:03:43\n",
      "   -- ------------------------------------- 0.6/10.0 MB 42.2 kB/s eta 0:03:43\n",
      "   -- ------------------------------------- 0.6/10.0 MB 42.4 kB/s eta 0:03:42\n",
      "   -- ------------------------------------- 0.6/10.0 MB 42.4 kB/s eta 0:03:42\n",
      "   -- ------------------------------------- 0.6/10.0 MB 42.4 kB/s eta 0:03:42\n",
      "   -- ------------------------------------- 0.7/10.0 MB 43.4 kB/s eta 0:03:36\n",
      "   -- ------------------------------------- 0.7/10.0 MB 43.4 kB/s eta 0:03:36\n",
      "   -- ------------------------------------- 0.7/10.0 MB 43.4 kB/s eta 0:03:36\n",
      "   -- ------------------------------------- 0.7/10.0 MB 44.3 kB/s eta 0:03:31\n",
      "   -- ------------------------------------- 0.7/10.0 MB 44.3 kB/s eta 0:03:31\n",
      "   -- ------------------------------------- 0.7/10.0 MB 44.6 kB/s eta 0:03:30\n",
      "   -- ------------------------------------- 0.7/10.0 MB 44.6 kB/s eta 0:03:30\n",
      "   -- ------------------------------------- 0.7/10.0 MB 44.6 kB/s eta 0:03:30\n",
      "   -- ------------------------------------- 0.7/10.0 MB 45.6 kB/s eta 0:03:24\n",
      "   -- ------------------------------------- 0.7/10.0 MB 45.6 kB/s eta 0:03:24\n",
      "   -- ------------------------------------- 0.7/10.0 MB 46.0 kB/s eta 0:03:23\n",
      "   -- ------------------------------------- 0.7/10.0 MB 46.0 kB/s eta 0:03:23\n",
      "   -- ------------------------------------- 0.7/10.0 MB 47.0 kB/s eta 0:03:18\n",
      "   -- ------------------------------------- 0.7/10.0 MB 47.0 kB/s eta 0:03:18\n",
      "   -- ------------------------------------- 0.7/10.0 MB 47.0 kB/s eta 0:03:18\n",
      "   --- ------------------------------------ 0.8/10.0 MB 47.9 kB/s eta 0:03:14\n",
      "   --- ------------------------------------ 0.8/10.0 MB 47.9 kB/s eta 0:03:14\n",
      "   --- ------------------------------------ 0.8/10.0 MB 48.2 kB/s eta 0:03:12\n",
      "   --- ------------------------------------ 0.8/10.0 MB 48.2 kB/s eta 0:03:12\n",
      "   --- ------------------------------------ 0.8/10.0 MB 49.2 kB/s eta 0:03:08\n",
      "   --- ------------------------------------ 0.8/10.0 MB 49.2 kB/s eta 0:03:08\n",
      "   --- ------------------------------------ 0.8/10.0 MB 49.2 kB/s eta 0:03:08\n",
      "   --- ------------------------------------ 0.8/10.0 MB 49.2 kB/s eta 0:03:08\n",
      "   --- ------------------------------------ 0.8/10.0 MB 49.2 kB/s eta 0:03:08\n",
      "   --- ------------------------------------ 0.8/10.0 MB 49.2 kB/s eta 0:03:08\n",
      "   --- ------------------------------------ 0.8/10.0 MB 49.2 kB/s eta 0:03:08\n",
      "   --- ------------------------------------ 0.8/10.0 MB 49.2 kB/s eta 0:03:08\n",
      "   --- ------------------------------------ 0.8/10.0 MB 49.2 kB/s eta 0:03:08\n",
      "   --- ------------------------------------ 0.8/10.0 MB 49.2 kB/s eta 0:03:08\n",
      "   --- ------------------------------------ 0.8/10.0 MB 49.2 kB/s eta 0:03:08\n",
      "   --- ------------------------------------ 0.8/10.0 MB 49.2 kB/s eta 0:03:08\n",
      "   --- ------------------------------------ 0.8/10.0 MB 48.1 kB/s eta 0:03:12\n",
      "   --- ------------------------------------ 0.8/10.0 MB 48.1 kB/s eta 0:03:12\n",
      "   --- ------------------------------------ 0.8/10.0 MB 48.1 kB/s eta 0:03:12\n",
      "   --- ------------------------------------ 0.8/10.0 MB 48.1 kB/s eta 0:03:12\n",
      "   --- ------------------------------------ 0.8/10.0 MB 48.9 kB/s eta 0:03:09\n",
      "   --- ------------------------------------ 0.8/10.0 MB 48.9 kB/s eta 0:03:09\n",
      "   --- ------------------------------------ 0.8/10.0 MB 49.8 kB/s eta 0:03:05\n",
      "   --- ------------------------------------ 0.8/10.0 MB 49.8 kB/s eta 0:03:05\n",
      "   --- ------------------------------------ 0.8/10.0 MB 49.8 kB/s eta 0:03:05\n",
      "   --- ------------------------------------ 0.9/10.0 MB 49.9 kB/s eta 0:03:04\n",
      "   --- ------------------------------------ 0.9/10.0 MB 49.9 kB/s eta 0:03:04\n",
      "   --- ------------------------------------ 0.9/10.0 MB 49.9 kB/s eta 0:03:04\n",
      "   --- ------------------------------------ 0.9/10.0 MB 49.9 kB/s eta 0:03:04\n",
      "   --- ------------------------------------ 0.9/10.0 MB 49.9 kB/s eta 0:03:04\n",
      "   --- ------------------------------------ 0.9/10.0 MB 49.9 kB/s eta 0:03:04\n",
      "   --- ------------------------------------ 0.9/10.0 MB 49.9 kB/s eta 0:03:04\n",
      "   --- ------------------------------------ 0.9/10.0 MB 49.9 kB/s eta 0:03:04\n",
      "   --- ------------------------------------ 0.9/10.0 MB 49.9 kB/s eta 0:03:04\n",
      "   --- ------------------------------------ 0.9/10.0 MB 49.9 kB/s eta 0:03:04\n",
      "   --- ------------------------------------ 0.9/10.0 MB 49.9 kB/s eta 0:03:04\n",
      "   --- ------------------------------------ 0.9/10.0 MB 49.9 kB/s eta 0:03:04\n",
      "   --- ------------------------------------ 0.9/10.0 MB 49.9 kB/s eta 0:03:04\n",
      "   --- ------------------------------------ 0.9/10.0 MB 49.9 kB/s eta 0:03:04\n",
      "   --- ------------------------------------ 0.9/10.0 MB 49.9 kB/s eta 0:03:04\n",
      "   --- ------------------------------------ 0.9/10.0 MB 49.9 kB/s eta 0:03:04\n",
      "   --- ------------------------------------ 0.9/10.0 MB 49.9 kB/s eta 0:03:04\n",
      "   --- ------------------------------------ 0.9/10.0 MB 49.9 kB/s eta 0:03:04\n",
      "   --- ------------------------------------ 0.9/10.0 MB 49.9 kB/s eta 0:03:04\n",
      "   --- ------------------------------------ 0.9/10.0 MB 49.9 kB/s eta 0:03:04\n",
      "   --- ------------------------------------ 0.9/10.0 MB 49.9 kB/s eta 0:03:04\n",
      "   --- ------------------------------------ 0.9/10.0 MB 49.9 kB/s eta 0:03:04\n",
      "   --- ------------------------------------ 0.9/10.0 MB 49.9 kB/s eta 0:03:04\n",
      "   --- ------------------------------------ 0.9/10.0 MB 49.9 kB/s eta 0:03:04\n",
      "   --- ------------------------------------ 0.9/10.0 MB 49.9 kB/s eta 0:03:04\n",
      "   --- ------------------------------------ 0.9/10.0 MB 49.9 kB/s eta 0:03:04\n",
      "   --- ------------------------------------ 0.9/10.0 MB 49.9 kB/s eta 0:03:04\n",
      "   --- ------------------------------------ 0.9/10.0 MB 49.9 kB/s eta 0:03:04\n",
      "   --- ------------------------------------ 0.9/10.0 MB 49.9 kB/s eta 0:03:04\n",
      "   --- ------------------------------------ 0.9/10.0 MB 49.9 kB/s eta 0:03:04\n",
      "   --- ------------------------------------ 0.9/10.0 MB 49.9 kB/s eta 0:03:04\n",
      "   --- ------------------------------------ 0.9/10.0 MB 49.9 kB/s eta 0:03:04\n",
      "   --- ------------------------------------ 0.9/10.0 MB 49.9 kB/s eta 0:03:04\n",
      "   --- ------------------------------------ 0.9/10.0 MB 49.9 kB/s eta 0:03:04\n",
      "   --- ------------------------------------ 0.9/10.0 MB 49.9 kB/s eta 0:03:04\n",
      "   --- ------------------------------------ 0.9/10.0 MB 49.9 kB/s eta 0:03:04\n",
      "   --- ------------------------------------ 0.9/10.0 MB 49.9 kB/s eta 0:03:04\n",
      "   --- ------------------------------------ 0.9/10.0 MB 49.9 kB/s eta 0:03:04\n",
      "   --- ------------------------------------ 0.9/10.0 MB 49.9 kB/s eta 0:03:04\n",
      "   --- ------------------------------------ 0.9/10.0 MB 49.9 kB/s eta 0:03:04\n",
      "   --- ------------------------------------ 0.9/10.0 MB 49.9 kB/s eta 0:03:04\n",
      "   --- ------------------------------------ 0.9/10.0 MB 49.9 kB/s eta 0:03:04\n",
      "   --- ------------------------------------ 0.9/10.0 MB 49.9 kB/s eta 0:03:04\n",
      "   --- ------------------------------------ 0.9/10.0 MB 49.9 kB/s eta 0:03:04\n",
      "   --- ------------------------------------ 0.9/10.0 MB 49.9 kB/s eta 0:03:04\n",
      "   --- ------------------------------------ 0.9/10.0 MB 49.9 kB/s eta 0:03:04\n",
      "   --- ------------------------------------ 0.9/10.0 MB 49.9 kB/s eta 0:03:04\n",
      "   --- ------------------------------------ 0.9/10.0 MB 49.9 kB/s eta 0:03:04\n",
      "   --- ------------------------------------ 0.9/10.0 MB 49.9 kB/s eta 0:03:04\n",
      "   --- ------------------------------------ 0.9/10.0 MB 49.9 kB/s eta 0:03:04\n",
      "   --- ------------------------------------ 0.9/10.0 MB 49.9 kB/s eta 0:03:04\n",
      "   --- ------------------------------------ 0.9/10.0 MB 49.9 kB/s eta 0:03:04\n",
      "   --- ------------------------------------ 0.9/10.0 MB 49.9 kB/s eta 0:03:04\n",
      "   --- ------------------------------------ 0.9/10.0 MB 49.9 kB/s eta 0:03:04\n",
      "   --- ------------------------------------ 0.9/10.0 MB 49.9 kB/s eta 0:03:04\n",
      "   --- ------------------------------------ 0.9/10.0 MB 49.9 kB/s eta 0:03:04\n",
      "   --- ------------------------------------ 0.9/10.0 MB 49.9 kB/s eta 0:03:04\n",
      "   --- ------------------------------------ 0.9/10.0 MB 49.9 kB/s eta 0:03:04\n",
      "   --- ------------------------------------ 0.9/10.0 MB 49.9 kB/s eta 0:03:04\n",
      "   --- ------------------------------------ 0.9/10.0 MB 49.9 kB/s eta 0:03:04\n",
      "   --- ------------------------------------ 0.9/10.0 MB 49.9 kB/s eta 0:03:04\n",
      "   --- ------------------------------------ 0.9/10.0 MB 49.9 kB/s eta 0:03:04\n",
      "   --- ------------------------------------ 0.9/10.0 MB 49.9 kB/s eta 0:03:04\n",
      "   --- ------------------------------------ 0.9/10.0 MB 49.9 kB/s eta 0:03:04\n",
      "   --- ------------------------------------ 0.9/10.0 MB 49.9 kB/s eta 0:03:04\n",
      "   --- ------------------------------------ 0.9/10.0 MB 49.9 kB/s eta 0:03:04\n",
      "   --- ------------------------------------ 0.9/10.0 MB 49.9 kB/s eta 0:03:04\n",
      "   --- ------------------------------------ 0.9/10.0 MB 49.9 kB/s eta 0:03:04\n",
      "   --- ------------------------------------ 0.9/10.0 MB 49.9 kB/s eta 0:03:04\n",
      "   --- ------------------------------------ 0.9/10.0 MB 49.9 kB/s eta 0:03:04\n",
      "   --- ------------------------------------ 0.9/10.0 MB 49.9 kB/s eta 0:03:04\n",
      "   --- ------------------------------------ 0.9/10.0 MB 49.9 kB/s eta 0:03:04\n",
      "   --- ------------------------------------ 0.9/10.0 MB 49.9 kB/s eta 0:03:04\n",
      "   --- ------------------------------------ 0.9/10.0 MB 49.9 kB/s eta 0:03:04\n",
      "   --- ------------------------------------ 0.9/10.0 MB 49.9 kB/s eta 0:03:04\n",
      "   --- ------------------------------------ 0.9/10.0 MB 49.9 kB/s eta 0:03:04\n",
      "   --- ------------------------------------ 0.9/10.0 MB 49.9 kB/s eta 0:03:04\n",
      "   --- ------------------------------------ 0.9/10.0 MB 49.9 kB/s eta 0:03:04\n",
      "   --- ------------------------------------ 0.9/10.0 MB 49.9 kB/s eta 0:03:04\n",
      "   --- ------------------------------------ 0.9/10.0 MB 49.9 kB/s eta 0:03:04\n",
      "   --- ------------------------------------ 0.9/10.0 MB 49.9 kB/s eta 0:03:04\n",
      "   --- ------------------------------------ 0.9/10.0 MB 49.9 kB/s eta 0:03:04\n",
      "   --- ------------------------------------ 0.9/10.0 MB 49.9 kB/s eta 0:03:04\n",
      "   --- ------------------------------------ 0.9/10.0 MB 49.9 kB/s eta 0:03:04\n",
      "   --- ------------------------------------ 0.9/10.0 MB 49.9 kB/s eta 0:03:04\n",
      "   --- ------------------------------------ 0.9/10.0 MB 49.9 kB/s eta 0:03:04\n",
      "   --- ------------------------------------ 0.9/10.0 MB 49.9 kB/s eta 0:03:04\n",
      "   --- ------------------------------------ 0.9/10.0 MB 49.9 kB/s eta 0:03:04\n",
      "   --- ------------------------------------ 0.9/10.0 MB 49.9 kB/s eta 0:03:04\n",
      "   --- ------------------------------------ 0.9/10.0 MB 49.9 kB/s eta 0:03:04\n",
      "   --- ------------------------------------ 0.9/10.0 MB 49.9 kB/s eta 0:03:04\n",
      "   --- ------------------------------------ 0.9/10.0 MB 49.9 kB/s eta 0:03:04\n",
      "   --- ------------------------------------ 0.9/10.0 MB 49.9 kB/s eta 0:03:04\n",
      "   --- ------------------------------------ 0.9/10.0 MB 49.9 kB/s eta 0:03:04\n",
      "   --- ------------------------------------ 0.9/10.0 MB 49.9 kB/s eta 0:03:04\n",
      "   --- ------------------------------------ 0.9/10.0 MB 49.9 kB/s eta 0:03:04\n",
      "   --- ------------------------------------ 0.9/10.0 MB 49.9 kB/s eta 0:03:04\n",
      "   --- ------------------------------------ 0.9/10.0 MB 49.9 kB/s eta 0:03:04\n",
      "   --- ------------------------------------ 0.9/10.0 MB 49.9 kB/s eta 0:03:04\n",
      "   --- ------------------------------------ 0.9/10.0 MB 49.9 kB/s eta 0:03:04\n",
      "   --- ------------------------------------ 0.9/10.0 MB 49.9 kB/s eta 0:03:04\n",
      "   --- ------------------------------------ 0.9/10.0 MB 49.9 kB/s eta 0:03:04\n",
      "   --- ------------------------------------ 0.9/10.0 MB 49.9 kB/s eta 0:03:04\n",
      "   --- ------------------------------------ 0.9/10.0 MB 49.9 kB/s eta 0:03:04\n",
      "   --- ------------------------------------ 0.9/10.0 MB 49.9 kB/s eta 0:03:04\n",
      "   --- ------------------------------------ 0.9/10.0 MB 49.9 kB/s eta 0:03:04\n",
      "   --- ------------------------------------ 0.9/10.0 MB 49.9 kB/s eta 0:03:04\n",
      "   --- ------------------------------------ 0.9/10.0 MB 49.9 kB/s eta 0:03:04\n",
      "   --- ------------------------------------ 0.9/10.0 MB 49.9 kB/s eta 0:03:04\n",
      "   --- ------------------------------------ 0.9/10.0 MB 49.9 kB/s eta 0:03:04\n",
      "   --- ------------------------------------ 0.9/10.0 MB 49.9 kB/s eta 0:03:04\n",
      "   --- ------------------------------------ 0.9/10.0 MB 49.9 kB/s eta 0:03:04\n",
      "   --- ------------------------------------ 0.9/10.0 MB 49.9 kB/s eta 0:03:04\n",
      "   --- ------------------------------------ 0.9/10.0 MB 49.9 kB/s eta 0:03:04\n",
      "   --- ------------------------------------ 0.9/10.0 MB 49.9 kB/s eta 0:03:04\n",
      "   --- ------------------------------------ 0.9/10.0 MB 49.9 kB/s eta 0:03:04\n",
      "   --- ------------------------------------ 0.9/10.0 MB 49.9 kB/s eta 0:03:04\n",
      "   --- ------------------------------------ 0.9/10.0 MB 49.9 kB/s eta 0:03:04\n",
      "   --- ------------------------------------ 0.9/10.0 MB 49.9 kB/s eta 0:03:04\n",
      "   --- ------------------------------------ 0.9/10.0 MB 49.9 kB/s eta 0:03:04\n",
      "   --- ------------------------------------ 0.9/10.0 MB 49.9 kB/s eta 0:03:04\n",
      "   --- ------------------------------------ 0.9/10.0 MB 49.9 kB/s eta 0:03:04\n",
      "   --- ------------------------------------ 0.9/10.0 MB 49.9 kB/s eta 0:03:04\n",
      "   --- ------------------------------------ 0.9/10.0 MB 49.9 kB/s eta 0:03:04\n",
      "   --- ------------------------------------ 0.9/10.0 MB 49.9 kB/s eta 0:03:04\n",
      "   --- ------------------------------------ 0.9/10.0 MB 49.9 kB/s eta 0:03:04\n",
      "   --- ------------------------------------ 0.9/10.0 MB 49.9 kB/s eta 0:03:04\n",
      "   --- ------------------------------------ 0.9/10.0 MB 49.9 kB/s eta 0:03:04\n",
      "   --- ------------------------------------ 0.9/10.0 MB 49.9 kB/s eta 0:03:04\n",
      "   --- ------------------------------------ 0.9/10.0 MB 49.9 kB/s eta 0:03:04\n",
      "   --- ------------------------------------ 0.9/10.0 MB 49.9 kB/s eta 0:03:04\n",
      "   --- ------------------------------------ 0.9/10.0 MB 49.9 kB/s eta 0:03:04\n",
      "   --- ------------------------------------ 0.9/10.0 MB 49.9 kB/s eta 0:03:04\n",
      "   --- ------------------------------------ 0.9/10.0 MB 49.9 kB/s eta 0:03:04\n",
      "   --- ------------------------------------ 0.9/10.0 MB 49.9 kB/s eta 0:03:04\n",
      "   --- ------------------------------------ 0.9/10.0 MB 49.9 kB/s eta 0:03:04\n",
      "   --- ------------------------------------ 0.9/10.0 MB 49.9 kB/s eta 0:03:04\n",
      "   --- ------------------------------------ 0.9/10.0 MB 49.9 kB/s eta 0:03:04\n",
      "   --- ------------------------------------ 0.9/10.0 MB 49.9 kB/s eta 0:03:04\n",
      "   --- ------------------------------------ 0.9/10.0 MB 49.9 kB/s eta 0:03:04\n",
      "   --- ------------------------------------ 0.9/10.0 MB 49.9 kB/s eta 0:03:04\n",
      "   --- ------------------------------------ 0.9/10.0 MB 49.9 kB/s eta 0:03:04\n",
      "   --- ------------------------------------ 0.9/10.0 MB 49.9 kB/s eta 0:03:04\n",
      "   --- ------------------------------------ 0.9/10.0 MB 49.9 kB/s eta 0:03:04\n",
      "   --- ------------------------------------ 0.9/10.0 MB 49.9 kB/s eta 0:03:04\n",
      "   --- ------------------------------------ 0.9/10.0 MB 49.9 kB/s eta 0:03:04\n",
      "   --- ------------------------------------ 0.9/10.0 MB 49.9 kB/s eta 0:03:04\n",
      "   --- ------------------------------------ 0.9/10.0 MB 49.9 kB/s eta 0:03:04\n",
      "   --- ------------------------------------ 0.9/10.0 MB 49.9 kB/s eta 0:03:04\n",
      "   --- ------------------------------------ 0.9/10.0 MB 49.9 kB/s eta 0:03:04\n",
      "   --- ------------------------------------ 0.9/10.0 MB 49.9 kB/s eta 0:03:04\n",
      "   --- ------------------------------------ 0.9/10.0 MB 49.9 kB/s eta 0:03:04\n",
      "   --- ------------------------------------ 0.9/10.0 MB 49.9 kB/s eta 0:03:04\n",
      "   --- ------------------------------------ 0.9/10.0 MB 49.9 kB/s eta 0:03:04\n",
      "   --- ------------------------------------ 0.9/10.0 MB 49.9 kB/s eta 0:03:04\n",
      "   --- ------------------------------------ 0.9/10.0 MB 49.9 kB/s eta 0:03:04\n",
      "   --- ------------------------------------ 0.9/10.0 MB 49.9 kB/s eta 0:03:04\n",
      "   --- ------------------------------------ 0.9/10.0 MB 49.9 kB/s eta 0:03:04\n",
      "   --- ------------------------------------ 0.9/10.0 MB 49.9 kB/s eta 0:03:04\n",
      "   --- ------------------------------------ 0.9/10.0 MB 49.9 kB/s eta 0:03:04\n",
      "   --- ------------------------------------ 0.9/10.0 MB 49.9 kB/s eta 0:03:04\n",
      "   --- ------------------------------------ 0.9/10.0 MB 49.9 kB/s eta 0:03:04\n",
      "   --- ------------------------------------ 0.9/10.0 MB 49.9 kB/s eta 0:03:04\n",
      "   --- ------------------------------------ 0.9/10.0 MB 49.9 kB/s eta 0:03:04\n",
      "   --- ------------------------------------ 0.9/10.0 MB 49.9 kB/s eta 0:03:04\n",
      "   --- ------------------------------------ 0.9/10.0 MB 49.9 kB/s eta 0:03:04\n",
      "   --- ------------------------------------ 0.9/10.0 MB 49.9 kB/s eta 0:03:04\n",
      "   --- ------------------------------------ 0.9/10.0 MB 49.9 kB/s eta 0:03:04\n",
      "   --- ------------------------------------ 0.9/10.0 MB 49.9 kB/s eta 0:03:04\n",
      "   --- ------------------------------------ 0.9/10.0 MB 49.9 kB/s eta 0:03:04\n",
      "   --- ------------------------------------ 0.9/10.0 MB 49.9 kB/s eta 0:03:04\n",
      "   --- ------------------------------------ 0.9/10.0 MB 49.9 kB/s eta 0:03:04\n",
      "   --- ------------------------------------ 0.9/10.0 MB 49.9 kB/s eta 0:03:04\n",
      "   --- ------------------------------------ 0.9/10.0 MB 49.9 kB/s eta 0:03:04\n",
      "   --- ------------------------------------ 0.9/10.0 MB 49.9 kB/s eta 0:03:04\n",
      "   --- ------------------------------------ 0.9/10.0 MB 49.9 kB/s eta 0:03:04\n",
      "   --- ------------------------------------ 0.9/10.0 MB 49.9 kB/s eta 0:03:04\n",
      "   --- ------------------------------------ 0.9/10.0 MB 49.9 kB/s eta 0:03:04\n",
      "   --- ------------------------------------ 0.9/10.0 MB 49.9 kB/s eta 0:03:04\n",
      "   --- ------------------------------------ 0.9/10.0 MB 49.9 kB/s eta 0:03:04\n",
      "   --- ------------------------------------ 0.9/10.0 MB 49.9 kB/s eta 0:03:04\n",
      "   --- ------------------------------------ 0.9/10.0 MB 49.9 kB/s eta 0:03:04\n",
      "   --- ------------------------------------ 0.9/10.0 MB 49.9 kB/s eta 0:03:04\n",
      "   --- ------------------------------------ 0.9/10.0 MB 49.9 kB/s eta 0:03:04\n",
      "   --- ------------------------------------ 0.9/10.0 MB 49.9 kB/s eta 0:03:04\n",
      "   --- ------------------------------------ 0.9/10.0 MB 49.9 kB/s eta 0:03:04\n",
      "   --- ------------------------------------ 0.9/10.0 MB 49.9 kB/s eta 0:03:04\n",
      "   --- ------------------------------------ 0.9/10.0 MB 49.9 kB/s eta 0:03:04\n",
      "   --- ------------------------------------ 0.9/10.0 MB 49.9 kB/s eta 0:03:04\n",
      "   --- ------------------------------------ 0.9/10.0 MB 49.9 kB/s eta 0:03:04\n",
      "   --- ------------------------------------ 0.9/10.0 MB 49.9 kB/s eta 0:03:04\n",
      "   --- ------------------------------------ 0.9/10.0 MB 49.9 kB/s eta 0:03:04\n",
      "   --- ------------------------------------ 0.9/10.0 MB 49.9 kB/s eta 0:03:04\n",
      "   --- ------------------------------------ 0.9/10.0 MB 49.9 kB/s eta 0:03:04\n",
      "   --- ------------------------------------ 0.9/10.0 MB 49.9 kB/s eta 0:03:04\n",
      "   --- ------------------------------------ 0.9/10.0 MB 49.9 kB/s eta 0:03:04\n",
      "   --- ------------------------------------ 0.9/10.0 MB 49.9 kB/s eta 0:03:04\n",
      "   --- ------------------------------------ 0.9/10.0 MB 49.9 kB/s eta 0:03:04\n",
      "   --- ------------------------------------ 0.9/10.0 MB 49.9 kB/s eta 0:03:04\n",
      "   --- ------------------------------------ 0.9/10.0 MB 49.9 kB/s eta 0:03:04\n",
      "   --- ------------------------------------ 0.9/10.0 MB 49.9 kB/s eta 0:03:04\n",
      "   --- ------------------------------------ 0.9/10.0 MB 49.9 kB/s eta 0:03:04\n",
      "   --- ------------------------------------ 0.9/10.0 MB 49.9 kB/s eta 0:03:04\n",
      "   --- ------------------------------------ 0.9/10.0 MB 49.9 kB/s eta 0:03:04\n",
      "   --- ------------------------------------ 0.9/10.0 MB 49.9 kB/s eta 0:03:04\n",
      "   --- ------------------------------------ 0.9/10.0 MB 49.9 kB/s eta 0:03:04\n",
      "   --- ------------------------------------ 0.9/10.0 MB 49.9 kB/s eta 0:03:04\n",
      "   --- ------------------------------------ 0.9/10.0 MB 49.9 kB/s eta 0:03:04\n",
      "   --- ------------------------------------ 0.9/10.0 MB 49.9 kB/s eta 0:03:04\n",
      "   --- ------------------------------------ 0.9/10.0 MB 49.9 kB/s eta 0:03:04\n",
      "   --- ------------------------------------ 0.9/10.0 MB 49.9 kB/s eta 0:03:04\n",
      "   --- ------------------------------------ 0.9/10.0 MB 49.9 kB/s eta 0:03:04\n",
      "   --- ------------------------------------ 0.9/10.0 MB 49.9 kB/s eta 0:03:04\n",
      "   --- ------------------------------------ 0.9/10.0 MB 49.9 kB/s eta 0:03:04\n",
      "   --- ------------------------------------ 0.9/10.0 MB 49.9 kB/s eta 0:03:04\n",
      "   --- ------------------------------------ 0.9/10.0 MB 49.9 kB/s eta 0:03:04\n",
      "   --- ------------------------------------ 0.9/10.0 MB 49.9 kB/s eta 0:03:04\n",
      "   --- ------------------------------------ 0.9/10.0 MB 49.9 kB/s eta 0:03:04\n",
      "   --- ------------------------------------ 0.9/10.0 MB 49.9 kB/s eta 0:03:04\n",
      "   --- ------------------------------------ 0.9/10.0 MB 49.9 kB/s eta 0:03:04\n",
      "   --- ------------------------------------ 0.9/10.0 MB 49.9 kB/s eta 0:03:04\n",
      "   --- ------------------------------------ 0.9/10.0 MB 49.9 kB/s eta 0:03:04\n",
      "   --- ------------------------------------ 0.9/10.0 MB 49.9 kB/s eta 0:03:04\n",
      "   --- ------------------------------------ 0.9/10.0 MB 49.9 kB/s eta 0:03:04\n",
      "   --- ------------------------------------ 0.9/10.0 MB 49.9 kB/s eta 0:03:04\n",
      "   --- ------------------------------------ 0.9/10.0 MB 49.9 kB/s eta 0:03:04\n",
      "   --- ------------------------------------ 0.9/10.0 MB 49.9 kB/s eta 0:03:04\n",
      "   --- ------------------------------------ 0.9/10.0 MB 49.9 kB/s eta 0:03:04\n",
      "   --- ------------------------------------ 0.9/10.0 MB 49.9 kB/s eta 0:03:04\n",
      "   --- ------------------------------------ 0.9/10.0 MB 49.9 kB/s eta 0:03:04\n",
      "   --- ------------------------------------ 0.9/10.0 MB 49.9 kB/s eta 0:03:04\n",
      "   --- ------------------------------------ 0.9/10.0 MB 49.9 kB/s eta 0:03:04\n",
      "   --- ------------------------------------ 0.9/10.0 MB 49.9 kB/s eta 0:03:04\n",
      "   --- ------------------------------------ 0.9/10.0 MB 49.9 kB/s eta 0:03:04\n",
      "   --- ------------------------------------ 0.9/10.0 MB 49.9 kB/s eta 0:03:04\n",
      "   --- ------------------------------------ 0.9/10.0 MB 49.9 kB/s eta 0:03:04\n",
      "   --- ------------------------------------ 0.9/10.0 MB 49.9 kB/s eta 0:03:04\n",
      "   --- ------------------------------------ 0.9/10.0 MB 49.9 kB/s eta 0:03:04\n",
      "   --- ------------------------------------ 0.9/10.0 MB 49.9 kB/s eta 0:03:04\n",
      "   --- ------------------------------------ 0.9/10.0 MB 49.9 kB/s eta 0:03:04\n",
      "   --- ------------------------------------ 0.9/10.0 MB 49.9 kB/s eta 0:03:04\n",
      "   --- ------------------------------------ 0.9/10.0 MB 49.9 kB/s eta 0:03:04\n",
      "   --- ------------------------------------ 0.9/10.0 MB 49.9 kB/s eta 0:03:04\n",
      "   --- ------------------------------------ 0.9/10.0 MB 49.9 kB/s eta 0:03:04\n",
      "   --- ------------------------------------ 0.9/10.0 MB 49.9 kB/s eta 0:03:04\n",
      "   --- ------------------------------------ 0.9/10.0 MB 49.9 kB/s eta 0:03:04\n",
      "   --- ------------------------------------ 0.9/10.0 MB 49.9 kB/s eta 0:03:04\n",
      "   --- ------------------------------------ 0.9/10.0 MB 49.9 kB/s eta 0:03:04\n",
      "   --- ------------------------------------ 0.9/10.0 MB 49.9 kB/s eta 0:03:04\n",
      "   --- ------------------------------------ 0.9/10.0 MB 49.9 kB/s eta 0:03:04\n",
      "   --- ------------------------------------ 0.9/10.0 MB 49.9 kB/s eta 0:03:04\n",
      "   --- ------------------------------------ 0.9/10.0 MB 49.9 kB/s eta 0:03:04\n",
      "   --- ------------------------------------ 0.9/10.0 MB 49.9 kB/s eta 0:03:04\n",
      "   --- ------------------------------------ 0.9/10.0 MB 49.9 kB/s eta 0:03:04\n",
      "   --- ------------------------------------ 0.9/10.0 MB 49.9 kB/s eta 0:03:04\n",
      "   --- ------------------------------------ 0.9/10.0 MB 49.9 kB/s eta 0:03:04\n",
      "   --- ------------------------------------ 0.9/10.0 MB 49.9 kB/s eta 0:03:04\n",
      "   --- ------------------------------------ 0.9/10.0 MB 49.9 kB/s eta 0:03:04\n",
      "   --- ------------------------------------ 0.9/10.0 MB 49.9 kB/s eta 0:03:04\n",
      "   --- ------------------------------------ 0.9/10.0 MB 49.9 kB/s eta 0:03:04\n",
      "   --- ------------------------------------ 0.9/10.0 MB 49.9 kB/s eta 0:03:04\n",
      "   --- ------------------------------------ 0.9/10.0 MB 49.9 kB/s eta 0:03:04\n",
      "   --- ------------------------------------ 0.9/10.0 MB 49.9 kB/s eta 0:03:04\n",
      "   --- ------------------------------------ 0.9/10.0 MB 49.9 kB/s eta 0:03:04\n",
      "   --- ------------------------------------ 0.9/10.0 MB 49.9 kB/s eta 0:03:04\n",
      "   --- ------------------------------------ 0.9/10.0 MB 49.9 kB/s eta 0:03:04\n",
      "   --- ------------------------------------ 0.9/10.0 MB 49.9 kB/s eta 0:03:04\n",
      "   --- ------------------------------------ 0.9/10.0 MB 49.9 kB/s eta 0:03:04\n",
      "   --- ------------------------------------ 0.9/10.0 MB 49.9 kB/s eta 0:03:04\n",
      "   --- ------------------------------------ 0.9/10.0 MB 49.9 kB/s eta 0:03:04\n",
      "   --- ------------------------------------ 0.9/10.0 MB 49.9 kB/s eta 0:03:04\n",
      "   --- ------------------------------------ 0.9/10.0 MB 49.9 kB/s eta 0:03:04\n",
      "   --- ------------------------------------ 0.9/10.0 MB 49.9 kB/s eta 0:03:04\n",
      "   --- ------------------------------------ 0.9/10.0 MB 49.9 kB/s eta 0:03:04\n",
      "   --- ------------------------------------ 0.9/10.0 MB 49.9 kB/s eta 0:03:04\n",
      "   --- ------------------------------------ 0.9/10.0 MB 49.9 kB/s eta 0:03:04\n",
      "   --- ------------------------------------ 0.9/10.0 MB 49.9 kB/s eta 0:03:04\n",
      "   --- ------------------------------------ 0.9/10.0 MB 49.9 kB/s eta 0:03:04\n",
      "   --- ------------------------------------ 0.9/10.0 MB 49.9 kB/s eta 0:03:04\n",
      "   --- ------------------------------------ 0.9/10.0 MB 49.9 kB/s eta 0:03:04\n",
      "   --- ------------------------------------ 0.9/10.0 MB 49.9 kB/s eta 0:03:04\n",
      "   --- ------------------------------------ 0.9/10.0 MB 49.9 kB/s eta 0:03:04\n",
      "   --- ------------------------------------ 0.9/10.0 MB 49.9 kB/s eta 0:03:04\n",
      "   --- ------------------------------------ 0.9/10.0 MB 49.9 kB/s eta 0:03:04\n",
      "   --- ------------------------------------ 0.9/10.0 MB 49.9 kB/s eta 0:03:04\n",
      "   --- ------------------------------------ 0.9/10.0 MB 49.9 kB/s eta 0:03:04\n",
      "   --- ------------------------------------ 0.9/10.0 MB 49.9 kB/s eta 0:03:04\n",
      "   --- ------------------------------------ 0.9/10.0 MB 49.9 kB/s eta 0:03:04\n",
      "   --- ------------------------------------ 0.9/10.0 MB 49.9 kB/s eta 0:03:04\n",
      "   --- ------------------------------------ 0.9/10.0 MB 49.9 kB/s eta 0:03:04\n",
      "   --- ------------------------------------ 0.9/10.0 MB 49.9 kB/s eta 0:03:04\n",
      "   --- ------------------------------------ 0.9/10.0 MB 49.9 kB/s eta 0:03:04\n",
      "   --- ------------------------------------ 0.9/10.0 MB 49.9 kB/s eta 0:03:04\n",
      "   --- ------------------------------------ 0.9/10.0 MB 49.9 kB/s eta 0:03:04\n",
      "   --- ------------------------------------ 0.9/10.0 MB 49.9 kB/s eta 0:03:04\n",
      "   --- ------------------------------------ 0.9/10.0 MB 49.9 kB/s eta 0:03:04\n",
      "   --- ------------------------------------ 0.9/10.0 MB 49.9 kB/s eta 0:03:04\n",
      "   --- ------------------------------------ 0.9/10.0 MB 49.9 kB/s eta 0:03:04\n",
      "   --- ------------------------------------ 0.9/10.0 MB 49.9 kB/s eta 0:03:04\n",
      "   --- ------------------------------------ 0.9/10.0 MB 49.9 kB/s eta 0:03:04\n",
      "   --- ------------------------------------ 0.9/10.0 MB 49.9 kB/s eta 0:03:04\n",
      "   --- ------------------------------------ 0.9/10.0 MB 49.9 kB/s eta 0:03:04\n",
      "   --- ------------------------------------ 0.9/10.0 MB 49.9 kB/s eta 0:03:04\n",
      "   --- ------------------------------------ 0.9/10.0 MB 49.9 kB/s eta 0:03:04\n",
      "   --- ------------------------------------ 0.9/10.0 MB 49.9 kB/s eta 0:03:04\n",
      "   --- ------------------------------------ 0.9/10.0 MB 49.9 kB/s eta 0:03:04\n",
      "   --- ------------------------------------ 0.9/10.0 MB 49.9 kB/s eta 0:03:04\n",
      "   --- ------------------------------------ 0.9/10.0 MB 49.9 kB/s eta 0:03:04\n",
      "   --- ------------------------------------ 0.9/10.0 MB 49.9 kB/s eta 0:03:04\n",
      "   --- ------------------------------------ 0.9/10.0 MB 49.9 kB/s eta 0:03:04\n",
      "   --- ------------------------------------ 0.9/10.0 MB 49.9 kB/s eta 0:03:04\n",
      "   --- ------------------------------------ 0.9/10.0 MB 49.9 kB/s eta 0:03:04\n",
      "   --- ------------------------------------ 0.9/10.0 MB 49.9 kB/s eta 0:03:04\n",
      "   --- ------------------------------------ 0.9/10.0 MB 49.9 kB/s eta 0:03:04\n",
      "   --- ------------------------------------ 0.9/10.0 MB 49.9 kB/s eta 0:03:04\n",
      "   --- ------------------------------------ 0.9/10.0 MB 49.9 kB/s eta 0:03:04\n",
      "   --- ------------------------------------ 0.9/10.0 MB 49.9 kB/s eta 0:03:04\n"
     ]
    },
    {
     "name": "stderr",
     "output_type": "stream",
     "text": [
      "ERROR: Exception:\n",
      "Traceback (most recent call last):\n",
      "  File \"C:\\Users\\MSI\\anaconda3\\envs\\spacy\\lib\\site-packages\\pip\\_vendor\\urllib3\\response.py\", line 438, in _error_catcher\n",
      "    yield\n",
      "  File \"C:\\Users\\MSI\\anaconda3\\envs\\spacy\\lib\\site-packages\\pip\\_vendor\\urllib3\\response.py\", line 561, in read\n",
      "    data = self._fp_read(amt) if not fp_closed else b\"\"\n",
      "  File \"C:\\Users\\MSI\\anaconda3\\envs\\spacy\\lib\\site-packages\\pip\\_vendor\\urllib3\\response.py\", line 527, in _fp_read\n",
      "    return self._fp.read(amt) if amt is not None else self._fp.read()\n",
      "  File \"C:\\Users\\MSI\\anaconda3\\envs\\spacy\\lib\\site-packages\\pip\\_vendor\\cachecontrol\\filewrapper.py\", line 98, in read\n",
      "    data: bytes = self.__fp.read(amt)\n",
      "  File \"C:\\Users\\MSI\\anaconda3\\envs\\spacy\\lib\\http\\client.py\", line 459, in read\n",
      "    n = self.readinto(b)\n",
      "  File \"C:\\Users\\MSI\\anaconda3\\envs\\spacy\\lib\\http\\client.py\", line 503, in readinto\n",
      "    n = self.fp.readinto(b)\n",
      "  File \"C:\\Users\\MSI\\anaconda3\\envs\\spacy\\lib\\socket.py\", line 669, in readinto\n",
      "    return self._sock.recv_into(b)\n",
      "  File \"C:\\Users\\MSI\\anaconda3\\envs\\spacy\\lib\\ssl.py\", line 1241, in recv_into\n",
      "    return self.read(nbytes, buffer)\n",
      "  File \"C:\\Users\\MSI\\anaconda3\\envs\\spacy\\lib\\ssl.py\", line 1099, in read\n",
      "    return self._sslobj.read(len, buffer)\n",
      "socket.timeout: The read operation timed out\n",
      "\n",
      "During handling of the above exception, another exception occurred:\n",
      "\n",
      "Traceback (most recent call last):\n",
      "  File \"C:\\Users\\MSI\\anaconda3\\envs\\spacy\\lib\\site-packages\\pip\\_internal\\cli\\base_command.py\", line 180, in exc_logging_wrapper\n",
      "    status = run_func(*args)\n",
      "  File \"C:\\Users\\MSI\\anaconda3\\envs\\spacy\\lib\\site-packages\\pip\\_internal\\cli\\req_command.py\", line 245, in wrapper\n",
      "    return func(self, options, args)\n",
      "  File \"C:\\Users\\MSI\\anaconda3\\envs\\spacy\\lib\\site-packages\\pip\\_internal\\commands\\install.py\", line 377, in run\n",
      "    requirement_set = resolver.resolve(\n",
      "  File \"C:\\Users\\MSI\\anaconda3\\envs\\spacy\\lib\\site-packages\\pip\\_internal\\resolution\\resolvelib\\resolver.py\", line 179, in resolve\n",
      "    self.factory.preparer.prepare_linked_requirements_more(reqs)\n",
      "  File \"C:\\Users\\MSI\\anaconda3\\envs\\spacy\\lib\\site-packages\\pip\\_internal\\operations\\prepare.py\", line 552, in prepare_linked_requirements_more\n",
      "    self._complete_partial_requirements(\n",
      "  File \"C:\\Users\\MSI\\anaconda3\\envs\\spacy\\lib\\site-packages\\pip\\_internal\\operations\\prepare.py\", line 467, in _complete_partial_requirements\n",
      "    for link, (filepath, _) in batch_download:\n",
      "  File \"C:\\Users\\MSI\\anaconda3\\envs\\spacy\\lib\\site-packages\\pip\\_internal\\network\\download.py\", line 183, in __call__\n",
      "    for chunk in chunks:\n",
      "  File \"C:\\Users\\MSI\\anaconda3\\envs\\spacy\\lib\\site-packages\\pip\\_internal\\cli\\progress_bars.py\", line 53, in _rich_progress_bar\n",
      "    for chunk in iterable:\n",
      "  File \"C:\\Users\\MSI\\anaconda3\\envs\\spacy\\lib\\site-packages\\pip\\_internal\\network\\utils.py\", line 63, in response_chunks\n",
      "    for chunk in response.raw.stream(\n",
      "  File \"C:\\Users\\MSI\\anaconda3\\envs\\spacy\\lib\\site-packages\\pip\\_vendor\\urllib3\\response.py\", line 622, in stream\n",
      "    data = self.read(amt=amt, decode_content=decode_content)\n",
      "  File \"C:\\Users\\MSI\\anaconda3\\envs\\spacy\\lib\\site-packages\\pip\\_vendor\\urllib3\\response.py\", line 587, in read\n",
      "    raise IncompleteRead(self._fp_bytes_read, self.length_remaining)\n",
      "  File \"C:\\Users\\MSI\\anaconda3\\envs\\spacy\\lib\\contextlib.py\", line 131, in __exit__\n",
      "    self.gen.throw(type, value, traceback)\n",
      "  File \"C:\\Users\\MSI\\anaconda3\\envs\\spacy\\lib\\site-packages\\pip\\_vendor\\urllib3\\response.py\", line 443, in _error_catcher\n",
      "    raise ReadTimeoutError(self._pool, None, \"Read timed out.\")\n",
      "pip._vendor.urllib3.exceptions.ReadTimeoutError: HTTPSConnectionPool(host='files.pythonhosted.org', port=443): Read timed out.\n"
     ]
    }
   ],
   "source": [
    "! pip install pingouin"
   ]
  },
  {
   "cell_type": "code",
   "execution_count": 15,
   "metadata": {},
   "outputs": [
    {
     "ename": "ModuleNotFoundError",
     "evalue": "No module named 'pingouin'",
     "output_type": "error",
     "traceback": [
      "\u001b[1;31m---------------------------------------------------------------------------\u001b[0m",
      "\u001b[1;31mModuleNotFoundError\u001b[0m                       Traceback (most recent call last)",
      "Cell \u001b[1;32mIn[15], line 1\u001b[0m\n\u001b[1;32m----> 1\u001b[0m \u001b[38;5;28;01mimport\u001b[39;00m \u001b[38;5;21;01mpingouin\u001b[39;00m \u001b[38;5;28;01mas\u001b[39;00m \u001b[38;5;21;01mpg\u001b[39;00m\n",
      "\u001b[1;31mModuleNotFoundError\u001b[0m: No module named 'pingouin'"
     ]
    }
   ],
   "source": [
    "import pingouin as pg"
   ]
  },
  {
   "cell_type": "code",
   "execution_count": 15,
   "metadata": {},
   "outputs": [],
   "source": [
    "# Test U-test o Test U de Mann-Whitney-Wilcoxon\n",
    "#Ho: los datos proceden de distribuciones con la misma mediana\n",
    "#Ha: los datos no proceden de distribuciones con la misma mediana\n",
    "\n",
    "#Si pvalor < 5% => Se rechaza Ho, al 95% de confianza, los datos no proceden de distribuciones con la misma mediana\n",
    "#Si pvalor > 5% => No se rechaza Ho, al 95% de confianza, los datos proceden de distribuciones con la misma mediana"
   ]
  },
  {
   "cell_type": "code",
   "execution_count": 16,
   "metadata": {},
   "outputs": [
    {
     "data": {
      "text/html": [
       "<div>\n",
       "<style scoped>\n",
       "    .dataframe tbody tr th:only-of-type {\n",
       "        vertical-align: middle;\n",
       "    }\n",
       "\n",
       "    .dataframe tbody tr th {\n",
       "        vertical-align: top;\n",
       "    }\n",
       "\n",
       "    .dataframe thead th {\n",
       "        text-align: right;\n",
       "    }\n",
       "</style>\n",
       "<table border=\"1\" class=\"dataframe\">\n",
       "  <thead>\n",
       "    <tr style=\"text-align: right;\">\n",
       "      <th></th>\n",
       "      <th>U-val</th>\n",
       "      <th>alternative</th>\n",
       "      <th>p-val</th>\n",
       "      <th>RBC</th>\n",
       "      <th>CLES</th>\n",
       "    </tr>\n",
       "  </thead>\n",
       "  <tbody>\n",
       "    <tr>\n",
       "      <th>MWU</th>\n",
       "      <td>31921.0</td>\n",
       "      <td>two-sided</td>\n",
       "      <td>2.131027e-34</td>\n",
       "      <td>0.73715</td>\n",
       "      <td>0.868575</td>\n",
       "    </tr>\n",
       "  </tbody>\n",
       "</table>\n",
       "</div>"
      ],
      "text/plain": [
       "       U-val alternative         p-val      RBC      CLES\n",
       "MWU  31921.0   two-sided  2.131027e-34  0.73715  0.868575"
      ]
     },
     "execution_count": 16,
     "metadata": {},
     "output_type": "execute_result"
    }
   ],
   "source": [
    "#Purchased vs Age\n",
    "pg.mwu(x=age_compra, y=age_nocompra, alternative='two-sided')"
   ]
  },
  {
   "cell_type": "code",
   "execution_count": 17,
   "metadata": {},
   "outputs": [
    {
     "data": {
      "text/html": [
       "<div>\n",
       "<style scoped>\n",
       "    .dataframe tbody tr th:only-of-type {\n",
       "        vertical-align: middle;\n",
       "    }\n",
       "\n",
       "    .dataframe tbody tr th {\n",
       "        vertical-align: top;\n",
       "    }\n",
       "\n",
       "    .dataframe thead th {\n",
       "        text-align: right;\n",
       "    }\n",
       "</style>\n",
       "<table border=\"1\" class=\"dataframe\">\n",
       "  <thead>\n",
       "    <tr style=\"text-align: right;\">\n",
       "      <th></th>\n",
       "      <th>U-val</th>\n",
       "      <th>alternative</th>\n",
       "      <th>p-val</th>\n",
       "      <th>RBC</th>\n",
       "      <th>CLES</th>\n",
       "    </tr>\n",
       "  </thead>\n",
       "  <tbody>\n",
       "    <tr>\n",
       "      <th>MWU</th>\n",
       "      <td>25167.5</td>\n",
       "      <td>two-sided</td>\n",
       "      <td>8.841279e-10</td>\n",
       "      <td>0.369623</td>\n",
       "      <td>0.684811</td>\n",
       "    </tr>\n",
       "  </tbody>\n",
       "</table>\n",
       "</div>"
      ],
      "text/plain": [
       "       U-val alternative         p-val       RBC      CLES\n",
       "MWU  25167.5   two-sided  8.841279e-10  0.369623  0.684811"
      ]
     },
     "execution_count": 17,
     "metadata": {},
     "output_type": "execute_result"
    }
   ],
   "source": [
    "#Purchased vs EstimatedSalary\n",
    "pg.mwu(x=salario_compra, y=salario_nocompra, alternative='two-sided')"
   ]
  },
  {
   "cell_type": "code",
   "execution_count": 18,
   "metadata": {
    "scrolled": true
   },
   "outputs": [
    {
     "name": "stdout",
     "output_type": "stream",
     "text": [
      "Gender     Female  Male\n",
      "Purchased              \n",
      "0             127   130\n",
      "1              77    66\n"
     ]
    },
    {
     "data": {
      "image/png": "[encoded data removed]",
      "text/plain": [
       "<Figure size 400x400 with 1 Axes>"
      ]
     },
     "metadata": {},
     "output_type": "display_data"
    }
   ],
   "source": [
    "print(pd.crosstab(data[\"Purchased\"],data[\"Gender\"]))\n",
    "Gender = pd.crosstab(data[\"Purchased\"],data[\"Gender\"])\n",
    "Gender.div(Gender.sum(1).astype(float),axis=0).plot(kind=\"bar\",stacked=True,figsize=(4,4))\n",
    "plt.xlabel(\"Purchased\")\n",
    "plt.ylabel(\"Percentage\")\n",
    "plt.show()"
   ]
  },
  {
   "cell_type": "code",
   "execution_count": 19,
   "metadata": {},
   "outputs": [],
   "source": [
    "#Prueba Chi-Cuadrado\n",
    "#Ho: no existe dependencia entre las variables\n",
    "#Ha: existe dependencia entre las variables\n",
    "\n",
    "#Si pvalor < 5% => Se rechaza Ho, al 95% de confianza, existe dependencia entre las variables\n",
    "#Si pvalor > 5% => No se rechaza Ho, al 95% de confianza, no existe dependencia entre las variables"
   ]
  },
  {
   "cell_type": "code",
   "execution_count": 20,
   "metadata": {},
   "outputs": [
    {
     "data": {
      "text/html": [
       "<div>\n",
       "<style scoped>\n",
       "    .dataframe tbody tr th:only-of-type {\n",
       "        vertical-align: middle;\n",
       "    }\n",
       "\n",
       "    .dataframe tbody tr th {\n",
       "        vertical-align: top;\n",
       "    }\n",
       "\n",
       "    .dataframe thead th {\n",
       "        text-align: right;\n",
       "    }\n",
       "</style>\n",
       "<table border=\"1\" class=\"dataframe\">\n",
       "  <thead>\n",
       "    <tr style=\"text-align: right;\">\n",
       "      <th>Gender</th>\n",
       "      <th>Female</th>\n",
       "      <th>Male</th>\n",
       "    </tr>\n",
       "    <tr>\n",
       "      <th>Purchased</th>\n",
       "      <th></th>\n",
       "      <th></th>\n",
       "    </tr>\n",
       "  </thead>\n",
       "  <tbody>\n",
       "    <tr>\n",
       "      <th>0</th>\n",
       "      <td>127</td>\n",
       "      <td>130</td>\n",
       "    </tr>\n",
       "    <tr>\n",
       "      <th>1</th>\n",
       "      <td>77</td>\n",
       "      <td>66</td>\n",
       "    </tr>\n",
       "  </tbody>\n",
       "</table>\n",
       "</div>"
      ],
      "text/plain": [
       "Gender     Female  Male\n",
       "Purchased              \n",
       "0             127   130\n",
       "1              77    66"
      ]
     },
     "execution_count": 20,
     "metadata": {},
     "output_type": "execute_result"
    }
   ],
   "source": [
    "#Purchased vs Gender\n",
    "contigencia = pd.crosstab(data['Purchased'], data['Gender'])\n",
    "contigencia"
   ]
  },
  {
   "cell_type": "code",
   "execution_count": 23,
   "metadata": {},
   "outputs": [
    {
     "name": "stdout",
     "output_type": "stream",
     "text": [
      "0.45624659183130645\n"
     ]
    }
   ],
   "source": [
    "contigencia = pd.crosstab(data['Purchased'], data['Gender'])\n",
    "c, p, dof, expected = chi2_contingency(contigencia) \n",
    "print(p)"
   ]
  },
  {
   "cell_type": "markdown",
   "metadata": {},
   "source": [
    "### Preparación de los datos"
   ]
  },
  {
   "cell_type": "code",
   "execution_count": 24,
   "metadata": {},
   "outputs": [],
   "source": [
    "X = data.iloc[:, [2, 3]].values\n",
    "y = data.iloc[:, -1].values"
   ]
  },
  {
   "cell_type": "code",
   "execution_count": 25,
   "metadata": {},
   "outputs": [
    {
     "data": {
      "text/plain": [
       "array([[   19, 19000],\n",
       "       [   35, 20000],\n",
       "       [   26, 43000],\n",
       "       [   27, 57000],\n",
       "       [   19, 76000]], dtype=int64)"
      ]
     },
     "execution_count": 25,
     "metadata": {},
     "output_type": "execute_result"
    }
   ],
   "source": [
    "X[0:5]"
   ]
  },
  {
   "cell_type": "code",
   "execution_count": 26,
   "metadata": {},
   "outputs": [
    {
     "data": {
      "text/plain": [
       "array([0, 0, 0, 0, 0], dtype=int64)"
      ]
     },
     "execution_count": 26,
     "metadata": {},
     "output_type": "execute_result"
    }
   ],
   "source": [
    "y[0:5]"
   ]
  },
  {
   "cell_type": "code",
   "execution_count": 27,
   "metadata": {},
   "outputs": [],
   "source": [
    "X_train, X_test, y_train, y_test = train_test_split(X, y, test_size = 0.20, random_state = 0)"
   ]
  },
  {
   "cell_type": "code",
   "execution_count": 28,
   "metadata": {},
   "outputs": [
    {
     "data": {
      "text/plain": [
       "array([[    58, 144000],\n",
       "       [    59,  83000],\n",
       "       [    24,  55000],\n",
       "       [    26,  35000],\n",
       "       [    58,  38000]], dtype=int64)"
      ]
     },
     "execution_count": 28,
     "metadata": {},
     "output_type": "execute_result"
    }
   ],
   "source": [
    "X_train[0:5]"
   ]
  },
  {
   "cell_type": "code",
   "execution_count": 29,
   "metadata": {
    "scrolled": true
   },
   "outputs": [
    {
     "data": {
      "text/plain": [
       "array([[   30, 87000],\n",
       "       [   38, 50000],\n",
       "       [   35, 75000],\n",
       "       [   30, 79000],\n",
       "       [   35, 50000]], dtype=int64)"
      ]
     },
     "execution_count": 29,
     "metadata": {},
     "output_type": "execute_result"
    }
   ],
   "source": [
    "X_test[0:5]"
   ]
  },
  {
   "cell_type": "code",
   "execution_count": 30,
   "metadata": {},
   "outputs": [],
   "source": [
    "X_train_orig = X_train\n",
    "X_test_orig = X_test"
   ]
  },
  {
   "cell_type": "code",
   "execution_count": 31,
   "metadata": {},
   "outputs": [],
   "source": [
    "X_train = StandardScaler().fit_transform(X_train)\n",
    "X_test = StandardScaler().fit_transform(X_test)"
   ]
  },
  {
   "cell_type": "code",
   "execution_count": 32,
   "metadata": {},
   "outputs": [
    {
     "data": {
      "text/plain": [
       "array([[ 1.92295008,  2.14601566],\n",
       "       [ 2.02016082,  0.3787193 ],\n",
       "       [-1.3822153 , -0.4324987 ],\n",
       "       [-1.18779381, -1.01194013],\n",
       "       [ 1.92295008, -0.92502392]])"
      ]
     },
     "execution_count": 32,
     "metadata": {},
     "output_type": "execute_result"
    }
   ],
   "source": [
    "X_train[0:5]"
   ]
  },
  {
   "cell_type": "code",
   "execution_count": 33,
   "metadata": {},
   "outputs": [
    {
     "data": {
      "text/plain": [
       "array([[-0.49618606,  0.56021375],\n",
       "       [ 0.2389044 , -0.59133674],\n",
       "       [-0.03675452,  0.18673792],\n",
       "       [-0.49618606,  0.31122986],\n",
       "       [-0.03675452, -0.59133674]])"
      ]
     },
     "execution_count": 33,
     "metadata": {},
     "output_type": "execute_result"
    }
   ],
   "source": [
    "X_test[0:5]"
   ]
  },
  {
   "cell_type": "markdown",
   "metadata": {},
   "source": [
    "### Modelado "
   ]
  },
  {
   "cell_type": "code",
   "execution_count": 34,
   "metadata": {
    "scrolled": true
   },
   "outputs": [],
   "source": [
    "classifier = GaussianNB().fit(X_train, y_train)"
   ]
  },
  {
   "cell_type": "markdown",
   "metadata": {},
   "source": [
    "### Evaluación "
   ]
  },
  {
   "cell_type": "code",
   "execution_count": 35,
   "metadata": {},
   "outputs": [],
   "source": [
    "y_pred = classifier.predict(X_test)"
   ]
  },
  {
   "cell_type": "code",
   "execution_count": 36,
   "metadata": {},
   "outputs": [
    {
     "data": {
      "text/plain": [
       "array([0, 0, 0, 0, 0], dtype=int64)"
      ]
     },
     "execution_count": 36,
     "metadata": {},
     "output_type": "execute_result"
    }
   ],
   "source": [
    "y_pred[0:5]"
   ]
  },
  {
   "cell_type": "code",
   "execution_count": 37,
   "metadata": {},
   "outputs": [
    {
     "data": {
      "text/plain": [
       "array([0, 0, 0, 0, 0], dtype=int64)"
      ]
     },
     "execution_count": 37,
     "metadata": {},
     "output_type": "execute_result"
    }
   ],
   "source": [
    "y_test[0:5]"
   ]
  },
  {
   "cell_type": "code",
   "execution_count": 38,
   "metadata": {},
   "outputs": [
    {
     "data": {
      "text/plain": [
       "array([[54,  4],\n",
       "       [ 1, 21]], dtype=int64)"
      ]
     },
     "execution_count": 38,
     "metadata": {},
     "output_type": "execute_result"
    }
   ],
   "source": [
    "confusion_matrix(y_test, y_pred)"
   ]
  },
  {
   "cell_type": "code",
   "execution_count": 39,
   "metadata": {},
   "outputs": [
    {
     "name": "stdout",
     "output_type": "stream",
     "text": [
      "Confusion matrix, without normalization\n",
      "[[54  4]\n",
      " [ 1 21]]\n",
      "Normalized confusion matrix\n",
      "[[0.93103448 0.06896552]\n",
      " [0.04545455 0.95454545]]\n"
     ]
    },
    {
     "data": {
      "image/png": "[encoded data removed]",
      "text/plain": [
       "<Figure size 640x480 with 2 Axes>"
      ]
     },
     "metadata": {},
     "output_type": "display_data"
    },
    {
     "data": {
      "image/png": "[encoded data removed]",
      "text/plain": [
       "<Figure size 640x480 with 2 Axes>"
      ]
     },
     "metadata": {},
     "output_type": "display_data"
    }
   ],
   "source": [
    "# Plot non-normalized confusion matrix\n",
    "titles_options = [(\"Confusion matrix, without normalization\", None),\n",
    "                  (\"Normalized confusion matrix\", 'true')]\n",
    "for title, normalize in titles_options:\n",
    "    disp = ConfusionMatrixDisplay.from_estimator(classifier, X_test, y_test,\n",
    "                                                 #display_labels=y_test,\n",
    "                                                 cmap=plt.cm.Blues,\n",
    "                                                 normalize=normalize)\n",
    "    disp.ax_.set_title(title)\n",
    "\n",
    "    print(title)\n",
    "    print(disp.confusion_matrix)\n",
    "\n",
    "plt.show()"
   ]
  },
  {
   "cell_type": "code",
   "execution_count": 40,
   "metadata": {},
   "outputs": [],
   "source": [
    "y_pred_prob = classifier.predict_proba(X_test)"
   ]
  },
  {
   "cell_type": "code",
   "execution_count": 41,
   "metadata": {},
   "outputs": [
    {
     "data": {
      "text/plain": [
       "array([[0.82002882, 0.17997118],\n",
       "       [0.7668551 , 0.2331449 ],\n",
       "       [0.77276139, 0.22723861],\n",
       "       [0.86810583, 0.13189417],\n",
       "       [0.84555185, 0.15444815]])"
      ]
     },
     "execution_count": 41,
     "metadata": {},
     "output_type": "execute_result"
    }
   ],
   "source": [
    "y_pred_prob[0:5]"
   ]
  },
  {
   "cell_type": "code",
   "execution_count": 42,
   "metadata": {},
   "outputs": [
    {
     "data": {
      "text/plain": [
       "array([0.17997118, 0.2331449 , 0.22723861, 0.13189417, 0.15444815])"
      ]
     },
     "execution_count": 42,
     "metadata": {},
     "output_type": "execute_result"
    }
   ],
   "source": [
    "y_pred_prob[0:5,1]"
   ]
  },
  {
   "cell_type": "code",
   "execution_count": 43,
   "metadata": {},
   "outputs": [],
   "source": [
    "false_positive_rate, true_positive_rate, thresholds = roc_curve(y_test, y_pred_prob[:,1])"
   ]
  },
  {
   "cell_type": "code",
   "execution_count": 44,
   "metadata": {},
   "outputs": [
    {
     "data": {
      "text/plain": [
       "0.9843260188087775"
      ]
     },
     "execution_count": 44,
     "metadata": {},
     "output_type": "execute_result"
    }
   ],
   "source": [
    "roc_auc = auc(false_positive_rate, true_positive_rate)\n",
    "roc_auc"
   ]
  },
  {
   "cell_type": "code",
   "execution_count": 45,
   "metadata": {},
   "outputs": [
    {
     "data": {
      "image/png": "[encoded data removed]",
      "text/plain": [
       "<Figure size 640x480 with 1 Axes>"
      ]
     },
     "metadata": {},
     "output_type": "display_data"
    }
   ],
   "source": [
    "plt.title('Receiver Operating Characteristic')\n",
    "plt.plot(false_positive_rate,true_positive_rate, color='red',label = 'AUC = %0.2f' % roc_auc)\n",
    "plt.legend(loc = 'lower right')\n",
    "plt.plot([0, 1], [0, 1],linestyle='--')\n",
    "plt.axis('tight')\n",
    "plt.ylabel('True Positive Rate')\n",
    "plt.xlabel('False Positive Rate')\n",
    "plt.show()"
   ]
  },
  {
   "cell_type": "code",
   "execution_count": 46,
   "metadata": {},
   "outputs": [],
   "source": [
    "dataf = pd.concat([pd.DataFrame(X_test_orig),pd.DataFrame(y_test),pd.DataFrame(y_pred),pd.DataFrame(y_pred_prob)],axis=1)"
   ]
  },
  {
   "cell_type": "code",
   "execution_count": 47,
   "metadata": {
    "scrolled": true
   },
   "outputs": [
    {
     "data": {
      "text/html": [
       "<div>\n",
       "<style scoped>\n",
       "    .dataframe tbody tr th:only-of-type {\n",
       "        vertical-align: middle;\n",
       "    }\n",
       "\n",
       "    .dataframe tbody tr th {\n",
       "        vertical-align: top;\n",
       "    }\n",
       "\n",
       "    .dataframe thead th {\n",
       "        text-align: right;\n",
       "    }\n",
       "</style>\n",
       "<table border=\"1\" class=\"dataframe\">\n",
       "  <thead>\n",
       "    <tr style=\"text-align: right;\">\n",
       "      <th></th>\n",
       "      <th>0</th>\n",
       "      <th>1</th>\n",
       "      <th>0</th>\n",
       "      <th>0</th>\n",
       "      <th>0</th>\n",
       "      <th>1</th>\n",
       "    </tr>\n",
       "  </thead>\n",
       "  <tbody>\n",
       "    <tr>\n",
       "      <th>0</th>\n",
       "      <td>30</td>\n",
       "      <td>87000</td>\n",
       "      <td>0</td>\n",
       "      <td>0</td>\n",
       "      <td>0.820029</td>\n",
       "      <td>0.179971</td>\n",
       "    </tr>\n",
       "    <tr>\n",
       "      <th>1</th>\n",
       "      <td>38</td>\n",
       "      <td>50000</td>\n",
       "      <td>0</td>\n",
       "      <td>0</td>\n",
       "      <td>0.766855</td>\n",
       "      <td>0.233145</td>\n",
       "    </tr>\n",
       "    <tr>\n",
       "      <th>2</th>\n",
       "      <td>35</td>\n",
       "      <td>75000</td>\n",
       "      <td>0</td>\n",
       "      <td>0</td>\n",
       "      <td>0.772761</td>\n",
       "      <td>0.227239</td>\n",
       "    </tr>\n",
       "    <tr>\n",
       "      <th>3</th>\n",
       "      <td>30</td>\n",
       "      <td>79000</td>\n",
       "      <td>0</td>\n",
       "      <td>0</td>\n",
       "      <td>0.868106</td>\n",
       "      <td>0.131894</td>\n",
       "    </tr>\n",
       "    <tr>\n",
       "      <th>4</th>\n",
       "      <td>35</td>\n",
       "      <td>50000</td>\n",
       "      <td>0</td>\n",
       "      <td>0</td>\n",
       "      <td>0.845552</td>\n",
       "      <td>0.154448</td>\n",
       "    </tr>\n",
       "  </tbody>\n",
       "</table>\n",
       "</div>"
      ],
      "text/plain": [
       "    0      1  0  0         0         1\n",
       "0  30  87000  0  0  0.820029  0.179971\n",
       "1  38  50000  0  0  0.766855  0.233145\n",
       "2  35  75000  0  0  0.772761  0.227239\n",
       "3  30  79000  0  0  0.868106  0.131894\n",
       "4  35  50000  0  0  0.845552  0.154448"
      ]
     },
     "execution_count": 47,
     "metadata": {},
     "output_type": "execute_result"
    }
   ],
   "source": [
    "dataf.head(5)"
   ]
  },
  {
   "cell_type": "code",
   "execution_count": 48,
   "metadata": {},
   "outputs": [],
   "source": [
    "dataf.columns = ['Age', 'EstimatedSalary', 'Purchased', 'Purchased_Pred', 'Purchased_Pred_Prob_0', 'Purchased_Pred_Prob_1']"
   ]
  },
  {
   "cell_type": "code",
   "execution_count": 49,
   "metadata": {
    "scrolled": true
   },
   "outputs": [
    {
     "data": {
      "text/html": [
       "<div>\n",
       "<style scoped>\n",
       "    .dataframe tbody tr th:only-of-type {\n",
       "        vertical-align: middle;\n",
       "    }\n",
       "\n",
       "    .dataframe tbody tr th {\n",
       "        vertical-align: top;\n",
       "    }\n",
       "\n",
       "    .dataframe thead th {\n",
       "        text-align: right;\n",
       "    }\n",
       "</style>\n",
       "<table border=\"1\" class=\"dataframe\">\n",
       "  <thead>\n",
       "    <tr style=\"text-align: right;\">\n",
       "      <th></th>\n",
       "      <th>Age</th>\n",
       "      <th>EstimatedSalary</th>\n",
       "      <th>Purchased</th>\n",
       "      <th>Purchased_Pred</th>\n",
       "      <th>Purchased_Pred_Prob_0</th>\n",
       "      <th>Purchased_Pred_Prob_1</th>\n",
       "    </tr>\n",
       "  </thead>\n",
       "  <tbody>\n",
       "    <tr>\n",
       "      <th>0</th>\n",
       "      <td>30</td>\n",
       "      <td>87000</td>\n",
       "      <td>0</td>\n",
       "      <td>0</td>\n",
       "      <td>0.820029</td>\n",
       "      <td>0.179971</td>\n",
       "    </tr>\n",
       "    <tr>\n",
       "      <th>1</th>\n",
       "      <td>38</td>\n",
       "      <td>50000</td>\n",
       "      <td>0</td>\n",
       "      <td>0</td>\n",
       "      <td>0.766855</td>\n",
       "      <td>0.233145</td>\n",
       "    </tr>\n",
       "    <tr>\n",
       "      <th>2</th>\n",
       "      <td>35</td>\n",
       "      <td>75000</td>\n",
       "      <td>0</td>\n",
       "      <td>0</td>\n",
       "      <td>0.772761</td>\n",
       "      <td>0.227239</td>\n",
       "    </tr>\n",
       "    <tr>\n",
       "      <th>3</th>\n",
       "      <td>30</td>\n",
       "      <td>79000</td>\n",
       "      <td>0</td>\n",
       "      <td>0</td>\n",
       "      <td>0.868106</td>\n",
       "      <td>0.131894</td>\n",
       "    </tr>\n",
       "    <tr>\n",
       "      <th>4</th>\n",
       "      <td>35</td>\n",
       "      <td>50000</td>\n",
       "      <td>0</td>\n",
       "      <td>0</td>\n",
       "      <td>0.845552</td>\n",
       "      <td>0.154448</td>\n",
       "    </tr>\n",
       "  </tbody>\n",
       "</table>\n",
       "</div>"
      ],
      "text/plain": [
       "   Age  EstimatedSalary  Purchased  Purchased_Pred  Purchased_Pred_Prob_0  \\\n",
       "0   30            87000          0               0               0.820029   \n",
       "1   38            50000          0               0               0.766855   \n",
       "2   35            75000          0               0               0.772761   \n",
       "3   30            79000          0               0               0.868106   \n",
       "4   35            50000          0               0               0.845552   \n",
       "\n",
       "   Purchased_Pred_Prob_1  \n",
       "0               0.179971  \n",
       "1               0.233145  \n",
       "2               0.227239  \n",
       "3               0.131894  \n",
       "4               0.154448  "
      ]
     },
     "execution_count": 49,
     "metadata": {},
     "output_type": "execute_result"
    }
   ],
   "source": [
    "dataf.head(5)"
   ]
  },
  {
   "cell_type": "code",
   "execution_count": 50,
   "metadata": {},
   "outputs": [
    {
     "data": {
      "text/plain": [
       "0.2    0.057378\n",
       "0.4    0.158481\n",
       "0.6    0.312742\n",
       "0.8    0.766919\n",
       "Name: Purchased_Pred_Prob_1, dtype: float64"
      ]
     },
     "execution_count": 50,
     "metadata": {},
     "output_type": "execute_result"
    }
   ],
   "source": [
    "quantiles = dataf['Purchased_Pred_Prob_1'].quantile(q=[0.20,0.40,0.60,0.80])\n",
    "quantiles"
   ]
  },
  {
   "cell_type": "code",
   "execution_count": 51,
   "metadata": {},
   "outputs": [],
   "source": [
    "dataf.to_csv('D:/Bases/Kaggle/Social Network Ads/dataf.csv', index = False)"
   ]
  },
  {
   "cell_type": "markdown",
   "metadata": {},
   "source": [
    "### Implementación"
   ]
  },
  {
   "cell_type": "markdown",
   "metadata": {},
   "source": [
    "Se puede exportar el modelo más adecuado para ponerlo en un ambiente de producción. A partir de ello se puede generar un API para alimentar una aplicación web o móvil."
   ]
  },
  {
   "cell_type": "markdown",
   "metadata": {},
   "source": [
    "A continuación se exportará el modelo más adecuado."
   ]
  },
  {
   "cell_type": "code",
   "execution_count": 52,
   "metadata": {},
   "outputs": [],
   "source": [
    "import pickle"
   ]
  },
  {
   "cell_type": "code",
   "execution_count": 53,
   "metadata": {},
   "outputs": [],
   "source": [
    "Pkl_Filename = \"D:/classifier.pkl\"\n",
    "\n",
    "with open (Pkl_Filename, 'wb') as file:\n",
    "    pickle.dump(classifier, file)"
   ]
  },
  {
   "cell_type": "markdown",
   "metadata": {},
   "source": [
    "### Tarea"
   ]
  },
  {
   "cell_type": "markdown",
   "metadata": {},
   "source": [
    "1.Para la base de datos dataf, colocar los valores originales de las primeras 3 variables."
   ]
  },
  {
   "cell_type": "markdown",
   "metadata": {},
   "source": [
    "2.Para la base de datos dataf, crear una variable \"score\", con las categorías: Muy alto, alto, medio, bajo y muy bajo.\n",
    "(Usar: Target_Pred_Prob_1)"
   ]
  },
  {
   "cell_type": "markdown",
   "metadata": {},
   "source": [
    "3.Comparar los modelos y presentar un cuadro resumen de la sensibilidad, ROC y GINI:\n",
    "a. NB\n",
    "b. NB con smote\n",
    "c. NB con over\n",
    "d. NB con under"
   ]
  }
 ],
 "metadata": {
  "kernelspec": {
   "display_name": "Python 3 (ipykernel)",
   "language": "python",
   "name": "python3"
  },
  "language_info": {
   "codemirror_mode": {
    "name": "ipython",
    "version": 3
   },
   "file_extension": ".py",
   "mimetype": "text/x-python",
   "name": "python",
   "nbconvert_exporter": "python",
   "pygments_lexer": "ipython3",
   "version": "3.8.15"
  }
 },
 "nbformat": 4,
 "nbformat_minor": 4
}
