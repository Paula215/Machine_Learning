{
  "cells": [
    {
      "cell_type": "markdown",
      "metadata": {
        "id": "zyr-kUdcQsjc"
      },
      "source": [
        "### **CC57 - MACHINE LEARNING - CLASIFICADORES ENSAMBLADOS**"
      ]
    },
    {
      "cell_type": "markdown",
      "metadata": {
        "id": "wFszGyFMOv53"
      },
      "source": [
        "### **Actividad #5: Detección de infedilidad en un matrimonio**\n"
      ]
    },
    {
      "cell_type": "markdown",
      "metadata": {
        "id": "nhfx_9BlhowJ"
      },
      "source": [
        "Los datos provienen de statsmodels disponible en: https://www.statsmodels.org/stable/index.html\n",
        "\n",
        "El conjunto de datos contiene informacion sobre las caracteriticas de la esposa en la relacion marital (edad, religion, numero de hijos, educacion, ocupacion,  cantidad de infidelidades, etc). Este conjunto de datos se puede tratar como un problema de clasificación creando una nueva variable binaria infiel (¿la esposa tuvo al menos una infidelidad?) e intentando predecir la clasificación para cada esposa.\n",
        "\n",
        "\n",
        "El conjunnto de datos **infiel.csv** contempla 6366 observaciones en 9 variables.  Su estructura es la siguiente:"
      ]
    },
    {
      "cell_type": "markdown",
      "metadata": {
        "id": "XGOe94eklme5"
      },
      "source": [
        "**- 1. rate_marriage:**woman's rating of her marriage (1 = very poor, 5 = very good)\n",
        "\n",
        "**- 2. age:** woman's age\n",
        "\n",
        "**- 3. yrs_married:**number of years married\n",
        "\n",
        "**- 4. children:** number of children\n",
        "\n",
        "**- 5. religious:** woman's rating of how religious she is (1 = not religious, 4 = strongly religious)\n",
        "\n",
        "**- 6. educ:** level of education (9 = grade school, 12 = high school, 14 = some college, 16 = college graduate, 17 = some graduate school, 20 = advanced degree)\n",
        "\n",
        "**- 7. occupation:** woman's occupation (1 = student, 2 = farming/semi-skilled/unskilled, 3 = \"white collar\", 4 = teacher/nurse/writer/technician/skilled, 5 = managerial/business, 6 = professional with advanced degree)\n",
        "\n",
        "**- 8. occupation_husb:** husband's occupation (same coding as above)\n",
        "\n",
        "**- 9. affairs:** time spent in extra-marital affairs"
      ]
    },
    {
      "cell_type": "markdown",
      "metadata": {
        "id": "HGm42-VIwM0r"
      },
      "source": [
        "Se solicita lo siguiente:\n",
        "\n",
        "- 0. Cargar de librerias\n",
        "- 1. Cargar los datos y analisis exploratorio de los datos\n",
        "- 2. Preprocesamiento de los datos\n",
        "- 3. Creando los modelos ENSAMBLADOS\n",
        "\n",
        "   -- 3.1 **Identificacion de Modelos a ensamblar**\n",
        "      \n",
        "      Determinar que clasificadores utilizar en los dos primeros tipos de Ensamble (Bagging y Boosting) a partir de la comparacion de clasificadores obtenidos mediante la libreria **pycaret** (compare_models).\n",
        "      \n",
        "   -- 3.2 **Crear (3) modelos ENSAMBLADOS** para predecir si una esposa es o no infiel dentro de la relacion marital.\n",
        "\n",
        "    -  **Tipo de Ensamble #1:** Bagging  \n",
        "    -  **Tipo de Ensamble #2:** Boosting\n",
        "    -  **Tipo de Ensamble #3:** Random Forest\n",
        "\n",
        "- 4. Evaluar el rendimiento de los modelos obtenidos (explique sus conclusiones)\n",
        "\n"
      ]
    },
    {
      "cell_type": "markdown",
      "metadata": {
        "id": "5mv01mFuO1-S"
      },
      "source": [
        "## <font color=blue>0. Cargar Librerias</font>\n"
      ]
    },
    {
      "cell_type": "code",
      "execution_count": null,
      "metadata": {
        "id": "EyB5GTlmOv56"
      },
      "outputs": [],
      "source": [
        "import pandas as pd"
      ]
    },
    {
      "cell_type": "markdown",
      "metadata": {
        "id": "-VyT60whOv57"
      },
      "source": [
        "## <font color=blue>1. Carga y Analisis Exploratorio de los Datos</font>\n"
      ]
    },
    {
      "cell_type": "code",
      "execution_count": null,
      "metadata": {
        "id": "XgNeJ1xROv57"
      },
      "outputs": [],
      "source": [
        "#Cargar archivo de datos\n",
        "data = pd.read_csv(\"infiel.csv\")"
      ]
    },
    {
      "cell_type": "code",
      "execution_count": null,
      "metadata": {
        "id": "4uUW3o12Ov58"
      },
      "outputs": [],
      "source": [
        "#Visualizar primeros registros del conjunto de datos\n"
      ]
    },
    {
      "cell_type": "markdown",
      "metadata": {
        "id": "KFhQe_6pOv58"
      },
      "source": [
        "### **Análisis de las medidas de tendencia/estadistica**"
      ]
    },
    {
      "cell_type": "code",
      "execution_count": null,
      "metadata": {
        "id": "eRrLCNUoOv59"
      },
      "outputs": [],
      "source": []
    },
    {
      "cell_type": "markdown",
      "metadata": {
        "id": "TejPQ0dNOv59"
      },
      "source": [
        "### **Visualizacion de los atributos predictoras y de infidelidad (target)**"
      ]
    },
    {
      "cell_type": "code",
      "execution_count": null,
      "metadata": {
        "id": "J8HRv5ICOv5-"
      },
      "outputs": [],
      "source": []
    },
    {
      "cell_type": "markdown",
      "metadata": {
        "id": "4tFPPVxsOv5-"
      },
      "source": [
        "## <font color=blue>2. Preprocesamiento de los datos</font>"
      ]
    },
    {
      "cell_type": "markdown",
      "metadata": {
        "id": "sMxwHl_H6i6h"
      },
      "source": [
        "### **Verificar datos faltantes y/o duplicados**"
      ]
    },
    {
      "cell_type": "code",
      "execution_count": null,
      "metadata": {
        "id": "hro1LG4g7asG"
      },
      "outputs": [],
      "source": []
    },
    {
      "cell_type": "markdown",
      "metadata": {
        "id": "7IQJGRUrUXrX"
      },
      "source": [
        "###**Comprobación del desequilibrio o desbalance del atributo objetivo**"
      ]
    },
    {
      "cell_type": "code",
      "execution_count": null,
      "metadata": {
        "id": "svmp3TCOUdIw"
      },
      "outputs": [],
      "source": []
    },
    {
      "cell_type": "markdown",
      "metadata": {
        "id": "YXzynnj2UjJV"
      },
      "source": [
        "###**Comprobación de estadísticas**\n"
      ]
    },
    {
      "cell_type": "code",
      "execution_count": null,
      "metadata": {
        "id": "PoLv2XpjU4-4"
      },
      "outputs": [],
      "source": []
    },
    {
      "cell_type": "markdown",
      "metadata": {
        "id": "p865XypHVA6D"
      },
      "source": [
        "###**Comprobación y eliminación de valores atípicos**"
      ]
    },
    {
      "cell_type": "code",
      "execution_count": null,
      "metadata": {
        "id": "IzjUwKHJVDpv"
      },
      "outputs": [],
      "source": []
    },
    {
      "cell_type": "markdown",
      "metadata": {
        "id": "Wi2eBPtGOv5-"
      },
      "source": [
        "### **Separar variables predictoras y el atributo destino de los datos**"
      ]
    },
    {
      "cell_type": "code",
      "execution_count": null,
      "metadata": {
        "id": "11kzWLxsOv5-"
      },
      "outputs": [],
      "source": []
    },
    {
      "cell_type": "markdown",
      "metadata": {
        "id": "Ip7RpxIwVSUM"
      },
      "source": [
        "###**`Scaling de los datos de entrenamiento`**"
      ]
    },
    {
      "cell_type": "code",
      "execution_count": null,
      "metadata": {
        "id": "OkQKX5RhVbey"
      },
      "outputs": [],
      "source": []
    },
    {
      "cell_type": "markdown",
      "metadata": {
        "id": "OXN2aU-fVqpo"
      },
      "source": [
        "###**Comprobar la correlación entre características**"
      ]
    },
    {
      "cell_type": "code",
      "execution_count": null,
      "metadata": {
        "id": "SkosKR1iVtS1"
      },
      "outputs": [],
      "source": []
    },
    {
      "cell_type": "markdown",
      "metadata": {
        "id": "sS9726wBOv6B"
      },
      "source": [
        "## <font color=blue>3. Creando los modelos ENSAMBLADOS </font>"
      ]
    },
    {
      "cell_type": "markdown",
      "metadata": {
        "id": "CsK1LK3vOv6B"
      },
      "source": [
        "###**3.1 Identificacion de Modelos a ensamblar**"
      ]
    },
    {
      "cell_type": "code",
      "execution_count": null,
      "metadata": {
        "id": "rqjzg3pOOv6B"
      },
      "outputs": [],
      "source": [
        "#Instalamos la libreria pycaret\n",
        "#!pip install pycaret\n",
        "!pip install git+https://github.com/pycaret/pycaret.git@master --upgrade\n",
        "\n"
      ]
    },
    {
      "cell_type": "code",
      "execution_count": null,
      "metadata": {
        "id": "tnqkF8aFWb5S"
      },
      "outputs": [],
      "source": [
        "#Setup o configuracion utilizando pycaret.  El setup lo almacenamos en la variable clf1 o clasificador 1\n",
        "#Se debe indicar el dataset y el atributo salida u objetivo\n",
        "#Ref: https://pycaret.readthedocs.io/en/latest/api/classification.html\n",
        "\n"
      ]
    },
    {
      "cell_type": "code",
      "execution_count": null,
      "metadata": {
        "id": "Ff_85Q5-WgN6"
      },
      "outputs": [],
      "source": [
        "#Determinamos aquellos modelos que no deseamos se incluyan"
      ]
    },
    {
      "cell_type": "markdown",
      "metadata": {
        "id": "Zxa4u4TqW5iD"
      },
      "source": [
        "###**3.2 Creacion de Modelos Ensamblados**"
      ]
    },
    {
      "cell_type": "markdown",
      "metadata": {
        "id": "383gYibSOv6B"
      },
      "source": [
        "#### - **Tipo de Ensamble #1: Bagging**\n",
        "\n"
      ]
    },
    {
      "cell_type": "code",
      "execution_count": null,
      "metadata": {
        "id": "69HcjWJ7XQOO"
      },
      "outputs": [],
      "source": [
        "#Importamos las librerias necesarias\n",
        "\n"
      ]
    },
    {
      "cell_type": "code",
      "execution_count": null,
      "metadata": {
        "id": "DRgU5BHiXpnL"
      },
      "outputs": [],
      "source": [
        "#Inicializamos el clasificador\n",
        "\n"
      ]
    },
    {
      "cell_type": "code",
      "execution_count": null,
      "metadata": {
        "id": "ZPYlVsrTXu_X"
      },
      "outputs": [],
      "source": [
        "#Entrenando con el conjunto de datos de entrenamiento\n",
        "\n"
      ]
    },
    {
      "cell_type": "code",
      "execution_count": null,
      "metadata": {
        "id": "oOl6yxY4X--H"
      },
      "outputs": [],
      "source": [
        "#Probando y evaluando el clasificador\n",
        "\n"
      ]
    },
    {
      "cell_type": "markdown",
      "metadata": {
        "id": "7CTBGL-9rLrE"
      },
      "source": [
        "#### - **Tipo de Ensamble #2: Boosting**"
      ]
    },
    {
      "cell_type": "code",
      "execution_count": null,
      "metadata": {
        "id": "mb6JvXuqrNDm"
      },
      "outputs": [],
      "source": [
        "#Importamos las librerias necesarias\n"
      ]
    },
    {
      "cell_type": "code",
      "execution_count": null,
      "metadata": {
        "id": "FthPDMSKYJ1B"
      },
      "outputs": [],
      "source": [
        "#Inicializamos el clasificador\n"
      ]
    },
    {
      "cell_type": "code",
      "execution_count": null,
      "metadata": {
        "id": "ewCw7y87YMZ2"
      },
      "outputs": [],
      "source": [
        "#Entrenando con el conjunto de datos de entrenamiento\n"
      ]
    },
    {
      "cell_type": "code",
      "execution_count": null,
      "metadata": {
        "id": "AXhQ6b_wYOdW"
      },
      "outputs": [],
      "source": [
        "#Probando y evaluando el clasificador\n",
        "\n"
      ]
    },
    {
      "cell_type": "markdown",
      "metadata": {
        "id": "tWT_SCKZrNhN"
      },
      "source": [
        "#### - **Tipo de Ensamble #3: Random Forest**"
      ]
    },
    {
      "cell_type": "code",
      "execution_count": null,
      "metadata": {
        "id": "WVUKIKghraST"
      },
      "outputs": [],
      "source": [
        "#Importamos las librerias necesarias\n",
        "\n"
      ]
    },
    {
      "cell_type": "code",
      "execution_count": null,
      "metadata": {
        "id": "kZUhZfWQYdJ2"
      },
      "outputs": [],
      "source": [
        "#Inicializamos el clasificador\n",
        "\n"
      ]
    },
    {
      "cell_type": "code",
      "execution_count": null,
      "metadata": {
        "id": "Y37pXBIaYfw8"
      },
      "outputs": [],
      "source": [
        "#Entrenando con el conjunto de datos de entrenamiento\n",
        "\n"
      ]
    },
    {
      "cell_type": "code",
      "execution_count": null,
      "metadata": {
        "id": "OX-xVTxpYkcp"
      },
      "outputs": [],
      "source": [
        "#Probando y evaluando el clasificador\n",
        "\n"
      ]
    },
    {
      "cell_type": "code",
      "execution_count": null,
      "metadata": {
        "id": "UmHd1AoHOv6C"
      },
      "outputs": [],
      "source": []
    },
    {
      "cell_type": "markdown",
      "metadata": {
        "id": "YTvWEXjIrzHa"
      },
      "source": [
        "## <font color=blue>4. Evaluar/Comparar rendimiento de los modelos ensamblados</font>\n",
        "- Explique sus conclusiones\n",
        "<br>"
      ]
    }
  ],
  "metadata": {
    "colab": {
      "provenance": []
    },
    "kernelspec": {
      "display_name": "Python 3",
      "language": "python",
      "name": "python3"
    },
    "language_info": {
      "codemirror_mode": {
        "name": "ipython",
        "version": 3
      },
      "file_extension": ".py",
      "mimetype": "text/x-python",
      "name": "python",
      "nbconvert_exporter": "python",
      "pygments_lexer": "ipython3",
      "version": "3.7.3"
    }
  },
  "nbformat": 4,
  "nbformat_minor": 0
}
