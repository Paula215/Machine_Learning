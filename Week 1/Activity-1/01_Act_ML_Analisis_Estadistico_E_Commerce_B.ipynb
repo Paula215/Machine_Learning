{
  "cells": [
    {
      "cell_type": "markdown",
      "id": "5Gy0j4e3Bli5",
      "metadata": {
        "id": "5Gy0j4e3Bli5"
      },
      "source": [
        "![image.png](data:image/png;base64,iVBORw0KGgoAAAANSUhEUgAAAecAAABdCAYAAACfK67zAAAAAXNSR0IArs4c6QAAAARnQU1BAACxjwv8YQUAAAAJcEhZcwAADsMAAA7DAcdvqGQAADNOSURBVHhe7Z0JkFxXfe6/7nu7exbNyNZuGy8Sko0XCIQYYwlIiKGCZFIhqcQvpFIP8ipPqlQgVhKo5L3nrOWXqjyoIDmLsUwRbBMwJmAHbIndxqABYzs2tpCNJdmS5UW7pdHM9Hbv7fd959weTff0aGY0I3U7/H8zp+92ttt9u7/zP2umRmAYhmEYRseQTbeGYRiGYXQIJs6GYRiG0WGYOBuGYRhGh2HibBiGYRgdhomzYRiGYXQYJs6GYRiG0WGYOBuGYRhGh2HibBiGYRgdhomzYRiGYXQYJs6GYRiG0WGYOBuGYRhGh2HibBiGYRgdhomzYRiGYXQYrVeliuko21EGSPgX8DAAD2pyzgcvcCegx0yMqvORRS5hoPp17ib07nbTc3EaPGQItycPmYB7GfeHctmfr1TkHejtQxJkENN7LmR+ajECRpZxsTCBmOlqV8krrUQZ54kar2WyzDn9ahel1EOIWhwio12hLfOvnRrjU1TCnfa7hmEYhnHGoXS1YIwyZd2fSKVL1xI6iqZHoqYTvC6PY5RtzK7b0b6LSyIvIacwI0mojxGVl4I8PIzBgR/i2//6aWBoSB7l2wmzCLNMq6a0xsBopPHubD2xej6IYqhRlGMVJnhSYt1I/UR6f4ZhGIbRZsZJlSNLscwk7qLTOa9wHopeLbVUIxrdsmPz9KVTskFjBpDhqgCMwoV1WswzknFnRdektnSphYuYFvOBl1G+8wv4yl/9NXoUfP7ZLvFRyXQ7DO/UVcpLp+t0ssOZY6ajc7KC6VkJOxM5w7Rz9NfFfYVlTtLKAuUr5nVvuet1NGbDMAzDaBtSqxZISmnR8tULld+ri6wOZYlmsr5KWicSHkvyvOxJlZ1Pd+LE+THohNS8TIv54GE8ueEmfGPjBixJYlz9trfRMvdCKtF0SVDVaxElWJlI0/TieiL+ehqqzq7vS4djOsmvzxFf08JHM3WBNgzDMIx20lqcvelLoZI9KqGVEHpxq4tehsoYMLheI7oahTqJ3R7P1SVTHhs2nnpEMYX5hRex8y/+Dkfv2YL5UQmXXb4cuOh8r6pKl571p20m9NXgLqwucyOn3Hrnz2RH27F5RO/1Nm+dc+3gznkhVrg0Ov/aogneMAzDMM4kJxFnCaP+JIx1TshzVl54KIGjSYuQB3lauxmJp1e/9KJHoVxIVTcrbJXCfPgQntx4Ew4++D2cS6s4R6t5wTmLgXwXEOblOQ1VQzVRQYE4i5pOZnMalarU5Rw876xkxqfQWb6oEj1gtlh8kAe+qrPYiQ5go/l1VrlhGIZhtBdpWwu8AHoRq7fH+v7MY+XLdY6mCynOmdJx7lP8nMDJcmUcdc3jRs5VlMsyrQw7d+zWT+Hw176GeapmzvN8dzfyZy+iR0ktwzNuWeciw9KAl1Ydp7lgEFnGAbe+Lduf1jZMxVuuViryhWlQ4LMsPNQYq9qaY+45i5zeUjs7dYZhGIbRPrzyNeN0TXKsAVTyIoXzIqYj1/FZ+zqIqKCVCgZ3PcttlWG9hDfKuMedkWUtK/j+b+MnX70H51E0eyScDFELclRaWszqxa001PkrYVwU/YB/SjdNOo1sLLziOoHJkxSbBYQq81auYGjv87TUyxR7paOK+HrwMfkcjdgwDMMw2ktLca7SHJWVqpdg1AKV6NFJIevCqA5axWE8edtnsfMHj/A6rVHG6HQufdEwanl3trDOVRnm5QPYettnkB06jK5cotHH1GtatAzvasWz9K1ALg6KaSZkRrPc+rZklyVdH3XKk6+AlzWcZBkJ85HJMx4K9NPfvh9Pfe5O5rXkCwdxlZY1w1G71U6tKNzNKl63bxiGYRjto6U4e7GioGqHahWXNFhJB1I8CTZ3SxS6Y0fww0/+C/Y8sxM//6u/BuQLo+Imm9Rv+Sfd06GEsVpB5WtfR7JnL3op3LWYCsnTeQpwplxFNDwsjy6sy53CZTKIeE2n66fkY1SktT/G+dQl1qS7G1euuRa7tm3HD279NHCc8atQEVGg63fvPPo26EQFEMMwDMNoIy3F2XWgonNtytovUHRVvSzvspxLajMuYtc//xN2fefbeO8H/wfQfxZjyzjrWJE6cZZfCp8TZucosIcP4idf/xZ6jg6jO5On7uaQyRaYZoCuSgVH9zwLlI8zUIJSVPHNzyTM0x+FuN4vTDiBdk4K7YoBTNvvx/SYUcIhfS1ejPe+/3exd8u38MLGfwFeGayrOErlNEIeJywouKp6wzAMw2gjLaWoFlHQKFaBhDG1TJ34aV9Ta5Yr2HXzzXjg7i/ht37rN4Glr2VMlHRed/anq5v2IlnfIKEwxxVUn3gcw889jwVBAUFCKc1KnJkQhXEO/e3/6VPAC2ojLqErl3XV1Bqn7GBhwXXWdjS2ateF2YszixGKk1sN70IuB1xyCd67eg0e+PI92HvnF4BikfdSRndeRRFPoK7do5JvGIZhGO2hpThnMpq9SzvexbRg1UfLnZNSfv6LePLfPo+LLrsU+Wt+maqWB9S+6/ynAVXfrHHKOqc24ISiXhzBcz98CF1FiiIvZGoUT7qIwp2lpdzN3BT3vYSj3/++E05EZWYwcWOTXTypUz9rjbqWdV4/7fLmPOqg3iktyzID86YOYrzUc+17sPCyi/HQZ+8AvnAXCxkUbt5PTZ3aFAnDuuwbhmEYRhtpXYmbKl5MqzPRFCOyLmWBlmltDgzg+5/6NPqqNaz61fe6KmPk6iOIFUZCx8D8l1aq0ti1/qrhefAYjuzYiS5a1gkt8EDiTaGNaVGHobfMu2i17/zGt4Bnd7s0NehJBm2qudzxwuwHeXlxbtRTndGr/lJUV60G5vOX4E2/cg2CwUFs/cxtwMOP8J7KtNzrhQi9jIYyDMMwjLbQUpy1JkWV1mY28BIXq5OURHfnM3ho0ydRO3ocCy9Yiq5fvAYoFE7oGcMEAYWax35FK17iVmLqGotfehmVg4dAHWbKtGsp2NmM2nkj1IIEFXruoRUePfUsDt12JzDEwkCp5Nu/Fb0KCL5nmY7oPDrSilf1u8lSabWbaDENpqEJSVCgBV3IYtE7V+G1F1+Mysv78dittwDPPUuPfi40l9N6Q7thGIZhtImW4izZC2htyi6VdRpIsMolHPjcv2F42zZkgixet2oV0D8XSUirul6j7SxhuRPyqfNuCJaGUO19EbXB47xGq5fWeBSXKaQSZ4qjZvTKhm7ZyQVxDTu+9g0Mfv4uP3a6eByhqrKp6jXXni25lvNpjUMn6QLmTW3O2XyOlnEWcZgDFi3Gsje+kWkBrzzxGI7d/e+Mf4jpKgwLDMGJNmjDMAzDaActxVlTXepCpPZl9bimMOOB7+C5r38TZ9OCrs7pRf6ad9JTaq7Si2+r9WKpNmF15XKCrdNaxipDi/jFl4GREWQLIYoZimaY9q2uZZFNAtdBLMf0CiwM9A0P4alP347qp2+j9TxI03iE8TBjat+uhdRRP+Y5YTq8yPSYshJ3+ThBXWyVTgBNcFLAnFUrUZs/F3OTKrZ/9W7gR99jGn6GMyXho1F8Y5w7o61hGIZhnF5airPTILqcumtr4o7jQ9j+lXsRHjqMLpqcc5deACycBxRokfoQo2F8463mFqvbtoKvulaqIlOJqHWpzPFFC2j4SmgKtPZ5jdqNBYy7/5VjeOgzt2PXTf8M7D/gxkhn1HmLqJZdxq5C12VaM4n5iD0uO37Xo7ypV/mK5eg97xzkpcQH9uHJL38Jbv1oWune+h9DU3yGYRiGcbppLc46S5F0MqUhSQ9sxcs/egw9mRAjVMXFl10C0PL0oSWRJ5AxnaUlnKFlK2vaiXM68bVmAMskGTf0WC7QAhs8Vkqi5gIkqMQV6mQJPfk8Legqnvv8V7Dr728CDh2ifxYWIlnd3KVAS9yd6FKYVd2uXRedTitORSy0484zzbn9WLJiBcqMZ37XHLz4o8eBgYcZh1qefQifp1bOMAzDME4vrcXZQfXUylHFIrZ/dTPOLlbQX+hGMUlw1tKLgJ4uahXFylX5krG6lS456XTOabf3k+3qpjle4LkasnIuebm6QMtfzXWszlHlZRHPzWaxlHvP3bsFe/6JFvQrrzA8xZleNeZZk6O48GqL1m6atPCp+jhH86ee27yPRcuWoRzX0BcWMGewiCfuuRcYGfZxpyEdPvqxZwzDMAzjtDJGysZCKXL1xhS8Rx7F4FNPY16UIC6VEcyZg/yiBTR91Y5MS1iWqKiLH3FyyGOnm0ICzRPBvPmIe3pUAU2rmeLMc7J8XaW08++t9R5a69lqlWWDMq9rYYwqzuf5F+++F9Htn3fDn9QOrpTdjF7S5TAHv8pUCndU5e3QMK76NeU3DNG1cDHC7l5Uh4axoJrg2JM/AbbRqUDiOp3Jr3ejcRqGYRjGGWBicRaVKnY8+H0ER4+iu0ZxpmDne3uRm6sqbYmzOnRRTusiLAGk6Dqh1VEqbi46ieK55wFnzUWkE6nFLT9OVJ1f77lIaz0MAuRoQocU7FpUwllMbhHPP/7FLwEDP2ACDE9RFdpV/NqksuqoJ+8yoHi0qzQ0o0r/WcizoBEwXD9PFwYHsed7D9J6LqYR+mz7Pb/1cRmGYRjG6WUCcSayHve+gAM/fhxhXEVWg5NzWQRdBaC7hx4YtEZBTJXZibH+eChx9t22iC5LECXmF16I/MJFqPBQ7cs1WrRySerkV2GD3m6Ukgi5IEQcVRkX/2g9zy0EyBw6gO2a3Wv/QUDjmEmW5nPsFdodp1niUbrjcpbKtk6pwbpvLmJtVX1O67xQHsG+R//Tx6v2a3qri3NdoA3DMAzjTNBanKVMmrjj6acx8txz6OvKIcrEqFCkNXYYbkpMekokzj6I7/1VF0MvaO6o7kHhFi9CsHA+Io2hVnD60p8Ly63bMFRRHb5YCCirdzbjDMOc64kd87ifhYT9jzwCPPgAI6gymBdd+VN6J3Lg0XGagxOooMA4Q6Wh1alyGfTlAxR37wae2TEqzsLnzDAMwzDOHCep1k4w+Nhj6CupijmDCo/VJqwJQ9z1VLEUgdqJfeW0RxXMIf07gaNous5eGpYVZvFz17wTES1idQeLKayyoHkFGTcMijFkstT8AGVZwoG6jGWQpQZTSt15dQLrqxTxxJZ7geFjTFYCrYRO5MWLPKlvU9zN6pwypq7eLCTonqoseAR0fZUKjj9C61kLf2jO7bTtWUGcS41vwzAMwzidTCzO1SoO7dyJPomkrGiKbC4Xolop+UlJJKT890LoO3LV/zTTdkAlc6ItP15+AVrgXZdegmDRIgyrjVhiyyxo0pM8BVtCnDA9t7aUqswVs7OImU0NzeJfyOu9FOThvbuRPPaot54VO6OX5iqORhTK/7kIhUQ3jtwSkQ4qvsZJhyyIHHl2l9aRTE83x2UYhmEYp5/W4iwT8fAhHHlhr1ukIqAVGdQozlTAcnHYTXcpy3pU7CTAafW1F1J/Tl7GuhotcCw7H5f+yrtxkOJcrWZQSAKE3K/QanW9uCnYuVgi7OTURRNJyDN+BrE89bSH8RQPH8DuRx7203umJm1St3QVsK6r7kB5Sk+4QgULG+UiolLJFS5cczXp4rWjL70IHDnsT/I4tfsdE5RkDMMwDGNWaa03tCjjvS8gQ8EMKXwhhU3DnrS0YlwsonZ8kOJFlZSopcLme26ndqsTau5pU1e+MJ3QMwzRd+1qBMtfi5EghyoFt1xNUOjq9t7jxKUla1oTlUg8ZT27hS0YXpscz/Uy3mO7ngOOadpNTR7SgjTMCbVWCsp3jPLhw4iGh5FnYSB2VeoZdOdCRBrrvG+few+8OKvIUK+i14thGIZhnF5ai3MlwvH9+5FUtc6yl1xVTGcpVkm5hGFNpVmvEnba6wXwhHallqpcvb6ZKA53fNEFeP1vX4dDhS4MhwUk3JYZXy6XY7QaaKUW6Rot6BryTtxriLM1VAJuqdaZaoy+WojKXuZj78uu2t0loTZkJaH9Ou5AL3RO6Zlv3tfIi7SQiyV05fKuCj1LyzzLgkhUKmL44CElSce0Rq1nd6OGYRiGcdppLc4Uu+jYIEaOD7mFIySWIkerN4gSHNn9vB8PLKFTDBRcyekobmYQiaHfOJ1LD6GFKLp70Lt6NS685p14vlbFcQqzaqSrFM1CgelpiBX/nH8XWh3H/HArr/dZFCj10aFjFOeX0oh9mLG4dLXD6won4Xav1QqO7d5D8adFTA9+OJg8UfzLZQwfPTomcP3ORk8YhmEYxmmltThXKYTHRxCVI/oIXZVylC7t2M3jl7c/AxyhMKqKmOawbOiEAp1KnBPBJNCsXxQzXo9o9Sp8TVXhSjJTAPrOwtI/+D30XPUGDFH0ert6EGl2LkaQyD+t5CqdwtYyqhDXylOKmcdpb+9Miflz+fBVz5oARek7DaXTvnZdfpzjkdqn9x3EkR270MvCRsSCiNqzFZ8mJKnxuDh4nP7SSBySfYWtH88iO3diy8Z1WLVqFQsdfA9Tp+N1G7dgZ+rtpJxCHDs3Nvo9mVu3JQ2UsmVda38ndc2RnGZa398qrOL7MVV2buF72iKOdVum8qlswbpVrcKml6fDtD9f+m/4jFZh48myvHNj430yk83e9V6ciE/PRItUW7znq056w035bJXuNJ7TTGYd3/Wps6Up7ql9rqcjT6f+rGxZN3lepvJbclo+uzY9M+PZybxs5HvM7/+YdJzTuXXrsJF5m9qnf+ZoLc4UokpxxM3Q5ap0JZg0bdWTupvCOPjcLuDQAaBSkmQ5l8om9Yv+Yi+SCfddey1FWh2fFY8zYUWGFvTSC/GWP7ke+csuwU8HjyLo60PJdQxjWHqLKZaJa8tmeAmv00bKNPcTCWVCYVUHNZeDjOtY5v24Q5efsfCjYKQ89+yzOL5nN7ryASU/QZAO2VLOVJWvjmLOlHcdzBrjmD12YqO+WCtWYM36TRgYGEjPe3S8af0arDipGJx6HDu2N/o9GduemYXHdtszZ/Dh34n77mp1fwMY4PsxlR89/mrgA2v4nqaHJ+B7euN9k9/LlnuwaVxghr1nKonXOfXP95lt6Y5jANt3pLut2LG98T75WY2jMcIWXlq/5wOb1rBANPG71RBti3Sn85wyAkzrUW2Ku9Vtt2LW83TKz8pOvn+T52Xy35LT89m165k5QVqozazAijXr+R7z+59eGUXnNm3C+jX0c9Lf2jNPa3GmbpZqVQpdFUEil1D4vHWZowXcP3IMg9+8j2pHQWvQLglx7Bau0PmQlm8GWkhCbcIUOoqnS1IGtObmDnqAS1+PN/31DQhXXom9GsIUdtGnIqBVq0lOtMYzrXV1SosrzEc272TUVXNrALR6jelYaq5dxq0sOSuZrr62dMB8uzZvxnHk/vsxtzJC7S0hydVoMdNfxPtUzEwnMyrKdIxW6dULBrODSsorsH78N7IF/GKt+ViL0vdsxDE1rrh4ebo3A664GLMQy6wwFYHced9d47/I02DLPZvSvSY23XhyK3aUM/f5nm4G7ppCYWZWuAKz8ajOLpPnaebPylTRc7JiaoXTlDP32TUy83RZsOX3xxVq0zOT01nfo9biTBEKwhw0LaYbIiWNohAHFGj1lO6jkO159EfAkUNAuUKrth6KOGFLSdtyddl7ScVNqeoE00CObsVyXHXj3+C8d78bu2mdlynGSZSgu6vLWeIVLYBB712FHkRR7CzwuBZRnH21utLxK1wRHfO6BLUaVfiaZk7rQFOY8cLL2LdtGwrlEoVeIk/7Oq6y8CGfvEfmJ+sW9WCYej61cds0/zNCD82acSXllRs2YwcTcWtd0+3YsRkb1q5MrzaXvmcjjjGs3NAQrtndsjr1l7L6ltb+TrjNWJv6rbP2fU2RnFFWYmX9bRCT/ug1legZeGzwSaHVfeMEv7f6Abjrvsl+dmb58203A+vxsVn6xVu5YceY56zZ3YJ2PGUzytOMn5VG1m5uTH/H5rXjnt1NN27kEzZFZvGzmxYzSlffHxZsm78/K9di846mz4rHmzeMfY8653vUWpxprfbkadVmcrR5A0QUMNqpTqFCalxfkMehXc/h8Lf47tVKyPKSpsZGImXMU/DU3sxdZ23nGFJO+zrHV6dxMf0xMgmhlpI873xc8Bf/G4t+7b04Km8U+Up5GGFIyaSI0idzm/XDjyWjjCMs0IqeM0cXXNxaqVLlgXq1el7TfjJAXOVRjYWAYgXHv3M/ju7egwI9ylIWfrnJDLWbMYd55DR3uBLgdfcBas8dz5ydGz8w7qHRF2rr9asbLMvly1fj+lu2pl+uxtL3bMRxWlE1XbrrWYu2ajO57rqxxYVJfvS2fKzh/V173XXp3tRotLpXYsPmDQ0/kJNZBR3/+U6FpgLNtAThZ4iZPiuTsXz1LdjK56OBge04WStH2z67WUq39fdnB7ZuZUFpedOXhMerr+d7xN/5TvsetRZnimp331xqYZ5iSIGiKKqdV8oYcJPjud5qjF3f/hbw/G5apbQ8FU4qRkFzOl0/JL49V0nROY2TKGunRus24n7erbGMs+fh0g9/GAve+CYcoyBXapr9K6YVL1Guuc5b6rTlhnExT1mtjnXBBYrQUU/XzewlFWf8GfpTm7KGh+HFl/DTb34LPYyrIAuZngOWIkL6kQirAFDLhSj0SfAJ01JBQ1Iv0VfhZGaMb2NRqbvZMh2L+3I1lL5nI47TCUutTabAyg0fbYtF08C172uw5k/2o9dYzciCxbXp7pRotrqvw7Wrr8V1jb+4mLhs0Omf71S5DjdsGHPT7bLAOpqZPitTZHXjsz+5ddiuz2420t2CjzUps//+TK64nfY9ai3OeYrzwgXI5btowVJWA1qgWVq+Ndq/FKssLc3F+QJKjzyG+GvfcB3D3ExddU0kToO15bGbUIRbXXL9rimWEnsZzrmgi2dp1bIggBwt1oVLsOz3PohjSxai2hUyviqSKHZV57LLVQjIM0+x3PyFwNKlPEn5d7qv1mom5vIgURU8rpSZcBXDd38ZpWeeQU+oebop7iojRL5K3IkvXZDPoX/BfO7zwDlZ/LqoBLSdAU0WGR8bXHftNItpsxHH6aRj87ca72tU5wl+9LZgrDZPu2Cx8z40/t5eS2t3Oa5t/MWd2HLv9M93Gqy49jrm/gRmPTcx02fllJncOmzXZzfjdJtr7VZuwG3Xvzq/P63FmeKZW7QQ4ZwelGtarlG65Kt4pbayRDPFIhZXYjx5938A27dRAynOqhaWnjk5S2fVElJJaqSOtaurGYq9hmnVtMgEjyPN0iX1peWKq67C+b/0izhYKSIjq5lpZ+RXfywgZCiYRSbUt3QZMI9CKkvZCbOXUZdhB7eaqlN5+/Gj+PHmr2IO48yq/VmFDlexzZwy31pyUhOcBIU88ksW+zhlOZ+IdcbsbOq96ErK03xuZiOO08m4zi1rb0CnfDdWN6pz6x+9hi/39IWxuZqyHn5504/ORJZ7p3++02L59bih4S0363ksM31Wpsw4wboMK9LdCWnXZzfDdJt/f3yB59VJa3GWGXruEoTz+1HSrFwUZW9dUkTVQSuOkKN4zc/R2n3hJTx50z8Bmrhj5Dh13Quzs2B9RbFXZWkdd6W/QvJZZVyyYIVquZ31Kg9d3bjwPWuQ9PdDXcGSII+IYh4xzojeRxS6rx/Lr7ya/mV1KzamF3Gb0AMjo/Y6IdeEI3jpeTx2803IHTuEubkAIcVbS27Iyq8FAe+PxQnmo5LE6J3XDyymRa6qcBVImL5idyh/M2DcEIxT6ME8G3GMg1+AFSoAjbpVWLXKj/2bFi06t7S3I1gTTdV7A+ube2Y2VclPWxhbVFPWwy+fWnXlafl8yaY1Yz/fJrem6UObRVZ/tLENdaYW2MD6Fa3vYVX7rPJTy9PMn5XJ0fjedVjV9PmuveH6KT1Ts/3ZTZVTT1dDy9LdlFkZadImvDI2o+Ud589Hdt5cFHOyXCnOzpKU6GVoYXKf4pVEkVu16vjjj+OVW2+l0nkxzNDa9vKbOolaKmz1XUm3eoNnJYLy5q5zRx3E8hTc1y7HBa+7AkPlquZEcUKqdmdViQ8qL/MXoOfNv6BI6OqRe+l3cWdiWsi0modGsP/WTShvewI95REKc4QCE9NCHipk1GiZu45kjLdM1837htqyGW/dYk7v4meIAQwM+LF/GYr0VAuuWz62fowlQFZuwEc7qiG0qWqb9kTDqKqW1YzT4KThx1dXrv9ZMCPPlAU2WSendnCyPJ2mZ6WxEKbxvY1DiVau3XzS/gsNvOqs5x1NQ9dX4rLmKoLmCXeaXRsLec20FmdXfZ3B+VdcjpF8iGo2RjUqOdGOtZSjhCsIUaJoa6KSRRTBJ+76IkpfuAsYHvbDlhSNq7L2qNe0UPWx33OV1JS/VPrcxp9JJLa0jBeecz4FOcesZBHHmqFMeQlwNMzh9e96Fy3cRRRyWu+8XlVVNsO5rMtirzK/IxUc/vQdeH7z13FeuYI5TDugdZyNqshyG9CKLscV3kuCMsV8JJfDRW98MwsIoY/L5XOiN+lnBIr0mik9sI1ttaITq5Qaq7b5YzZGnSeqZpwqjYWT8eGbqyuZ+JQLPq9mzogFNpWq2jPNSfJ0xp+VlWuxQT2Wp6zMnlef9TwJzRPuNNNBhbzWukNhlsr1Xb0SgxQqtcWGgRc+VXCrM1ak4UoU64yqgpMESyh8D36SFuq/fxmyVtU7WrXjNVnRDJ/RcpFEHcrUdq0e3LJNU1V2aUqEHfLK/e7+eRTqwI1X7u6iNc0Lr9CSDl+7DF3v+mUnouWqKrsDlhs0XCsNqqrsYgmHPnM7nvji3ehnfnoqVXTTsta60TmKchSXmZ5PO8ttmVZ/cU4/Mm/4OV9z0Ap/C/8l0FjlHTt2jBvfrLGzo0Nn60yh5Lpz443jhk/dMO3G5i1Y556DCdxslGpXfxRjO4Se+NE7STXjlGgqnLQK31xd2Wy5n0aax782uOahNrMNLaHbGnrhnnoP5AnHFG+dWlXt6WD6eWrDszKwzc0nMW1m8bObFqeU7gpc1vCetZgZb8VljYWeDmYCo5Ayp6rlC5dh8aVXoFguu7WcNTGIrNcwm3MzhtFcdecjWqKFOMLiweN46OZNKH2OFvThV2gml2llR67lWf29QM1U1LSFXcLSukTzbas6vC581EvXhEzRDXp7UaGoZ3OaOrSMKgU/6unDZb/5G8ClF1Occ8xmnkF84KwGW1douR8+gsM3fwrbP/sFzD14BD3Ma0IXZnIo04IuMyO1PEOx4KBJVWq8vyrj6FlxCXDJZRRnWs68L6HXulO2ZsKKxicHmnpuus/5bMRRZ/ly9Q1tRGNnb9k6fhKRk0/hOX74D9a+r8OG9tRprjJMf/SaeklP2+pv7nTDAk1jO77c+IkRmmcrm83Pt5NYfv0NY56pn5Eq/YmYpWelFScKYTuwuaGUzfd8xSRzrE9Auz676ae7HBdfke6mjPvdouhrTPOJQtT437pOobU4qx1X1mNfHy5661tRDfLUyoRa6IdTaYpLGcQFzfBFi1lLPWrt53NyIeYeOYLv/ssnsfefbwae3Y1sqYKgUqTF7FR5VOU08YdmH1O7s+985buPqdrbqWAYoKyZwWg5K0iFL/vp7TVvuxr9a97DuGTd+h7hAcNkaV1DazHv3o3nN9yEJz53J/oPHcK5+TxFWdXwOZQo7rl8AVVlXqLP0HIS7iFul73tHb69mfdeF2LFLzcbLG9+ck6hCmU24pic5hLoJLQY/rOhsxqbG2iuMlSV2cYGU2b6Vv+EUzBORlN15Zn5fNvBanx0rCU061NTvnqYrWfl5CzH6ltua6wlOmVhbddnN/10mwu3M+7p3kZai7PkyInzHCy4+q0I5i1CpeY7hqk9N0MxlJPAar1niXWOIlstDmFRIcAyWtF7vvDv+Mmf/y3wzQe9aEYjTK2KMi1prTrlOpilaakEU6UFrfmwVf2tKTWl/hEt2piWbibJ4RC1N/+WN+E1f/yHFNA5XtClz2XGXWXcQ4PA5q/hyT+/Abvv+jLOHRrBIgp4woKBOrGprTpimISiryk63TSgDC55L2ZZuJi/CItWXQ105Z1wMxfuet3NCuOqVDbhxuk+5bMRx6wyftKR6VcJ16HV3lCqbXKzVXU5rjfseqxv0ObpWv3j29unTlN1Zcd9vrNHsyV0133/NYod02MWn5VJWY7rb2tsuz1VYW3XZzfddMe11U+hSa5TaS3OGoekamuNOX7dpTj/qqtwkKdLtchVHdPWdGs7a2yyLN0o4nmKc3cPrdKR4+gqDuMCilu8bRu++1d/g+c/sRF4+mng6BEUqiVauWU3q5gbj6wabVq2YWohS5Qzrtd3GUf370PY3YsXEl573eX4+T/5iO8EJrtW7cqlot8+/hh2/N3fYeD/fRzlx3+MZfkQZ7EQESaVtK3cr2IV8H7KWvWK0atqXtX0Me/zAO9h+dtpNV94gbfIUzUeK8za1q3pU6a5FyIZWP+Bk39ZXO/CMdVRsxHHZDT1JBUTDklo4XeqQzXaR3PVdiPTHv7VVE05YRtk6pqbeBuqK8/E59s2Gi2hgfU34q50/2eG2XxWpsK4tuvZsZ7P3Gc3zXRbfH82rXk1fDfG01qcKZZJLAnm5XweS37jfSieS+s5J5HzDccRFS7s7lLrrbdEafkeL5VQmNML6h7FL8bcIMbZRw9j7x2fw6N/+Kc4/ombgQcfAl6hlasZxaSSFEaNT5b1HVICA41rqmqqzZexe9t2HCrRcl65Em/+2//LgsLPMeIeinoMDB4Dvvt97Lvx7/HQn/4ZDn3pHsw7cgSLC4wlKdESp9VNC1wWuR5yLTnJUgQKWguaSWt1K80QRnmnKF+Ixe9dA3QXeO9jJFi7dHWBng2aeyG6L8uKVePXW925JV0usGl4EplpHG4N1foar00PrdY9XdWc5kmGRI0bPsVybicNbZ6IcSXsUaaf/+ZqysnGVjb3GG+2ZmbjGelUmi2hplUw/8sz28/K5NB6HqdWp9bzu12f3XTTXX1Lczuyvj9aJ3ojtjT84Gkc+D1oGhrdMUwgzt54dmRpPb/+cpyz8q04EsVu0pBMkKUYV1GKaJkW8q5DWBAE9JpDUaIbqjd0BUFcxUJaostzecx5/gU8cdsdGPjLv8YTf/FXOHD7Z4HHHgf27aNFTaEdGvbu+HHg2CCGH/weakNDWPPrv4Z3/NlHgQvOA156CfjPx3D49tvx6P/6c3z3xhux8+67cfb+/bgwk6G1zIIC06Qau2k4qxRx5TXUWG03cUoWNd5DLsihUqZo57vwCm/2nKvfwnv0HcFktM+uHDehDgnjescOpOutjukQsmLNxMsFzkYcfMKdfz60o/7ptO5pY4iV2HDbBJZwi0lHOmIe7akwzqJImW6V9rj3YAriPm6u46bZymbj8+1YmtoRp8mEE344NzML6WRxn2yZxSnn6XQ8K1NhXByn2lQys8/u1Jluuqtxy47mAi7fuU3rsWbF2M9q/DjwTqKlOGsRJ9VqeyOSXnq7seJ3fhv5JRdgOA5QlU1N6zjORL5jM63TTKQBTXked6OqDmMSOlngtIxjCmMvBfKcfICzjxxC+f778dSGjdj6oQ9h+4f+EAf/5i9R3fAPwL9+CrjrTrovYfdX7sVFixYCfbSUv3wnjv6fj+C5j34YD31oHZ696R8Rfn8Aiw7uw7mZGN3MqNqpKbfcqpDQhVI5gab8jGmdR7WY+c3SIK+66ndZ0ppx7BBLIOGFF2HZ+3+T96jx0rS6deNOnPUmpLvpJt2dOatvQY0Pz7ghSy1ZibWbbxs/BeYM4hjX6WgiNDZyx9YJp99sHBcspj82uH20rtqebpX2uPdgSuLePBkKfziaO67MxjPSoSy/vrmjUudz8tEKU+O0PSuTMl7cxs+ONzXa9dlNO10VcBuWVJ0iHTRevrXlXK/K5YtmznJrLl+0FFe+/3ewP1dAmcKbqDMYvZRGRly/LPWIVhi142bclFty9W5VNErpv4siPbdSwblRhIuqFSx55TCyP3kSL2y+Fw9/iiWYT3wCD3/843j8H28C9r6AV57fi0duv4PXbsWer38dyVPbce7wMM6j1bukmmA+LeM5jFfDodRuzeScxV+pROjpnuOrymXR6z7UuM0sqdtZlsJcpEjv7y7gzf/tt3hvF/EGeI88p5r2ifB3Mkvw4bllq5Yp0w/w+PWCtfaoJg3YUds68YoqpxqH++Hng6t1TBmuEcaThqttveUkP/g7x001ubKD5tFuLH9cgYvTvbGoarvhd2/lhgksmYsZwxiuOBFbY/eUldgwRXFXdWXDO9+qV/YMnpHG+28xU9JYmjuhjbm/UZoKdJN6aeVhFN9Rqfl3s9XwtXFDy2aR6cQ9tvr5VPN0Op6VcZ9zutdMY9WwaFyZ6nR8du16ZkZJl1Str9nc6jvEL5H7Hq3dsBk7dtC4a+N4+WYytCKdfdwABUqnk0ByJLGN/FSYh47gqb//OA7/B61aCl1Y4NVKGb0ZrSwVYDCq0PgMkXUdymRZK+oaAlUz06ndV/FK8BW3vEm8ZV3Lqa3bz3FNK1yiynPqJqZlIlUYULt2yPi11rOGTylO5ZAxuim1q26ANMsSNOtjCrSWgtTVSlRCmKeJz3TLZZ5nfvdmMljw62tw8Uf+GJg7j4G63NrVMpwVSvEahmEYRjuQDrUkQ3OTcpgeqO6abt58XPrBD2DO5VfgAJW1HNEyzeQxVCyiSgEP3BAk35s7W5OjIFMcvXx6IaaJ64Q2rkYU0CoVtYo8/fXSmu3mNsfjXsVD0c8zji4JLM8ldBJmhVcnbw2EcmtN+4idlSxtdmKdRC4PakCuUdC7u7rd5CNJzDx19WBfVMXcN1yOi3//gxTmPop2nqF8L21FZxiGYRjtpKU4q41WQpWjYGmBiKyqqLXesrYrLsEb/+jDOHLueTgW00JNQuT6ezFUKyPOUgwz6jRW4baMXK2CHIVSQu2qmym6FVrEMc1T9ZYuZAtgaIpsFlUKtl8akuJbLqNHw7gosKVqEdR/FHrzvBZTp0eQ5Vb7mhNbWZJgy0jPJ4Fb6zmpMt18wNC8D8YXUcEL+R4KfS8OD5WBS5bj8j/4feD88xlxD+OgMOufcamKXgJvGIZhGO2ipThnKaCaEEQyVV+wwpEvULGplFdfjXd95CM4dtZ8HEyybm3lrHqG0ViVSErcvMD5sLw82h4s587Jn7vAc7KkuRPR6ZTmv5ZIyvJWq7U6lJVLw4jKRXTl1Iaszl4Sc4bjNqbJrA5hqjLX5Ch55V9V7DpHcS5VKOpBAXtHqojOuwBX/k8K81VvYUJdjCPw1expvt2OYRiGYbSR1m3OxE2jqZ5URJNZxhoupU5TbsUpanqxAvzHvfjOJzZg4dFDWMRTUZXWckjf6lTFoJpRTLsSXKFKb4m3KxEwWdf+rH2JKf1IoHU+pwCqgmb6corFzyhWQzWihOucqscV1sfKxCTmGied0BqncPMvkpWuyUYyXTgQAaVzzsXb/2Ad8KvvBlWe6dJlsogqVYT5PHVZNQZMk+cMwzAMo120FGcnrtQnybDkM6STNNLApZbRyuR+UOVVrT71nQcw8A//gPyLL2JJIY+wUqa4eeGURessZSqyE2U6zaft5dYnq/iEHwbFYwqjJgehfcyz9JcoFzpPp2MJuhNnib98eJSMxFnWdp4nFV+JcY8EeRymdZ/QYn77H/0R8Mu/BHTT+lcHsbqVrMzpptN7Yw78ecMwDMNoAy3FWQIlJMwSRG+bnlBCJ6LyVdY0nBTPgQFsvflW5B7/CZbEMQ1hb7lqIhBVWSsJTQCSaFIQReLEW5F5p0FYOu+z4mSWR17gXZISbDppqBNUV3qgr1AiLWu6gmzgrexYK2Xxj7lAKQixhxZ/z1W/gLeuo8V85VuAQheV3w+7cvH5SJW6YnQ58XkwDMMwjPbQ2nJOt9rzMsXXMb6iuErrldeyAcKkCq3djGd2Yc8/bsKBHwygqzKCbspjKAuU4u3HQKtqXB218oglroqYYiptdHNpU3SdZS3hptMEJrJkVb0uJ9EM1JFM52P1CJelzSIAw6rFWgtmyAjXBCilJMRQNodjuRwuXfMeLPnA7wBLLwS6ulHNMlcuP5JiIVmut7D7P585wzAMw2gPrduc1fbqBMrLVx1vMQtXCY0RinR3kEO2VPLiPTSEka98BT++4w4EL76EOXEG/WEOIS1m2cK1oIZIw5xkRTPZmE5iLNF1VdL0L6tYHb3UXi0LW37lR4m7zml0mlikpkU3tEiGwuuYcVWrFQxReF/p7Uf5vHNx5Qfej953vwuY0+8nGaGAJ5q5LL2Lup0svDgbhmEYRvtpLc6JFrcIqF7qtS1P7mwqzhTOWGOas/CjiRNolLA6csmiRbEI/PQZHL7zLmz/3gByg0PorVLEkxhdilKCKqHWnyxkVwDI8jxdQgmXFR3qKrfcV/ZcFumyspwpxNWyxjxLbANEFO8irw1FVURhgHj+PLzmHb+E8/7779Jafo2rwkbQRQue1n1BncPqMixhTuW5/g6kuybShmEYRjtpLc5a0jEbokJxlg2tEceSUEmp5EvipepkGbTCTYnJs0GNgqmOYhHFXUs5PvY4tt23GQd/9AjyBw5g7kgR/RTnUFXemmgk5B4VP0noJM6asDuboehXeKzx0bSSKb4Bz0mcZS3X4hq6cl0oMZ1h7g/ncjjSxRyesxDL3vFWXPjua4A3vNEP+QrpNIZZOs98qkZ8tKTBHLvWbh2qBCK8V3d/JtCGYRhGu5hAnGll0uKsUM3GirPkTGgxCTc1pnpSOzGVqGWQk9hJCBmlbGq3ZnOxBE3iOvSdB/DCD3+I0osvIjp+FCGtb4VXG3I+yHGrqmnFzXNaRYpbFQbqBQAtURmp/Zn+R2g5J4UeoH8u+pYuxbK3r0QPnbOUteyjqq7d3KKKr8ZD3QFvNlZ+mW9pvYvd39eoOPNANvuJym7DMAzDOPNMUK1NJwGjWamuUpIqCZabNES4EHyR+AY0N1XFzUMNoRJOVJ04U4BV1a35NjUO69gg8PRPsefhh1Hc9zKO7H4Ww9xmho8jT7HWdJ1uvmxa0upsJmUuU6SLWqqyUEDXvHnIzZ+Ps5e/FnMuuhDnvelNwCWXAr1zmCqVVWHc2GXmg7sehuWhq8J27dbMeWohC4mzE2h3U+7GiL9jwzAMw2gHE3QIS7cyg1N5lri5Rue6hknlVN3soOg5q9M7hZGV7a/yNe3I5U5UU8FW2/SxV4DDB4H9+4ADL6N85BCqw0VE5YjRZxB0FdDT349wwQJg4SJA27PmAou41TjlfN5ZyaoWz0qUlV2Z8bwkI5mX3D34O2AGY4m+27h8nsi9nGz/Ov6MYRiGYbSD1uJsGIZhGEbb8DW6hmEYhmF0DCbOhmEYhtFhmDgbhmEYRodh4mwYhmEYHYaJs2EYhmF0GCbOhmEYhtFhmDgbhmEYRodh4mwYhmEYHYaJs2EYhmF0GCbOhmEYhtFhmDgbhmEYRodh4mwYhmEYHYaJs2EYhmF0GCbOhmEYhtFRAP8f33CnqKcuC8oAAAAASUVORK5CYII=)"
      ]
    },
    {
      "cell_type": "markdown",
      "id": "_S8RAMPiBrGn",
      "metadata": {
        "id": "_S8RAMPiBrGn"
      },
      "source": [
        "## **ACTIVIDAD #2:** E-COMMERCE AMAZON LIBROS - ANALISIS ESTADISTICO"
      ]
    },
    {
      "cell_type": "markdown",
      "id": "6wpwWXaBB0DN",
      "metadata": {
        "id": "6wpwWXaBB0DN"
      },
      "source": [
        "###**1. DESCRIPCION**"
      ]
    },
    {
      "cell_type": "markdown",
      "id": "tuESwWeu_q4m",
      "metadata": {
        "id": "tuESwWeu_q4m"
      },
      "source": [
        "**Amazon.com Inc.** es una tienda de comercio electrónico estadounidense que ofrece una amplia gama de productos, incluyendo libros, música, películas, y computadoras. También ofrece servicios basados en la web, fabrica dispositivos electrónicos tales como Kindle y tabletas, y ofrece servicios de auto-publicación. (Fuente: https://www.bnamericas.com/es/perfil-empresa/amazoncom-inc#:~:text=Amazon.com%20Inc.,ofrece%20servicios%20de%20auto%2Dpublicaci%C3%B3n)"
      ]
    },
    {
      "cell_type": "markdown",
      "id": "0q2sHNF5B04k",
      "metadata": {
        "id": "0q2sHNF5B04k"
      },
      "source": [
        "### **2. OBJETIVO**\n",
        "\n",
        "Realizar un análisis EDA a partir de los datos proporcionados y calcular/visualizar sus principales estadísticas."
      ]
    },
    {
      "cell_type": "markdown",
      "id": "-CNWg5XpB3Ul",
      "metadata": {
        "id": "-CNWg5XpB3Ul"
      },
      "source": [
        "####**3. ANALISIS EXPLORATORIO DE LOS DATOS**\n",
        "\n",
        "El dataset a analizar contiene datos de libros vendidos en Amazon, tanto en formato digital (plaforma Kindle) y fisica.  Cuenta con 133102 observaciones en 16 variables.\n",
        "\n"
      ]
    },
    {
      "cell_type": "markdown",
      "id": "BtWWIqJiB8h0",
      "metadata": {
        "id": "BtWWIqJiB8h0"
      },
      "source": [
        "####**3.1. Librerias**"
      ]
    },
    {
      "cell_type": "code",
      "execution_count": 41,
      "id": "yu4QnqvKCDse",
      "metadata": {
        "id": "yu4QnqvKCDse"
      },
      "outputs": [],
      "source": [
        "#Incluya las principales librerias a utilizar\n",
        "import pandas as pd\n",
        "import matplotlib.pyplot as plt\n",
        "import seaborn as sns\n",
        "import numpy as np\n"
      ]
    },
    {
      "cell_type": "markdown",
      "id": "6mnEcX0bCBiF",
      "metadata": {
        "id": "6mnEcX0bCBiF"
      },
      "source": [
        "####**3.2. Carga de datos**"
      ]
    },
    {
      "cell_type": "code",
      "execution_count": 42,
      "id": "45f23963",
      "metadata": {
        "_cell_guid": "b1076dfc-b9ad-4769-8c92-a6c4dae69d19",
        "_uuid": "8f2839f25d086af736a60e9eeb907d3b93b6e0e5",
        "execution": {
          "iopub.execute_input": "2024-01-15T23:24:00.911401Z",
          "iopub.status.busy": "2024-01-15T23:24:00.911058Z",
          "iopub.status.idle": "2024-01-15T23:24:02.298453Z",
          "shell.execute_reply": "2024-01-15T23:24:02.297311Z"
        },
        "id": "45f23963",
        "papermill": {
          "duration": 1.396421,
          "end_time": "2024-01-15T23:24:02.301204",
          "exception": false,
          "start_time": "2024-01-15T23:24:00.904783",
          "status": "completed"
        },
        "tags": []
      },
      "outputs": [],
      "source": [
        "# Cargar datos de libros_amazon.csv\n",
        "data = pd.read_csv('libros_amazon.csv')"
      ]
    },
    {
      "cell_type": "markdown",
      "id": "tXm08ZmoCpSL",
      "metadata": {
        "id": "tXm08ZmoCpSL"
      },
      "source": [
        "####**3.3. Resumen de los datos**\n"
      ]
    },
    {
      "cell_type": "code",
      "execution_count": 43,
      "id": "c2c9271b",
      "metadata": {},
      "outputs": [
        {
          "name": "stdout",
          "output_type": "stream",
          "text": [
            "<class 'pandas.core.frame.DataFrame'>\n",
            "RangeIndex: 133102 entries, 0 to 133101\n",
            "Data columns (total 16 columns):\n",
            " #   Column             Non-Null Count   Dtype  \n",
            "---  ------             --------------   -----  \n",
            " 0   asin               133102 non-null  object \n",
            " 1   title              133102 non-null  object \n",
            " 2   author             132677 non-null  object \n",
            " 3   soldBy             123869 non-null  object \n",
            " 4   imgUrl             133102 non-null  object \n",
            " 5   productURL         133102 non-null  object \n",
            " 6   stars              133102 non-null  float64\n",
            " 7   reviews            133102 non-null  int64  \n",
            " 8   price              133102 non-null  float64\n",
            " 9   isKindleUnlimited  133102 non-null  bool   \n",
            " 10  category_id        133102 non-null  int64  \n",
            " 11  isBestSeller       133102 non-null  bool   \n",
            " 12  isEditorsPick      133102 non-null  bool   \n",
            " 13  isGoodReadsChoice  133102 non-null  bool   \n",
            " 14  publishedDate      84086 non-null   object \n",
            " 15  category_name      133102 non-null  object \n",
            "dtypes: bool(4), float64(2), int64(2), object(8)\n",
            "memory usage: 12.7+ MB\n"
          ]
        }
      ],
      "source": [
        "data.info()"
      ]
    },
    {
      "cell_type": "code",
      "execution_count": 44,
      "id": "U2CjgxoPCfXw",
      "metadata": {
        "id": "U2CjgxoPCfXw"
      },
      "outputs": [
        {
          "data": {
            "text/html": [
              "<div>\n",
              "<style scoped>\n",
              "    .dataframe tbody tr th:only-of-type {\n",
              "        vertical-align: middle;\n",
              "    }\n",
              "\n",
              "    .dataframe tbody tr th {\n",
              "        vertical-align: top;\n",
              "    }\n",
              "\n",
              "    .dataframe thead th {\n",
              "        text-align: right;\n",
              "    }\n",
              "</style>\n",
              "<table border=\"1\" class=\"dataframe\">\n",
              "  <thead>\n",
              "    <tr style=\"text-align: right;\">\n",
              "      <th></th>\n",
              "      <th>asin</th>\n",
              "      <th>title</th>\n",
              "      <th>author</th>\n",
              "      <th>soldBy</th>\n",
              "      <th>imgUrl</th>\n",
              "      <th>productURL</th>\n",
              "      <th>stars</th>\n",
              "      <th>reviews</th>\n",
              "      <th>price</th>\n",
              "      <th>isKindleUnlimited</th>\n",
              "      <th>category_id</th>\n",
              "      <th>isBestSeller</th>\n",
              "      <th>isEditorsPick</th>\n",
              "      <th>isGoodReadsChoice</th>\n",
              "      <th>publishedDate</th>\n",
              "      <th>category_name</th>\n",
              "    </tr>\n",
              "  </thead>\n",
              "  <tbody>\n",
              "    <tr>\n",
              "      <th>0</th>\n",
              "      <td>B00TZE87S4</td>\n",
              "      <td>Adult Children of Emotionally Immature Parents...</td>\n",
              "      <td>Lindsay C. Gibson</td>\n",
              "      <td>Amazon.com Services LLC</td>\n",
              "      <td>https://m.media-amazon.com/images/I/713KZTsaYp...</td>\n",
              "      <td>https://www.amazon.com/dp/B00TZE87S4</td>\n",
              "      <td>4.8</td>\n",
              "      <td>0</td>\n",
              "      <td>9.99</td>\n",
              "      <td>False</td>\n",
              "      <td>6</td>\n",
              "      <td>True</td>\n",
              "      <td>False</td>\n",
              "      <td>False</td>\n",
              "      <td>2015-06-01</td>\n",
              "      <td>Parenting &amp; Relationships</td>\n",
              "    </tr>\n",
              "    <tr>\n",
              "      <th>1</th>\n",
              "      <td>B08WCKY8MB</td>\n",
              "      <td>From Strength to Strength: Finding Success, Ha...</td>\n",
              "      <td>Arthur C. Brooks</td>\n",
              "      <td>Penguin Group (USA) LLC</td>\n",
              "      <td>https://m.media-amazon.com/images/I/A1LZcJFs9E...</td>\n",
              "      <td>https://www.amazon.com/dp/B08WCKY8MB</td>\n",
              "      <td>4.4</td>\n",
              "      <td>0</td>\n",
              "      <td>16.99</td>\n",
              "      <td>False</td>\n",
              "      <td>6</td>\n",
              "      <td>False</td>\n",
              "      <td>False</td>\n",
              "      <td>False</td>\n",
              "      <td>2022-02-15</td>\n",
              "      <td>Parenting &amp; Relationships</td>\n",
              "    </tr>\n",
              "    <tr>\n",
              "      <th>2</th>\n",
              "      <td>B09KPS84CJ</td>\n",
              "      <td>Good Inside: A Guide to Becoming the Parent Yo...</td>\n",
              "      <td>Becky Kennedy</td>\n",
              "      <td>HarperCollins Publishers</td>\n",
              "      <td>https://m.media-amazon.com/images/I/71RIWM0sv6...</td>\n",
              "      <td>https://www.amazon.com/dp/B09KPS84CJ</td>\n",
              "      <td>4.8</td>\n",
              "      <td>0</td>\n",
              "      <td>16.99</td>\n",
              "      <td>False</td>\n",
              "      <td>6</td>\n",
              "      <td>False</td>\n",
              "      <td>True</td>\n",
              "      <td>False</td>\n",
              "      <td>2022-09-13</td>\n",
              "      <td>Parenting &amp; Relationships</td>\n",
              "    </tr>\n",
              "    <tr>\n",
              "      <th>3</th>\n",
              "      <td>B07S7QPG6J</td>\n",
              "      <td>Everything I Know About Love: A Memoir</td>\n",
              "      <td>Dolly Alderton</td>\n",
              "      <td>HarperCollins Publishers</td>\n",
              "      <td>https://m.media-amazon.com/images/I/71QdQpTiKZ...</td>\n",
              "      <td>https://www.amazon.com/dp/B07S7QPG6J</td>\n",
              "      <td>4.2</td>\n",
              "      <td>0</td>\n",
              "      <td>9.95</td>\n",
              "      <td>True</td>\n",
              "      <td>6</td>\n",
              "      <td>False</td>\n",
              "      <td>True</td>\n",
              "      <td>False</td>\n",
              "      <td>2020-02-25</td>\n",
              "      <td>Parenting &amp; Relationships</td>\n",
              "    </tr>\n",
              "    <tr>\n",
              "      <th>4</th>\n",
              "      <td>B00N6PEQV0</td>\n",
              "      <td>The Seven Principles for Making Marriage Work:...</td>\n",
              "      <td>John Gottman</td>\n",
              "      <td>Random House LLC</td>\n",
              "      <td>https://m.media-amazon.com/images/I/813o4WOs+w...</td>\n",
              "      <td>https://www.amazon.com/dp/B00N6PEQV0</td>\n",
              "      <td>4.7</td>\n",
              "      <td>0</td>\n",
              "      <td>13.99</td>\n",
              "      <td>False</td>\n",
              "      <td>6</td>\n",
              "      <td>False</td>\n",
              "      <td>False</td>\n",
              "      <td>False</td>\n",
              "      <td>2015-05-05</td>\n",
              "      <td>Parenting &amp; Relationships</td>\n",
              "    </tr>\n",
              "  </tbody>\n",
              "</table>\n",
              "</div>"
            ],
            "text/plain": [
              "         asin                                              title  \\\n",
              "0  B00TZE87S4  Adult Children of Emotionally Immature Parents...   \n",
              "1  B08WCKY8MB  From Strength to Strength: Finding Success, Ha...   \n",
              "2  B09KPS84CJ  Good Inside: A Guide to Becoming the Parent Yo...   \n",
              "3  B07S7QPG6J             Everything I Know About Love: A Memoir   \n",
              "4  B00N6PEQV0  The Seven Principles for Making Marriage Work:...   \n",
              "\n",
              "              author                    soldBy  \\\n",
              "0  Lindsay C. Gibson   Amazon.com Services LLC   \n",
              "1   Arthur C. Brooks   Penguin Group (USA) LLC   \n",
              "2      Becky Kennedy  HarperCollins Publishers   \n",
              "3     Dolly Alderton  HarperCollins Publishers   \n",
              "4       John Gottman          Random House LLC   \n",
              "\n",
              "                                              imgUrl  \\\n",
              "0  https://m.media-amazon.com/images/I/713KZTsaYp...   \n",
              "1  https://m.media-amazon.com/images/I/A1LZcJFs9E...   \n",
              "2  https://m.media-amazon.com/images/I/71RIWM0sv6...   \n",
              "3  https://m.media-amazon.com/images/I/71QdQpTiKZ...   \n",
              "4  https://m.media-amazon.com/images/I/813o4WOs+w...   \n",
              "\n",
              "                             productURL  stars  reviews  price  \\\n",
              "0  https://www.amazon.com/dp/B00TZE87S4    4.8        0   9.99   \n",
              "1  https://www.amazon.com/dp/B08WCKY8MB    4.4        0  16.99   \n",
              "2  https://www.amazon.com/dp/B09KPS84CJ    4.8        0  16.99   \n",
              "3  https://www.amazon.com/dp/B07S7QPG6J    4.2        0   9.95   \n",
              "4  https://www.amazon.com/dp/B00N6PEQV0    4.7        0  13.99   \n",
              "\n",
              "   isKindleUnlimited  category_id  isBestSeller  isEditorsPick  \\\n",
              "0              False            6          True          False   \n",
              "1              False            6         False          False   \n",
              "2              False            6         False           True   \n",
              "3               True            6         False           True   \n",
              "4              False            6         False          False   \n",
              "\n",
              "   isGoodReadsChoice publishedDate              category_name  \n",
              "0              False    2015-06-01  Parenting & Relationships  \n",
              "1              False    2022-02-15  Parenting & Relationships  \n",
              "2              False    2022-09-13  Parenting & Relationships  \n",
              "3              False    2020-02-25  Parenting & Relationships  \n",
              "4              False    2015-05-05  Parenting & Relationships  "
            ]
          },
          "execution_count": 44,
          "metadata": {},
          "output_type": "execute_result"
        }
      ],
      "source": [
        "#Info, head y shape\n",
        "data.head(5)"
      ]
    },
    {
      "cell_type": "code",
      "execution_count": 45,
      "id": "f81730b7",
      "metadata": {},
      "outputs": [
        {
          "data": {
            "text/plain": [
              "(133102, 16)"
            ]
          },
          "execution_count": 45,
          "metadata": {},
          "output_type": "execute_result"
        }
      ],
      "source": [
        "data.shape"
      ]
    },
    {
      "cell_type": "code",
      "execution_count": 46,
      "id": "ffae4287",
      "metadata": {},
      "outputs": [
        {
          "data": {
            "text/plain": [
              "asin                  object\n",
              "title                 object\n",
              "author                object\n",
              "soldBy                object\n",
              "imgUrl                object\n",
              "productURL            object\n",
              "stars                float64\n",
              "reviews                int64\n",
              "price                float64\n",
              "isKindleUnlimited       bool\n",
              "category_id            int64\n",
              "isBestSeller            bool\n",
              "isEditorsPick           bool\n",
              "isGoodReadsChoice       bool\n",
              "publishedDate         object\n",
              "category_name         object\n",
              "dtype: object"
            ]
          },
          "execution_count": 46,
          "metadata": {},
          "output_type": "execute_result"
        }
      ],
      "source": [
        "data.dtypes"
      ]
    },
    {
      "cell_type": "code",
      "execution_count": 47,
      "id": "EPZ-yRYIC0hN",
      "metadata": {
        "id": "EPZ-yRYIC0hN"
      },
      "outputs": [
        {
          "data": {
            "text/plain": [
              "count    133102.000000\n",
              "mean        887.375779\n",
              "std        5104.878777\n",
              "min           0.000000\n",
              "25%           0.000000\n",
              "50%           4.000000\n",
              "75%         365.000000\n",
              "max      618227.000000\n",
              "Name: reviews, dtype: float64"
            ]
          },
          "execution_count": 47,
          "metadata": {},
          "output_type": "execute_result"
        }
      ],
      "source": [
        "# Mostrar detalles estadísticos básicos (solo los calcula a las variables numericas)\n",
        "data['reviews'].describe()"
      ]
    },
    {
      "cell_type": "code",
      "execution_count": 48,
      "id": "ac6643ad",
      "metadata": {},
      "outputs": [
        {
          "data": {
            "text/plain": [
              "count    133102.000000\n",
              "mean         15.134127\n",
              "std          22.254986\n",
              "min           0.000000\n",
              "25%           4.990000\n",
              "50%           9.990000\n",
              "75%          14.990000\n",
              "max         682.000000\n",
              "Name: price, dtype: float64"
            ]
          },
          "execution_count": 48,
          "metadata": {},
          "output_type": "execute_result"
        }
      ],
      "source": [
        "data['price'].describe()"
      ]
    },
    {
      "cell_type": "code",
      "execution_count": 49,
      "id": "30d1c277",
      "metadata": {},
      "outputs": [
        {
          "data": {
            "text/plain": [
              "count    133102.000000\n",
              "mean          4.404090\n",
              "std           0.745646\n",
              "min           0.000000\n",
              "25%           4.400000\n",
              "50%           4.500000\n",
              "75%           4.700000\n",
              "max           5.000000\n",
              "Name: stars, dtype: float64"
            ]
          },
          "execution_count": 49,
          "metadata": {},
          "output_type": "execute_result"
        }
      ],
      "source": [
        "data['stars'].describe()"
      ]
    },
    {
      "cell_type": "code",
      "execution_count": 50,
      "id": "TtyZ_PjvC-JV",
      "metadata": {
        "id": "TtyZ_PjvC-JV"
      },
      "outputs": [
        {
          "data": {
            "text/plain": [
              "asin                     0\n",
              "title                    0\n",
              "author                 425\n",
              "soldBy                9233\n",
              "imgUrl                   0\n",
              "productURL               0\n",
              "stars                    0\n",
              "reviews                  0\n",
              "price                    0\n",
              "isKindleUnlimited        0\n",
              "category_id              0\n",
              "isBestSeller             0\n",
              "isEditorsPick            0\n",
              "isGoodReadsChoice        0\n",
              "publishedDate        49016\n",
              "category_name            0\n",
              "dtype: int64"
            ]
          },
          "execution_count": 50,
          "metadata": {},
          "output_type": "execute_result"
        }
      ],
      "source": [
        "# Verificar data faltante en cada columna y duplicados\n",
        "data.isnull().sum()"
      ]
    },
    {
      "cell_type": "code",
      "execution_count": 51,
      "id": "9EE7d8nEDrBK",
      "metadata": {
        "id": "9EE7d8nEDrBK"
      },
      "outputs": [
        {
          "data": {
            "text/plain": [
              "asin                 0.000000\n",
              "title                0.000000\n",
              "author               0.003193\n",
              "soldBy               0.069368\n",
              "imgUrl               0.000000\n",
              "productURL           0.000000\n",
              "stars                0.000000\n",
              "reviews              0.000000\n",
              "price                0.000000\n",
              "isKindleUnlimited    0.000000\n",
              "category_id          0.000000\n",
              "isBestSeller         0.000000\n",
              "isEditorsPick        0.000000\n",
              "isGoodReadsChoice    0.000000\n",
              "publishedDate        0.368259\n",
              "category_name        0.000000\n",
              "dtype: float64"
            ]
          },
          "execution_count": 51,
          "metadata": {},
          "output_type": "execute_result"
        }
      ],
      "source": [
        "#Verificar proporciones de valores nulos\n",
        "data.isnull().mean()"
      ]
    },
    {
      "cell_type": "code",
      "execution_count": 52,
      "id": "dd4Y2J-1Dklk",
      "metadata": {
        "id": "dd4Y2J-1Dklk"
      },
      "outputs": [
        {
          "data": {
            "text/plain": [
              "0"
            ]
          },
          "execution_count": 52,
          "metadata": {},
          "output_type": "execute_result"
        }
      ],
      "source": [
        "#Verificar duplicación de registros u observaciones\n",
        "data.duplicated().sum()\n"
      ]
    },
    {
      "cell_type": "markdown",
      "id": "oinbtdEoDM1O",
      "metadata": {
        "id": "oinbtdEoDM1O"
      },
      "source": [
        "###**3.4. Preprocesamiento de los datos**"
      ]
    },
    {
      "cell_type": "code",
      "execution_count": 73,
      "id": "Yv8VeGnuElVb",
      "metadata": {
        "id": "Yv8VeGnuElVb"
      },
      "outputs": [],
      "source": [
        "#Como solucionamos los datos faltantes? Eliminamos todos los datos faltantes?\n",
        "\n",
        "# Replace missing values in categorical columns with mode\n",
        "data['author'].fillna(data['author'].mode().iloc[0], inplace=True)\n",
        "data['soldBy'].fillna(data['soldBy'].mode().iloc[0], inplace=True)\n",
        "data['publishedDate'].fillna(data['publishedDate'].mode().iloc[0], inplace=True)\n"
      ]
    },
    {
      "cell_type": "code",
      "execution_count": 74,
      "id": "HxOvUZLNEojw",
      "metadata": {
        "id": "HxOvUZLNEojw"
      },
      "outputs": [
        {
          "data": {
            "text/plain": [
              "asin                 0\n",
              "title                0\n",
              "author               0\n",
              "soldBy               0\n",
              "imgUrl               0\n",
              "productURL           0\n",
              "stars                0\n",
              "reviews              0\n",
              "price                0\n",
              "isKindleUnlimited    0\n",
              "category_id          0\n",
              "isBestSeller         0\n",
              "isEditorsPick        0\n",
              "isGoodReadsChoice    0\n",
              "publishedDate        0\n",
              "category_name        0\n",
              "dtype: int64"
            ]
          },
          "execution_count": 74,
          "metadata": {},
          "output_type": "execute_result"
        }
      ],
      "source": [
        "#Verificamos que no existan datos faltantes\n",
        "data.isnull().sum()"
      ]
    },
    {
      "cell_type": "code",
      "execution_count": 55,
      "id": "SyBBLEDNFWNu",
      "metadata": {
        "id": "SyBBLEDNFWNu"
      },
      "outputs": [],
      "source": [
        "#Solucionar duplicidad en los datos (si existen)"
      ]
    },
    {
      "cell_type": "code",
      "execution_count": 56,
      "id": "F5SXt4DiFdkw",
      "metadata": {
        "id": "F5SXt4DiFdkw"
      },
      "outputs": [
        {
          "name": "stdout",
          "output_type": "stream",
          "text": [
            "Empty DataFrame\n",
            "Columns: [asin, title, author, soldBy, imgUrl, productURL, stars, reviews, price, isKindleUnlimited, category_id, isBestSeller, isEditorsPick, isGoodReadsChoice, publishedDate, category_name]\n",
            "Index: []\n"
          ]
        }
      ],
      "source": [
        "#Identificar variables con valores atipicos\n",
        "# Identify variables with outliers\n",
        "outliers = data[['stars', 'reviews', 'price']]\n",
        "\n",
        "# Calculate the z-score for each variable\n",
        "z_scores = (outliers - outliers.mean()) / outliers.std()\n",
        "\n",
        "# Find the indices of rows with z-scores greater than 3 or less than -3\n",
        "outlier_indices = z_scores[(z_scores > 3) | (z_scores < -3)].dropna().index\n",
        "\n",
        "# Print the rows with outliers\n",
        "print(data.loc[outlier_indices])"
      ]
    },
    {
      "cell_type": "code",
      "execution_count": 57,
      "id": "tSyDS2SJMWue",
      "metadata": {
        "id": "tSyDS2SJMWue"
      },
      "outputs": [],
      "source": [
        "# De existir, eliminar Outliers describiendo que tecnica(s) ha utilizado en cada caso\n",
        "\n"
      ]
    },
    {
      "cell_type": "code",
      "execution_count": 58,
      "id": "Xlj1jDwEHT89",
      "metadata": {
        "id": "Xlj1jDwEHT89"
      },
      "outputs": [],
      "source": [
        "# Genere un dataset con los datos preparados"
      ]
    },
    {
      "cell_type": "markdown",
      "id": "F58hSsApHdWM",
      "metadata": {
        "id": "F58hSsApHdWM"
      },
      "source": [
        "A partir de los datos preparados, trabaje las siguientes secciones."
      ]
    },
    {
      "cell_type": "markdown",
      "id": "enyAcyXWKRMX",
      "metadata": {
        "id": "enyAcyXWKRMX"
      },
      "source": [
        "####**4. ESTADISTICA DESCRIPTIVA**"
      ]
    },
    {
      "cell_type": "code",
      "execution_count": 59,
      "id": "MBk6gSfZKJrQ",
      "metadata": {
        "id": "MBk6gSfZKJrQ"
      },
      "outputs": [],
      "source": [
        "# A partir del dataset preparado, mostrar detalles estadísticos básicos"
      ]
    },
    {
      "cell_type": "code",
      "execution_count": 60,
      "id": "0SHs-lehKVTr",
      "metadata": {
        "id": "0SHs-lehKVTr"
      },
      "outputs": [],
      "source": [
        "#Identificar y separar variables numéricas y categóricas\n"
      ]
    },
    {
      "cell_type": "markdown",
      "id": "4yzg6NQNDqeN",
      "metadata": {
        "id": "4yzg6NQNDqeN"
      },
      "source": [
        "####**4.1 Análisis Univariado de los Datos**"
      ]
    },
    {
      "cell_type": "markdown",
      "id": "jmnAsoQoK_d1",
      "metadata": {
        "id": "jmnAsoQoK_d1"
      },
      "source": [
        "#### **Diagramas de pares y diagramas de distribución**"
      ]
    },
    {
      "cell_type": "code",
      "execution_count": 61,
      "id": "hBfR2cSFKZKk",
      "metadata": {
        "id": "hBfR2cSFKZKk"
      },
      "outputs": [],
      "source": [
        "# Generar estadísticas descriptivas para columnas numéricas\n"
      ]
    },
    {
      "cell_type": "code",
      "execution_count": 62,
      "id": "6qCjQQbiKbUE",
      "metadata": {
        "id": "6qCjQQbiKbUE"
      },
      "outputs": [],
      "source": [
        "# Generar estadísticas descriptivas para columnas categóricas\n",
        "# Si No hay variables categoricas, considere crear algunas\n"
      ]
    },
    {
      "cell_type": "code",
      "execution_count": 63,
      "id": "iIzPUEdaLAeF",
      "metadata": {
        "id": "iIzPUEdaLAeF"
      },
      "outputs": [],
      "source": [
        "# Utilice algunas de las medidas de dispersion y representelas a traves de diagramas\n",
        "# Creando un diagrama de pares y de distribucion para variables numéricas\n"
      ]
    },
    {
      "cell_type": "markdown",
      "id": "KLgOtEptKH-6",
      "metadata": {
        "id": "KLgOtEptKH-6"
      },
      "source": [
        "####**4.2 Análisis Bivariado de los Datos**"
      ]
    },
    {
      "cell_type": "markdown",
      "id": "7MA0HHHZGg21",
      "metadata": {
        "id": "7MA0HHHZGg21"
      },
      "source": [
        "#### **- Correlacion de variables**"
      ]
    },
    {
      "cell_type": "code",
      "execution_count": 64,
      "id": "cxEjkueKKeN8",
      "metadata": {
        "id": "cxEjkueKKeN8"
      },
      "outputs": [],
      "source": [
        "# Calcular e imprimir la matriz de correlación para variables numéricas.\n"
      ]
    },
    {
      "cell_type": "code",
      "execution_count": 65,
      "id": "l4A7UTffKK29",
      "metadata": {
        "id": "l4A7UTffKK29"
      },
      "outputs": [],
      "source": [
        "# Visualizar la matriz de correlacion en un mapa de calor\n"
      ]
    },
    {
      "cell_type": "code",
      "execution_count": 66,
      "id": "oPbxJ-jjLA6r",
      "metadata": {
        "id": "oPbxJ-jjLA6r"
      },
      "outputs": [],
      "source": [
        "# Calculo del coeficiente de asimetria y de curtosis. Como los interpreta?"
      ]
    },
    {
      "cell_type": "markdown",
      "id": "wPqgT4rmGpTe",
      "metadata": {
        "id": "wPqgT4rmGpTe"
      },
      "source": [
        "¿Qué variables son las tienen mayor correlación?"
      ]
    },
    {
      "cell_type": "markdown",
      "id": "e0vpJZOlG3uB",
      "metadata": {
        "id": "e0vpJZOlG3uB"
      },
      "source": [
        "**Respuesta:**"
      ]
    },
    {
      "cell_type": "markdown",
      "id": "rum2T17wFDuq",
      "metadata": {
        "id": "rum2T17wFDuq"
      },
      "source": [
        "### **4. Visualización de los datos**"
      ]
    },
    {
      "cell_type": "code",
      "execution_count": 67,
      "id": "427db863",
      "metadata": {
        "execution": {
          "iopub.execute_input": "2024-01-15T23:24:02.591087Z",
          "iopub.status.busy": "2024-01-15T23:24:02.590806Z",
          "iopub.status.idle": "2024-01-15T23:24:03.985446Z",
          "shell.execute_reply": "2024-01-15T23:24:03.984598Z"
        },
        "id": "427db863",
        "papermill": {
          "duration": 1.40184,
          "end_time": "2024-01-15T23:24:03.987286",
          "exception": false,
          "start_time": "2024-01-15T23:24:02.585446",
          "status": "completed"
        },
        "tags": []
      },
      "outputs": [],
      "source": [
        "#Grafica de barras de la distribucion de los libros por categoria en orden descendente, distinga los que son betsellers de los que nolo son\n"
      ]
    },
    {
      "cell_type": "code",
      "execution_count": 68,
      "id": "0cb91118",
      "metadata": {
        "execution": {
          "iopub.execute_input": "2024-01-15T23:24:13.123249Z",
          "iopub.status.busy": "2024-01-15T23:24:13.122735Z",
          "iopub.status.idle": "2024-01-15T23:24:13.553930Z",
          "shell.execute_reply": "2024-01-15T23:24:13.552705Z"
        },
        "id": "0cb91118",
        "papermill": {
          "duration": 0.458308,
          "end_time": "2024-01-15T23:24:13.556112",
          "exception": false,
          "start_time": "2024-01-15T23:24:13.097804",
          "status": "completed"
        },
        "tags": []
      },
      "outputs": [],
      "source": [
        "# Cantidad de libros por cada categoria\n"
      ]
    },
    {
      "cell_type": "code",
      "execution_count": 69,
      "id": "a1d511b8",
      "metadata": {
        "execution": {
          "iopub.execute_input": "2024-01-15T23:24:05.434275Z",
          "iopub.status.busy": "2024-01-15T23:24:05.433983Z",
          "iopub.status.idle": "2024-01-15T23:24:05.684541Z",
          "shell.execute_reply": "2024-01-15T23:24:05.683529Z"
        },
        "id": "a1d511b8",
        "papermill": {
          "duration": 0.262554,
          "end_time": "2024-01-15T23:24:05.686427",
          "exception": false,
          "start_time": "2024-01-15T23:24:05.423873",
          "status": "completed"
        },
        "tags": []
      },
      "outputs": [],
      "source": [
        "#Top Autores de Best Sellers\n"
      ]
    },
    {
      "cell_type": "code",
      "execution_count": 70,
      "id": "0f119c97",
      "metadata": {
        "execution": {
          "iopub.execute_input": "2024-01-15T23:24:04.000474Z",
          "iopub.status.busy": "2024-01-15T23:24:04.000029Z",
          "iopub.status.idle": "2024-01-15T23:24:04.235714Z",
          "shell.execute_reply": "2024-01-15T23:24:04.234722Z"
        },
        "id": "0f119c97",
        "papermill": {
          "duration": 0.244194,
          "end_time": "2024-01-15T23:24:04.237521",
          "exception": false,
          "start_time": "2024-01-15T23:24:03.993327",
          "status": "completed"
        },
        "tags": []
      },
      "outputs": [],
      "source": [
        "#Ratings for Best Sellers\n"
      ]
    },
    {
      "cell_type": "markdown",
      "id": "blZkCrpaLU0_",
      "metadata": {
        "id": "blZkCrpaLU0_"
      },
      "source": [
        "### **5. Observaciones**"
      ]
    },
    {
      "cell_type": "markdown",
      "id": "D326bJ0bJaK4",
      "metadata": {
        "id": "D326bJ0bJaK4"
      },
      "source": [
        "**Respuesta:** (liste las principales observaciones o conclusiones observadas luego del análisis)"
      ]
    }
  ],
  "metadata": {
    "colab": {
      "provenance": []
    },
    "kaggle": {
      "accelerator": "none",
      "dataSources": [
        {
          "datasetId": 3808504,
          "sourceId": 7373295,
          "sourceType": "datasetVersion"
        }
      ],
      "dockerImageVersionId": 30635,
      "isGpuEnabled": false,
      "isInternetEnabled": true,
      "language": "python",
      "sourceType": "notebook"
    },
    "kernelspec": {
      "display_name": "Python 3",
      "language": "python",
      "name": "python3"
    },
    "language_info": {
      "codemirror_mode": {
        "name": "ipython",
        "version": 3
      },
      "file_extension": ".py",
      "mimetype": "text/x-python",
      "name": "python",
      "nbconvert_exporter": "python",
      "pygments_lexer": "ipython3",
      "version": "3.8.15"
    },
    "papermill": {
      "default_parameters": {},
      "duration": 25.792817,
      "end_time": "2024-01-15T23:24:24.291697",
      "environment_variables": {},
      "exception": null,
      "input_path": "__notebook__.ipynb",
      "output_path": "__notebook__.ipynb",
      "parameters": {},
      "start_time": "2024-01-15T23:23:58.498880",
      "version": "2.4.0"
    }
  },
  "nbformat": 4,
  "nbformat_minor": 5
}
