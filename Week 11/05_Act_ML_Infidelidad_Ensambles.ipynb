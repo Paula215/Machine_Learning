{
  "cells": [
    {
      "cell_type": "markdown",
      "metadata": {
        "id": "zyr-kUdcQsjc"
      },
      "source": [
        "### **CC57 - MACHINE LEARNING - CLASIFICADORES ENSAMBLADOS**"
      ]
    },
    {
      "cell_type": "markdown",
      "metadata": {
        "id": "wFszGyFMOv53"
      },
      "source": [
        "### **Actividad #5: Detección de infedilidad en un matrimonio**\n"
      ]
    },
    {
      "cell_type": "markdown",
      "metadata": {
        "id": "nhfx_9BlhowJ"
      },
      "source": [
        "Los datos provienen de statsmodels disponible en: https://www.statsmodels.org/stable/index.html\n",
        "\n",
        "El conjunto de datos contiene informacion sobre las caracteriticas de la esposa en la relacion marital (edad, religion, numero de hijos, educacion, ocupacion,  cantidad de infidelidades, etc). Este conjunto de datos se puede tratar como un problema de clasificación creando una nueva variable binaria infiel (¿la esposa tuvo al menos una infidelidad?) e intentando predecir la clasificación para cada esposa.\n",
        "\n",
        "\n",
        "El conjunnto de datos **infiel.csv** contempla 6366 observaciones en 9 variables.  Su estructura es la siguiente:"
      ]
    },
    {
      "cell_type": "markdown",
      "metadata": {
        "id": "XGOe94eklme5"
      },
      "source": [
        "**- 1. rate_marriage:**woman's rating of her marriage (1 = very poor, 5 = very good)\n",
        "\n",
        "**- 2. age:** woman's age\n",
        "\n",
        "**- 3. yrs_married:**number of years married\n",
        "\n",
        "**- 4. children:** number of children\n",
        "\n",
        "**- 5. religious:** woman's rating of how religious she is (1 = not religious, 4 = strongly religious)\n",
        "\n",
        "**- 6. educ:** level of education (9 = grade school, 12 = high school, 14 = some college, 16 = college graduate, 17 = some graduate school, 20 = advanced degree)\n",
        "\n",
        "**- 7. occupation:** woman's occupation (1 = student, 2 = farming/semi-skilled/unskilled, 3 = \"white collar\", 4 = teacher/nurse/writer/technician/skilled, 5 = managerial/business, 6 = professional with advanced degree)\n",
        "\n",
        "**- 8. occupation_husb:** husband's occupation (same coding as above)\n",
        "\n",
        "**- 9. affairs:** time spent in extra-marital affairs"
      ]
    },
    {
      "cell_type": "markdown",
      "metadata": {
        "id": "HGm42-VIwM0r"
      },
      "source": [
        "Se solicita lo siguiente:\n",
        "\n",
        "- 0. Cargar de librerias\n",
        "- 1. Cargar los datos y analisis exploratorio de los datos\n",
        "- 2. Preprocesamiento de los datos\n",
        "- 3. Creando los modelos ENSAMBLADOS\n",
        "\n",
        "   -- 3.1 **Identificacion de Modelos a ensamblar**\n",
        "      \n",
        "      Determinar que clasificadores utilizar en los dos primeros tipos de Ensamble (Bagging y Boosting) a partir de la comparacion de clasificadores obtenidos mediante la libreria **pycaret** (compare_models).\n",
        "      \n",
        "   -- 3.2 **Crear (3) modelos ENSAMBLADOS** para predecir si una esposa es o no infiel dentro de la relacion marital.\n",
        "\n",
        "    -  **Tipo de Ensamble #1:** Bagging  \n",
        "    -  **Tipo de Ensamble #2:** Boosting\n",
        "    -  **Tipo de Ensamble #3:** Random Forest\n",
        "\n",
        "- 4. Evaluar el rendimiento de los modelos obtenidos (explique sus conclusiones)\n",
        "\n"
      ]
    },
    {
      "cell_type": "markdown",
      "metadata": {
        "id": "5mv01mFuO1-S"
      },
      "source": [
        "## <font color=blue>0. Cargar Librerias</font>\n"
      ]
    },
    {
      "cell_type": "code",
      "execution_count": 20,
      "metadata": {
        "id": "EyB5GTlmOv56"
      },
      "outputs": [],
      "source": [
        "import pandas as pd\n",
        "import numpy as np\n",
        "import matplotlib.pyplot as plt\n",
        "import seaborn as sns"
      ]
    },
    {
      "cell_type": "markdown",
      "metadata": {
        "id": "-VyT60whOv57"
      },
      "source": [
        "## <font color=blue>1. Carga y Analisis Exploratorio de los Datos</font>\n"
      ]
    },
    {
      "cell_type": "code",
      "execution_count": 2,
      "metadata": {
        "id": "XgNeJ1xROv57"
      },
      "outputs": [],
      "source": [
        "#Cargar archivo de datos\n",
        "data = pd.read_csv(\"infiel.csv\")"
      ]
    },
    {
      "cell_type": "code",
      "execution_count": 3,
      "metadata": {
        "id": "4uUW3o12Ov58"
      },
      "outputs": [
        {
          "data": {
            "text/html": [
              "<div>\n",
              "<style scoped>\n",
              "    .dataframe tbody tr th:only-of-type {\n",
              "        vertical-align: middle;\n",
              "    }\n",
              "\n",
              "    .dataframe tbody tr th {\n",
              "        vertical-align: top;\n",
              "    }\n",
              "\n",
              "    .dataframe thead th {\n",
              "        text-align: right;\n",
              "    }\n",
              "</style>\n",
              "<table border=\"1\" class=\"dataframe\">\n",
              "  <thead>\n",
              "    <tr style=\"text-align: right;\">\n",
              "      <th></th>\n",
              "      <th>rate_marriage</th>\n",
              "      <th>age</th>\n",
              "      <th>yrs_married</th>\n",
              "      <th>children</th>\n",
              "      <th>religious</th>\n",
              "      <th>educ</th>\n",
              "      <th>occupation</th>\n",
              "      <th>occupation_husb</th>\n",
              "      <th>affairs</th>\n",
              "    </tr>\n",
              "  </thead>\n",
              "  <tbody>\n",
              "    <tr>\n",
              "      <th>0</th>\n",
              "      <td>3.0</td>\n",
              "      <td>32.0</td>\n",
              "      <td>9.0</td>\n",
              "      <td>3.0</td>\n",
              "      <td>3.0</td>\n",
              "      <td>17.0</td>\n",
              "      <td>2.0</td>\n",
              "      <td>5.0</td>\n",
              "      <td>0.111111</td>\n",
              "    </tr>\n",
              "    <tr>\n",
              "      <th>1</th>\n",
              "      <td>3.0</td>\n",
              "      <td>27.0</td>\n",
              "      <td>13.0</td>\n",
              "      <td>3.0</td>\n",
              "      <td>1.0</td>\n",
              "      <td>14.0</td>\n",
              "      <td>3.0</td>\n",
              "      <td>4.0</td>\n",
              "      <td>3.230769</td>\n",
              "    </tr>\n",
              "    <tr>\n",
              "      <th>2</th>\n",
              "      <td>4.0</td>\n",
              "      <td>22.0</td>\n",
              "      <td>2.5</td>\n",
              "      <td>0.0</td>\n",
              "      <td>1.0</td>\n",
              "      <td>16.0</td>\n",
              "      <td>3.0</td>\n",
              "      <td>5.0</td>\n",
              "      <td>1.400000</td>\n",
              "    </tr>\n",
              "    <tr>\n",
              "      <th>3</th>\n",
              "      <td>4.0</td>\n",
              "      <td>37.0</td>\n",
              "      <td>16.5</td>\n",
              "      <td>4.0</td>\n",
              "      <td>3.0</td>\n",
              "      <td>16.0</td>\n",
              "      <td>5.0</td>\n",
              "      <td>5.0</td>\n",
              "      <td>0.727273</td>\n",
              "    </tr>\n",
              "    <tr>\n",
              "      <th>4</th>\n",
              "      <td>5.0</td>\n",
              "      <td>27.0</td>\n",
              "      <td>9.0</td>\n",
              "      <td>1.0</td>\n",
              "      <td>1.0</td>\n",
              "      <td>14.0</td>\n",
              "      <td>3.0</td>\n",
              "      <td>4.0</td>\n",
              "      <td>4.666666</td>\n",
              "    </tr>\n",
              "  </tbody>\n",
              "</table>\n",
              "</div>"
            ],
            "text/plain": [
              "   rate_marriage   age  yrs_married  children  religious  educ  occupation  \\\n",
              "0            3.0  32.0          9.0       3.0        3.0  17.0         2.0   \n",
              "1            3.0  27.0         13.0       3.0        1.0  14.0         3.0   \n",
              "2            4.0  22.0          2.5       0.0        1.0  16.0         3.0   \n",
              "3            4.0  37.0         16.5       4.0        3.0  16.0         5.0   \n",
              "4            5.0  27.0          9.0       1.0        1.0  14.0         3.0   \n",
              "\n",
              "   occupation_husb   affairs  \n",
              "0              5.0  0.111111  \n",
              "1              4.0  3.230769  \n",
              "2              5.0  1.400000  \n",
              "3              5.0  0.727273  \n",
              "4              4.0  4.666666  "
            ]
          },
          "execution_count": 3,
          "metadata": {},
          "output_type": "execute_result"
        }
      ],
      "source": [
        "#Visualizar primeros registros del conjunto de datos\n",
        "data.head()"
      ]
    },
    {
      "cell_type": "markdown",
      "metadata": {
        "id": "KFhQe_6pOv58"
      },
      "source": [
        "### **Análisis de las medidas de tendencia/estadistica**"
      ]
    },
    {
      "cell_type": "code",
      "execution_count": 4,
      "metadata": {
        "id": "eRrLCNUoOv59"
      },
      "outputs": [
        {
          "data": {
            "text/html": [
              "<div>\n",
              "<style scoped>\n",
              "    .dataframe tbody tr th:only-of-type {\n",
              "        vertical-align: middle;\n",
              "    }\n",
              "\n",
              "    .dataframe tbody tr th {\n",
              "        vertical-align: top;\n",
              "    }\n",
              "\n",
              "    .dataframe thead th {\n",
              "        text-align: right;\n",
              "    }\n",
              "</style>\n",
              "<table border=\"1\" class=\"dataframe\">\n",
              "  <thead>\n",
              "    <tr style=\"text-align: right;\">\n",
              "      <th></th>\n",
              "      <th>rate_marriage</th>\n",
              "      <th>age</th>\n",
              "      <th>yrs_married</th>\n",
              "      <th>children</th>\n",
              "      <th>religious</th>\n",
              "      <th>educ</th>\n",
              "      <th>occupation</th>\n",
              "      <th>occupation_husb</th>\n",
              "      <th>affairs</th>\n",
              "    </tr>\n",
              "  </thead>\n",
              "  <tbody>\n",
              "    <tr>\n",
              "      <th>count</th>\n",
              "      <td>6366.000000</td>\n",
              "      <td>6366.000000</td>\n",
              "      <td>6366.000000</td>\n",
              "      <td>6366.000000</td>\n",
              "      <td>6366.000000</td>\n",
              "      <td>6366.000000</td>\n",
              "      <td>6366.000000</td>\n",
              "      <td>6366.000000</td>\n",
              "      <td>6366.000000</td>\n",
              "    </tr>\n",
              "    <tr>\n",
              "      <th>mean</th>\n",
              "      <td>4.109645</td>\n",
              "      <td>29.082862</td>\n",
              "      <td>9.009425</td>\n",
              "      <td>1.396874</td>\n",
              "      <td>2.426170</td>\n",
              "      <td>14.209865</td>\n",
              "      <td>3.424128</td>\n",
              "      <td>3.850141</td>\n",
              "      <td>0.705374</td>\n",
              "    </tr>\n",
              "    <tr>\n",
              "      <th>std</th>\n",
              "      <td>0.961430</td>\n",
              "      <td>6.847882</td>\n",
              "      <td>7.280120</td>\n",
              "      <td>1.433471</td>\n",
              "      <td>0.878369</td>\n",
              "      <td>2.178003</td>\n",
              "      <td>0.942399</td>\n",
              "      <td>1.346435</td>\n",
              "      <td>2.203374</td>\n",
              "    </tr>\n",
              "    <tr>\n",
              "      <th>min</th>\n",
              "      <td>1.000000</td>\n",
              "      <td>17.500000</td>\n",
              "      <td>0.500000</td>\n",
              "      <td>0.000000</td>\n",
              "      <td>1.000000</td>\n",
              "      <td>9.000000</td>\n",
              "      <td>1.000000</td>\n",
              "      <td>1.000000</td>\n",
              "      <td>0.000000</td>\n",
              "    </tr>\n",
              "    <tr>\n",
              "      <th>25%</th>\n",
              "      <td>4.000000</td>\n",
              "      <td>22.000000</td>\n",
              "      <td>2.500000</td>\n",
              "      <td>0.000000</td>\n",
              "      <td>2.000000</td>\n",
              "      <td>12.000000</td>\n",
              "      <td>3.000000</td>\n",
              "      <td>3.000000</td>\n",
              "      <td>0.000000</td>\n",
              "    </tr>\n",
              "    <tr>\n",
              "      <th>50%</th>\n",
              "      <td>4.000000</td>\n",
              "      <td>27.000000</td>\n",
              "      <td>6.000000</td>\n",
              "      <td>1.000000</td>\n",
              "      <td>2.000000</td>\n",
              "      <td>14.000000</td>\n",
              "      <td>3.000000</td>\n",
              "      <td>4.000000</td>\n",
              "      <td>0.000000</td>\n",
              "    </tr>\n",
              "    <tr>\n",
              "      <th>75%</th>\n",
              "      <td>5.000000</td>\n",
              "      <td>32.000000</td>\n",
              "      <td>16.500000</td>\n",
              "      <td>2.000000</td>\n",
              "      <td>3.000000</td>\n",
              "      <td>16.000000</td>\n",
              "      <td>4.000000</td>\n",
              "      <td>5.000000</td>\n",
              "      <td>0.484848</td>\n",
              "    </tr>\n",
              "    <tr>\n",
              "      <th>max</th>\n",
              "      <td>5.000000</td>\n",
              "      <td>42.000000</td>\n",
              "      <td>23.000000</td>\n",
              "      <td>5.500000</td>\n",
              "      <td>4.000000</td>\n",
              "      <td>20.000000</td>\n",
              "      <td>6.000000</td>\n",
              "      <td>6.000000</td>\n",
              "      <td>57.599991</td>\n",
              "    </tr>\n",
              "  </tbody>\n",
              "</table>\n",
              "</div>"
            ],
            "text/plain": [
              "       rate_marriage          age  yrs_married     children    religious  \\\n",
              "count    6366.000000  6366.000000  6366.000000  6366.000000  6366.000000   \n",
              "mean        4.109645    29.082862     9.009425     1.396874     2.426170   \n",
              "std         0.961430     6.847882     7.280120     1.433471     0.878369   \n",
              "min         1.000000    17.500000     0.500000     0.000000     1.000000   \n",
              "25%         4.000000    22.000000     2.500000     0.000000     2.000000   \n",
              "50%         4.000000    27.000000     6.000000     1.000000     2.000000   \n",
              "75%         5.000000    32.000000    16.500000     2.000000     3.000000   \n",
              "max         5.000000    42.000000    23.000000     5.500000     4.000000   \n",
              "\n",
              "              educ   occupation  occupation_husb      affairs  \n",
              "count  6366.000000  6366.000000      6366.000000  6366.000000  \n",
              "mean     14.209865     3.424128         3.850141     0.705374  \n",
              "std       2.178003     0.942399         1.346435     2.203374  \n",
              "min       9.000000     1.000000         1.000000     0.000000  \n",
              "25%      12.000000     3.000000         3.000000     0.000000  \n",
              "50%      14.000000     3.000000         4.000000     0.000000  \n",
              "75%      16.000000     4.000000         5.000000     0.484848  \n",
              "max      20.000000     6.000000         6.000000    57.599991  "
            ]
          },
          "execution_count": 4,
          "metadata": {},
          "output_type": "execute_result"
        }
      ],
      "source": [
        "#Visualizar las medidas de tendencias y estadísticas descriptivas\n",
        "data.describe()"
      ]
    },
    {
      "cell_type": "code",
      "execution_count": 14,
      "metadata": {},
      "outputs": [
        {
          "data": {
            "text/plain": [
              "<Axes: >"
            ]
          },
          "execution_count": 14,
          "metadata": {},
          "output_type": "execute_result"
        },
        {
          "data": {
            "image/png": "[encoded data removed]",
            "text/plain": [
              "<Figure size 640x480 with 2 Axes>"
            ]
          },
          "metadata": {},
          "output_type": "display_data"
        }
      ],
      "source": []
    },
    {
      "cell_type": "markdown",
      "metadata": {
        "id": "TejPQ0dNOv59"
      },
      "source": [
        "### **Visualizacion de los atributos predictoras y de infidelidad (target)**"
      ]
    },
    {
      "cell_type": "code",
      "execution_count": 16,
      "metadata": {
        "id": "J8HRv5ICOv5-"
      },
      "outputs": [
        {
          "data": {
            "text/html": [
              "<div>\n",
              "<style scoped>\n",
              "    .dataframe tbody tr th:only-of-type {\n",
              "        vertical-align: middle;\n",
              "    }\n",
              "\n",
              "    .dataframe tbody tr th {\n",
              "        vertical-align: top;\n",
              "    }\n",
              "\n",
              "    .dataframe thead th {\n",
              "        text-align: right;\n",
              "    }\n",
              "</style>\n",
              "<table border=\"1\" class=\"dataframe\">\n",
              "  <thead>\n",
              "    <tr style=\"text-align: right;\">\n",
              "      <th></th>\n",
              "      <th>rate_marriage</th>\n",
              "      <th>age</th>\n",
              "      <th>yrs_married</th>\n",
              "      <th>children</th>\n",
              "      <th>religious</th>\n",
              "      <th>educ</th>\n",
              "      <th>occupation</th>\n",
              "      <th>occupation_husb</th>\n",
              "      <th>affairs</th>\n",
              "    </tr>\n",
              "  </thead>\n",
              "  <tbody>\n",
              "    <tr>\n",
              "      <th>rate_marriage</th>\n",
              "      <td>1.000000</td>\n",
              "      <td>-0.099419</td>\n",
              "      <td>-0.138307</td>\n",
              "      <td>-0.135559</td>\n",
              "      <td>0.085139</td>\n",
              "      <td>0.081484</td>\n",
              "      <td>0.043425</td>\n",
              "      <td>0.033114</td>\n",
              "      <td>-0.324958</td>\n",
              "    </tr>\n",
              "    <tr>\n",
              "      <th>age</th>\n",
              "      <td>-0.099419</td>\n",
              "      <td>1.000000</td>\n",
              "      <td>0.863842</td>\n",
              "      <td>0.678820</td>\n",
              "      <td>0.125024</td>\n",
              "      <td>0.020795</td>\n",
              "      <td>0.115983</td>\n",
              "      <td>0.177311</td>\n",
              "      <td>0.105706</td>\n",
              "    </tr>\n",
              "    <tr>\n",
              "      <th>yrs_married</th>\n",
              "      <td>-0.138307</td>\n",
              "      <td>0.863842</td>\n",
              "      <td>1.000000</td>\n",
              "      <td>0.795219</td>\n",
              "      <td>0.115750</td>\n",
              "      <td>-0.121690</td>\n",
              "      <td>0.039858</td>\n",
              "      <td>0.139457</td>\n",
              "      <td>0.172455</td>\n",
              "    </tr>\n",
              "    <tr>\n",
              "      <th>children</th>\n",
              "      <td>-0.135559</td>\n",
              "      <td>0.678820</td>\n",
              "      <td>0.795219</td>\n",
              "      <td>1.000000</td>\n",
              "      <td>0.131155</td>\n",
              "      <td>-0.163694</td>\n",
              "      <td>-0.015865</td>\n",
              "      <td>0.084213</td>\n",
              "      <td>0.131229</td>\n",
              "    </tr>\n",
              "    <tr>\n",
              "      <th>religious</th>\n",
              "      <td>0.085139</td>\n",
              "      <td>0.125024</td>\n",
              "      <td>0.115750</td>\n",
              "      <td>0.131155</td>\n",
              "      <td>1.000000</td>\n",
              "      <td>0.027973</td>\n",
              "      <td>0.039630</td>\n",
              "      <td>0.002964</td>\n",
              "      <td>-0.140468</td>\n",
              "    </tr>\n",
              "    <tr>\n",
              "      <th>educ</th>\n",
              "      <td>0.081484</td>\n",
              "      <td>0.020795</td>\n",
              "      <td>-0.121690</td>\n",
              "      <td>-0.163694</td>\n",
              "      <td>0.027973</td>\n",
              "      <td>1.000000</td>\n",
              "      <td>0.417784</td>\n",
              "      <td>0.195873</td>\n",
              "      <td>-0.066809</td>\n",
              "    </tr>\n",
              "    <tr>\n",
              "      <th>occupation</th>\n",
              "      <td>0.043425</td>\n",
              "      <td>0.115983</td>\n",
              "      <td>0.039858</td>\n",
              "      <td>-0.015865</td>\n",
              "      <td>0.039630</td>\n",
              "      <td>0.417784</td>\n",
              "      <td>1.000000</td>\n",
              "      <td>0.202511</td>\n",
              "      <td>0.012616</td>\n",
              "    </tr>\n",
              "    <tr>\n",
              "      <th>occupation_husb</th>\n",
              "      <td>0.033114</td>\n",
              "      <td>0.177311</td>\n",
              "      <td>0.139457</td>\n",
              "      <td>0.084213</td>\n",
              "      <td>0.002964</td>\n",
              "      <td>0.195873</td>\n",
              "      <td>0.202511</td>\n",
              "      <td>1.000000</td>\n",
              "      <td>0.007177</td>\n",
              "    </tr>\n",
              "    <tr>\n",
              "      <th>affairs</th>\n",
              "      <td>-0.324958</td>\n",
              "      <td>0.105706</td>\n",
              "      <td>0.172455</td>\n",
              "      <td>0.131229</td>\n",
              "      <td>-0.140468</td>\n",
              "      <td>-0.066809</td>\n",
              "      <td>0.012616</td>\n",
              "      <td>0.007177</td>\n",
              "      <td>1.000000</td>\n",
              "    </tr>\n",
              "  </tbody>\n",
              "</table>\n",
              "</div>"
            ],
            "text/plain": [
              "                 rate_marriage       age  yrs_married  children  religious  \\\n",
              "rate_marriage         1.000000 -0.099419    -0.138307 -0.135559   0.085139   \n",
              "age                  -0.099419  1.000000     0.863842  0.678820   0.125024   \n",
              "yrs_married          -0.138307  0.863842     1.000000  0.795219   0.115750   \n",
              "children             -0.135559  0.678820     0.795219  1.000000   0.131155   \n",
              "religious             0.085139  0.125024     0.115750  0.131155   1.000000   \n",
              "educ                  0.081484  0.020795    -0.121690 -0.163694   0.027973   \n",
              "occupation            0.043425  0.115983     0.039858 -0.015865   0.039630   \n",
              "occupation_husb       0.033114  0.177311     0.139457  0.084213   0.002964   \n",
              "affairs              -0.324958  0.105706     0.172455  0.131229  -0.140468   \n",
              "\n",
              "                     educ  occupation  occupation_husb   affairs  \n",
              "rate_marriage    0.081484    0.043425         0.033114 -0.324958  \n",
              "age              0.020795    0.115983         0.177311  0.105706  \n",
              "yrs_married     -0.121690    0.039858         0.139457  0.172455  \n",
              "children        -0.163694   -0.015865         0.084213  0.131229  \n",
              "religious        0.027973    0.039630         0.002964 -0.140468  \n",
              "educ             1.000000    0.417784         0.195873 -0.066809  \n",
              "occupation       0.417784    1.000000         0.202511  0.012616  \n",
              "occupation_husb  0.195873    0.202511         1.000000  0.007177  \n",
              "affairs         -0.066809    0.012616         0.007177  1.000000  "
            ]
          },
          "execution_count": 16,
          "metadata": {},
          "output_type": "execute_result"
        }
      ],
      "source": [
        "#visualizacion de los atributos predictoras e infidelidad (target)\n",
        "data.loc[:,['rate_marriage','age','yrs_married', 'children','religious', 'educ', 'occupation','occupation_husb','affairs']].corr(method = \"spearman\")"
      ]
    },
    {
      "cell_type": "markdown",
      "metadata": {
        "id": "4tFPPVxsOv5-"
      },
      "source": [
        "## <font color=blue>2. Preprocesamiento de los datos</font>"
      ]
    },
    {
      "cell_type": "markdown",
      "metadata": {
        "id": "sMxwHl_H6i6h"
      },
      "source": [
        "### **Verificar datos faltantes y/o duplicados**"
      ]
    },
    {
      "cell_type": "markdown",
      "metadata": {
        "id": "7IQJGRUrUXrX"
      },
      "source": [
        "###**Comprobación del desequilibrio o desbalance del atributo objetivo**"
      ]
    },
    {
      "cell_type": "code",
      "execution_count": 17,
      "metadata": {
        "id": "svmp3TCOUdIw"
      },
      "outputs": [
        {
          "data": {
            "text/plain": [
              "affairs\n",
              "0.000000     4313\n",
              "1.400000      118\n",
              "0.583333       86\n",
              "0.400000       72\n",
              "1.333333       72\n",
              "             ... \n",
              "3.878787        1\n",
              "7.111111        1\n",
              "39.199982       1\n",
              "4.923077        1\n",
              "57.599991       1\n",
              "Name: count, Length: 77, dtype: int64"
            ]
          },
          "execution_count": 17,
          "metadata": {},
          "output_type": "execute_result"
        }
      ],
      "source": [
        "#comprobación de desequilibrio o desabalance \n",
        "data['affairs'].value_counts()"
      ]
    },
    {
      "cell_type": "markdown",
      "metadata": {
        "id": "YXzynnj2UjJV"
      },
      "source": [
        "###**Comprobación de estadísticas**\n"
      ]
    },
    {
      "cell_type": "code",
      "execution_count": 19,
      "metadata": {
        "id": "PoLv2XpjU4-4"
      },
      "outputs": [
        {
          "data": {
            "text/plain": [
              "count    6366.000000\n",
              "mean        0.705374\n",
              "std         2.203374\n",
              "min         0.000000\n",
              "25%         0.000000\n",
              "50%         0.000000\n",
              "75%         0.484848\n",
              "max        57.599991\n",
              "Name: affairs, dtype: float64"
            ]
          },
          "execution_count": 19,
          "metadata": {},
          "output_type": "execute_result"
        }
      ],
      "source": [
        "#comprobación de estadisticas\n",
        "data['affairs'].describe()"
      ]
    },
    {
      "cell_type": "markdown",
      "metadata": {
        "id": "p865XypHVA6D"
      },
      "source": [
        "###**Comprobación y eliminación de valores atípicos**"
      ]
    },
    {
      "cell_type": "code",
      "execution_count": 8,
      "metadata": {},
      "outputs": [
        {
          "name": "stdout",
          "output_type": "stream",
          "text": [
            "Collecting missingno\n",
            "  Downloading missingno-0.5.2-py3-none-any.whl.metadata (639 bytes)\n",
            "Requirement already satisfied: numpy in c:\\users\\msi\\anaconda3\\envs\\spacy\\lib\\site-packages (from missingno) (1.24.3)\n",
            "Requirement already satisfied: matplotlib in c:\\users\\msi\\anaconda3\\envs\\spacy\\lib\\site-packages (from missingno) (3.7.2)\n",
            "Requirement already satisfied: scipy in c:\\users\\msi\\anaconda3\\envs\\spacy\\lib\\site-packages (from missingno) (1.10.1)\n",
            "Requirement already satisfied: seaborn in c:\\users\\msi\\anaconda3\\envs\\spacy\\lib\\site-packages (from missingno) (0.13.2)\n",
            "Requirement already satisfied: contourpy>=1.0.1 in c:\\users\\msi\\anaconda3\\envs\\spacy\\lib\\site-packages (from matplotlib->missingno) (1.0.5)\n",
            "Requirement already satisfied: cycler>=0.10 in c:\\users\\msi\\anaconda3\\envs\\spacy\\lib\\site-packages (from matplotlib->missingno) (0.11.0)\n",
            "Requirement already satisfied: fonttools>=4.22.0 in c:\\users\\msi\\anaconda3\\envs\\spacy\\lib\\site-packages (from matplotlib->missingno) (4.51.0)\n",
            "Requirement already satisfied: kiwisolver>=1.0.1 in c:\\users\\msi\\anaconda3\\envs\\spacy\\lib\\site-packages (from matplotlib->missingno) (1.4.4)\n",
            "Requirement already satisfied: packaging>=20.0 in c:\\users\\msi\\anaconda3\\envs\\spacy\\lib\\site-packages (from matplotlib->missingno) (24.1)\n",
            "Requirement already satisfied: pillow>=6.2.0 in c:\\users\\msi\\anaconda3\\envs\\spacy\\lib\\site-packages (from matplotlib->missingno) (10.3.0)\n",
            "Requirement already satisfied: pyparsing<3.1,>=2.3.1 in c:\\users\\msi\\anaconda3\\envs\\spacy\\lib\\site-packages (from matplotlib->missingno) (3.0.9)\n",
            "Requirement already satisfied: python-dateutil>=2.7 in c:\\users\\msi\\anaconda3\\envs\\spacy\\lib\\site-packages (from matplotlib->missingno) (2.9.0.post0)\n",
            "Requirement already satisfied: importlib-resources>=3.2.0 in c:\\users\\msi\\anaconda3\\envs\\spacy\\lib\\site-packages (from matplotlib->missingno) (6.1.1)\n",
            "Requirement already satisfied: pandas>=1.2 in c:\\users\\msi\\anaconda3\\envs\\spacy\\lib\\site-packages (from seaborn->missingno) (2.0.3)\n",
            "Requirement already satisfied: zipp>=3.1.0 in c:\\users\\msi\\anaconda3\\envs\\spacy\\lib\\site-packages (from importlib-resources>=3.2.0->matplotlib->missingno) (3.19.2)\n",
            "Requirement already satisfied: pytz>=2020.1 in c:\\users\\msi\\anaconda3\\envs\\spacy\\lib\\site-packages (from pandas>=1.2->seaborn->missingno) (2024.1)\n",
            "Requirement already satisfied: tzdata>=2022.1 in c:\\users\\msi\\anaconda3\\envs\\spacy\\lib\\site-packages (from pandas>=1.2->seaborn->missingno) (2023.3)\n",
            "Requirement already satisfied: six>=1.5 in c:\\users\\msi\\anaconda3\\envs\\spacy\\lib\\site-packages (from python-dateutil>=2.7->matplotlib->missingno) (1.16.0)\n",
            "Downloading missingno-0.5.2-py3-none-any.whl (8.7 kB)\n",
            "Installing collected packages: missingno\n",
            "Successfully installed missingno-0.5.2\n"
          ]
        }
      ],
      "source": [
        "!pip install missingno"
      ]
    },
    {
      "cell_type": "code",
      "execution_count": 9,
      "metadata": {
        "id": "IzjUwKHJVDpv"
      },
      "outputs": [],
      "source": []
    },
    {
      "cell_type": "markdown",
      "metadata": {
        "id": "Wi2eBPtGOv5-"
      },
      "source": [
        "### **Separar variables predictoras y el atributo destino de los datos**"
      ]
    },
    {
      "cell_type": "code",
      "execution_count": null,
      "metadata": {
        "id": "11kzWLxsOv5-"
      },
      "outputs": [],
      "source": [
        "#Separar variables predictoras y el atributo destino de los datos\n",
        "X = data.drop('affairs', axis=1)\n",
        "y = data['affairs']\n"
      ]
    },
    {
      "cell_type": "markdown",
      "metadata": {
        "id": "Ip7RpxIwVSUM"
      },
      "source": [
        "###**`Scaling de los datos de entrenamiento`**"
      ]
    },
    {
      "cell_type": "code",
      "execution_count": null,
      "metadata": {
        "id": "OkQKX5RhVbey"
      },
      "outputs": [],
      "source": []
    },
    {
      "cell_type": "markdown",
      "metadata": {
        "id": "OXN2aU-fVqpo"
      },
      "source": [
        "###**Comprobar la correlación entre características**"
      ]
    },
    {
      "cell_type": "code",
      "execution_count": null,
      "metadata": {
        "id": "SkosKR1iVtS1"
      },
      "outputs": [],
      "source": [
        "sns.heatmap(data.loc[:,['rate_marriage','age','yrs_married', 'children','religious', 'educ', 'occupation','occupation_husb','affairs']].corr(method = \"spearman\"))"
      ]
    },
    {
      "cell_type": "markdown",
      "metadata": {
        "id": "sS9726wBOv6B"
      },
      "source": [
        "## <font color=blue>3. Creando los modelos ENSAMBLADOS </font>"
      ]
    },
    {
      "cell_type": "markdown",
      "metadata": {
        "id": "CsK1LK3vOv6B"
      },
      "source": [
        "###**3.1 Identificacion de Modelos a ensamblar**"
      ]
    },
    {
      "cell_type": "code",
      "execution_count": null,
      "metadata": {
        "id": "rqjzg3pOOv6B"
      },
      "outputs": [],
      "source": [
        "#Instalamos la libreria pycaret\n",
        "#!pip install pycaret\n",
        "!pip install git+https://github.com/pycaret/pycaret.git@master --upgrade\n",
        "\n"
      ]
    },
    {
      "cell_type": "code",
      "execution_count": null,
      "metadata": {
        "id": "tnqkF8aFWb5S"
      },
      "outputs": [],
      "source": [
        "#Setup o configuracion utilizando pycaret.  El setup lo almacenamos en la variable clf1 o clasificador 1\n",
        "#Se debe indicar el dataset y el atributo salida u objetivo\n",
        "#Ref: https://pycaret.readthedocs.io/en/latest/api/classification.html\n",
        "\n"
      ]
    },
    {
      "cell_type": "code",
      "execution_count": null,
      "metadata": {
        "id": "Ff_85Q5-WgN6"
      },
      "outputs": [],
      "source": [
        "#Determinamos aquellos modelos que no deseamos se incluyan"
      ]
    },
    {
      "cell_type": "markdown",
      "metadata": {
        "id": "Zxa4u4TqW5iD"
      },
      "source": [
        "###**3.2 Creacion de Modelos Ensamblados**"
      ]
    },
    {
      "cell_type": "markdown",
      "metadata": {
        "id": "383gYibSOv6B"
      },
      "source": [
        "#### - **Tipo de Ensamble #1: Bagging**\n",
        "\n"
      ]
    },
    {
      "cell_type": "code",
      "execution_count": null,
      "metadata": {
        "id": "69HcjWJ7XQOO"
      },
      "outputs": [],
      "source": [
        "#Importamos las librerias necesarias\n",
        "\n"
      ]
    },
    {
      "cell_type": "code",
      "execution_count": null,
      "metadata": {
        "id": "DRgU5BHiXpnL"
      },
      "outputs": [],
      "source": [
        "#Inicializamos el clasificador\n",
        "\n"
      ]
    },
    {
      "cell_type": "code",
      "execution_count": null,
      "metadata": {
        "id": "ZPYlVsrTXu_X"
      },
      "outputs": [],
      "source": [
        "#Entrenando con el conjunto de datos de entrenamiento\n",
        "\n"
      ]
    },
    {
      "cell_type": "code",
      "execution_count": null,
      "metadata": {
        "id": "oOl6yxY4X--H"
      },
      "outputs": [],
      "source": [
        "#Probando y evaluando el clasificador\n",
        "\n"
      ]
    },
    {
      "cell_type": "markdown",
      "metadata": {
        "id": "7CTBGL-9rLrE"
      },
      "source": [
        "#### - **Tipo de Ensamble #2: Boosting**"
      ]
    },
    {
      "cell_type": "code",
      "execution_count": null,
      "metadata": {
        "id": "mb6JvXuqrNDm"
      },
      "outputs": [],
      "source": [
        "#Importamos las librerias necesarias\n"
      ]
    },
    {
      "cell_type": "code",
      "execution_count": null,
      "metadata": {
        "id": "FthPDMSKYJ1B"
      },
      "outputs": [],
      "source": [
        "#Inicializamos el clasificador\n"
      ]
    },
    {
      "cell_type": "code",
      "execution_count": null,
      "metadata": {
        "id": "ewCw7y87YMZ2"
      },
      "outputs": [],
      "source": [
        "#Entrenando con el conjunto de datos de entrenamiento\n"
      ]
    },
    {
      "cell_type": "code",
      "execution_count": null,
      "metadata": {
        "id": "AXhQ6b_wYOdW"
      },
      "outputs": [],
      "source": [
        "#Probando y evaluando el clasificador\n",
        "\n"
      ]
    },
    {
      "cell_type": "markdown",
      "metadata": {
        "id": "tWT_SCKZrNhN"
      },
      "source": [
        "#### - **Tipo de Ensamble #3: Random Forest**"
      ]
    },
    {
      "cell_type": "code",
      "execution_count": null,
      "metadata": {
        "id": "WVUKIKghraST"
      },
      "outputs": [],
      "source": [
        "#Importamos las librerias necesarias\n",
        "\n"
      ]
    },
    {
      "cell_type": "code",
      "execution_count": null,
      "metadata": {
        "id": "kZUhZfWQYdJ2"
      },
      "outputs": [],
      "source": [
        "#Inicializamos el clasificador\n",
        "\n"
      ]
    },
    {
      "cell_type": "code",
      "execution_count": null,
      "metadata": {
        "id": "Y37pXBIaYfw8"
      },
      "outputs": [],
      "source": [
        "#Entrenando con el conjunto de datos de entrenamiento\n",
        "\n"
      ]
    },
    {
      "cell_type": "code",
      "execution_count": null,
      "metadata": {
        "id": "OX-xVTxpYkcp"
      },
      "outputs": [],
      "source": [
        "#Probando y evaluando el clasificador\n",
        "\n"
      ]
    },
    {
      "cell_type": "code",
      "execution_count": null,
      "metadata": {
        "id": "UmHd1AoHOv6C"
      },
      "outputs": [],
      "source": []
    },
    {
      "cell_type": "markdown",
      "metadata": {
        "id": "YTvWEXjIrzHa"
      },
      "source": [
        "## <font color=blue>4. Evaluar/Comparar rendimiento de los modelos ensamblados</font>\n",
        "- Explique sus conclusiones\n",
        "<br>"
      ]
    }
  ],
  "metadata": {
    "colab": {
      "provenance": []
    },
    "kernelspec": {
      "display_name": "spacy",
      "language": "python",
      "name": "python3"
    },
    "language_info": {
      "codemirror_mode": {
        "name": "ipython",
        "version": 3
      },
      "file_extension": ".py",
      "mimetype": "text/x-python",
      "name": "python",
      "nbconvert_exporter": "python",
      "pygments_lexer": "ipython3",
      "version": "3.8.15"
    }
  },
  "nbformat": 4,
  "nbformat_minor": 0
}
